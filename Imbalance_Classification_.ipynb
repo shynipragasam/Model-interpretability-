{
  "nbformat": 4,
  "nbformat_minor": 0,
  "metadata": {
    "colab": {
      "provenance": [],
      "mount_file_id": "1gdN7Q3fyohZrPDFRoZKmmI8POAA12wpi",
      "authorship_tag": "ABX9TyOjMxZsJFduRf4oeX4QpgHQ",
      "include_colab_link": true
    },
    "kernelspec": {
      "name": "python3",
      "display_name": "Python 3"
    },
    "language_info": {
      "name": "python"
    }
  },
  "cells": [
    {
      "cell_type": "markdown",
      "metadata": {
        "id": "view-in-github",
        "colab_type": "text"
      },
      "source": [
        "<a href=\"https://colab.research.google.com/github/shynipragasam/Model-interpretability-/blob/main/Imbalance_Classification_.ipynb\" target=\"_parent\"><img src=\"https://colab.research.google.com/assets/colab-badge.svg\" alt=\"Open In Colab\"/></a>"
      ]
    },
    {
      "cell_type": "markdown",
      "source": [
        "Addressing imbalanced classes"
      ],
      "metadata": {
        "id": "Bb8EO8DdC-lC"
      }
    },
    {
      "cell_type": "code",
      "execution_count": null,
      "metadata": {
        "id": "bNaZ3W-SCV85"
      },
      "outputs": [],
      "source": [
        "def disease_screen(patient_data):\n",
        "    # Ignore patient_data\n",
        "    return 'No Disease.'"
      ]
    },
    {
      "cell_type": "markdown",
      "source": [
        "unbalanced class psychological experiment results"
      ],
      "metadata": {
        "id": "rp1Q4FHWDDHZ"
      }
    },
    {
      "cell_type": "code",
      "source": [
        "import pandas as pd\n",
        "import numpy as np\n",
        " \n",
        "# Read dataset\n",
        "df = pd.read_csv('/content/balance-scale.data', names=['balance', 'var1', 'var2', 'var3', 'var4'])\n",
        " \n",
        "# Display example observations\n",
        "df.head()"
      ],
      "metadata": {
        "colab": {
          "base_uri": "https://localhost:8080/",
          "height": 206
        },
        "id": "zqJrL4FaCc5q",
        "outputId": "6bc7f911-e1f3-4649-aa3e-8fc3a80b3d71"
      },
      "execution_count": null,
      "outputs": [
        {
          "output_type": "execute_result",
          "data": {
            "text/plain": [
              "  balance  var1  var2  var3  var4\n",
              "0       B     1     1     1     1\n",
              "1       R     1     1     1     2\n",
              "2       R     1     1     1     3\n",
              "3       R     1     1     1     4\n",
              "4       R     1     1     1     5"
            ],
            "text/html": [
              "\n",
              "  <div id=\"df-22956b1b-70d8-4b27-87f4-a6639dbbd4a5\">\n",
              "    <div class=\"colab-df-container\">\n",
              "      <div>\n",
              "<style scoped>\n",
              "    .dataframe tbody tr th:only-of-type {\n",
              "        vertical-align: middle;\n",
              "    }\n",
              "\n",
              "    .dataframe tbody tr th {\n",
              "        vertical-align: top;\n",
              "    }\n",
              "\n",
              "    .dataframe thead th {\n",
              "        text-align: right;\n",
              "    }\n",
              "</style>\n",
              "<table border=\"1\" class=\"dataframe\">\n",
              "  <thead>\n",
              "    <tr style=\"text-align: right;\">\n",
              "      <th></th>\n",
              "      <th>balance</th>\n",
              "      <th>var1</th>\n",
              "      <th>var2</th>\n",
              "      <th>var3</th>\n",
              "      <th>var4</th>\n",
              "    </tr>\n",
              "  </thead>\n",
              "  <tbody>\n",
              "    <tr>\n",
              "      <th>0</th>\n",
              "      <td>B</td>\n",
              "      <td>1</td>\n",
              "      <td>1</td>\n",
              "      <td>1</td>\n",
              "      <td>1</td>\n",
              "    </tr>\n",
              "    <tr>\n",
              "      <th>1</th>\n",
              "      <td>R</td>\n",
              "      <td>1</td>\n",
              "      <td>1</td>\n",
              "      <td>1</td>\n",
              "      <td>2</td>\n",
              "    </tr>\n",
              "    <tr>\n",
              "      <th>2</th>\n",
              "      <td>R</td>\n",
              "      <td>1</td>\n",
              "      <td>1</td>\n",
              "      <td>1</td>\n",
              "      <td>3</td>\n",
              "    </tr>\n",
              "    <tr>\n",
              "      <th>3</th>\n",
              "      <td>R</td>\n",
              "      <td>1</td>\n",
              "      <td>1</td>\n",
              "      <td>1</td>\n",
              "      <td>4</td>\n",
              "    </tr>\n",
              "    <tr>\n",
              "      <th>4</th>\n",
              "      <td>R</td>\n",
              "      <td>1</td>\n",
              "      <td>1</td>\n",
              "      <td>1</td>\n",
              "      <td>5</td>\n",
              "    </tr>\n",
              "  </tbody>\n",
              "</table>\n",
              "</div>\n",
              "      <button class=\"colab-df-convert\" onclick=\"convertToInteractive('df-22956b1b-70d8-4b27-87f4-a6639dbbd4a5')\"\n",
              "              title=\"Convert this dataframe to an interactive table.\"\n",
              "              style=\"display:none;\">\n",
              "        \n",
              "  <svg xmlns=\"http://www.w3.org/2000/svg\" height=\"24px\"viewBox=\"0 0 24 24\"\n",
              "       width=\"24px\">\n",
              "    <path d=\"M0 0h24v24H0V0z\" fill=\"none\"/>\n",
              "    <path d=\"M18.56 5.44l.94 2.06.94-2.06 2.06-.94-2.06-.94-.94-2.06-.94 2.06-2.06.94zm-11 1L8.5 8.5l.94-2.06 2.06-.94-2.06-.94L8.5 2.5l-.94 2.06-2.06.94zm10 10l.94 2.06.94-2.06 2.06-.94-2.06-.94-.94-2.06-.94 2.06-2.06.94z\"/><path d=\"M17.41 7.96l-1.37-1.37c-.4-.4-.92-.59-1.43-.59-.52 0-1.04.2-1.43.59L10.3 9.45l-7.72 7.72c-.78.78-.78 2.05 0 2.83L4 21.41c.39.39.9.59 1.41.59.51 0 1.02-.2 1.41-.59l7.78-7.78 2.81-2.81c.8-.78.8-2.07 0-2.86zM5.41 20L4 18.59l7.72-7.72 1.47 1.35L5.41 20z\"/>\n",
              "  </svg>\n",
              "      </button>\n",
              "      \n",
              "  <style>\n",
              "    .colab-df-container {\n",
              "      display:flex;\n",
              "      flex-wrap:wrap;\n",
              "      gap: 12px;\n",
              "    }\n",
              "\n",
              "    .colab-df-convert {\n",
              "      background-color: #E8F0FE;\n",
              "      border: none;\n",
              "      border-radius: 50%;\n",
              "      cursor: pointer;\n",
              "      display: none;\n",
              "      fill: #1967D2;\n",
              "      height: 32px;\n",
              "      padding: 0 0 0 0;\n",
              "      width: 32px;\n",
              "    }\n",
              "\n",
              "    .colab-df-convert:hover {\n",
              "      background-color: #E2EBFA;\n",
              "      box-shadow: 0px 1px 2px rgba(60, 64, 67, 0.3), 0px 1px 3px 1px rgba(60, 64, 67, 0.15);\n",
              "      fill: #174EA6;\n",
              "    }\n",
              "\n",
              "    [theme=dark] .colab-df-convert {\n",
              "      background-color: #3B4455;\n",
              "      fill: #D2E3FC;\n",
              "    }\n",
              "\n",
              "    [theme=dark] .colab-df-convert:hover {\n",
              "      background-color: #434B5C;\n",
              "      box-shadow: 0px 1px 3px 1px rgba(0, 0, 0, 0.15);\n",
              "      filter: drop-shadow(0px 1px 2px rgba(0, 0, 0, 0.3));\n",
              "      fill: #FFFFFF;\n",
              "    }\n",
              "  </style>\n",
              "\n",
              "      <script>\n",
              "        const buttonEl =\n",
              "          document.querySelector('#df-22956b1b-70d8-4b27-87f4-a6639dbbd4a5 button.colab-df-convert');\n",
              "        buttonEl.style.display =\n",
              "          google.colab.kernel.accessAllowed ? 'block' : 'none';\n",
              "\n",
              "        async function convertToInteractive(key) {\n",
              "          const element = document.querySelector('#df-22956b1b-70d8-4b27-87f4-a6639dbbd4a5');\n",
              "          const dataTable =\n",
              "            await google.colab.kernel.invokeFunction('convertToInteractive',\n",
              "                                                     [key], {});\n",
              "          if (!dataTable) return;\n",
              "\n",
              "          const docLinkHtml = 'Like what you see? Visit the ' +\n",
              "            '<a target=\"_blank\" href=https://colab.research.google.com/notebooks/data_table.ipynb>data table notebook</a>'\n",
              "            + ' to learn more about interactive tables.';\n",
              "          element.innerHTML = '';\n",
              "          dataTable['output_type'] = 'display_data';\n",
              "          await google.colab.output.renderOutput(dataTable, element);\n",
              "          const docLink = document.createElement('div');\n",
              "          docLink.innerHTML = docLinkHtml;\n",
              "          element.appendChild(docLink);\n",
              "        }\n",
              "      </script>\n",
              "    </div>\n",
              "  </div>\n",
              "  "
            ]
          },
          "metadata": {},
          "execution_count": 4
        }
      ]
    },
    {
      "cell_type": "markdown",
      "source": [
        "The dataset contains information about whether a scale is balanced or not, based on weights and distances of the two arms.\n",
        "\n",
        "It has 1 target variable, which we’ve labeled balance .\n",
        "It has 4 input features, which we’ve labeled var1  through var4 .\n",
        "\n",
        "![image.png](data:image/png;base64,iVBORw0KGgoAAAANSUhEUgAAAeAAAAFACAIAAADrqjgsAAAgAElEQVR4nOydd5wURdrHn6eqe3pmdnc2k5QkCIKJjHBG1DOjp553euZwnp6eAUyc3qmnp2e85GtOZwIDJgwYCQIiqATJGTaybJw83VXP+0dN2t0hSZqB+rKfZbanp7unq+tXTz31PFVIRKDRaDSa7IPt6QvQaDQaTWa0QGs0Gk2WogVao9FoshQt0BqNRpOlaIHWaDSaLEULtEaj0WQpWqA1Go0mS9ECrdFoNFmKFmiNRqPJUrRAazQaTZaiBVqj0WiyFC3QGo1Gk6VogdZoNJosRQu0RqPRZClaoDUajSZL0QKt0Wg0WYoWaI1Go8lStEBrNBpNlqIFWqPRaLIULdAajUaTpWiB1mg0mixFC7RGo9FkKVqgNRqNJkvRAq3RaDRZihZojUajyVK0QGs0Gk2WogVao9FoshQt0BqNRpOlaIHWaDSaLEULtEaj0WQpWqA1Go0mS9ECrdFoNFmKFmiNRqPJUow9fQGarIaIAAARiUhKmf4WIjLGkjvsmevTbBEiSi87xpj6U5dXroCqgmk07UmKrxCCc95+B7Vda3R2ooRYSskYa7NxD16VZrvQFrRmSyTVORwOT5kyZf78eY2NjYWFhf369T/22GOLi4tV/dfNfLaRrs4NDQ2ff/6ZaZqjRh1fVFSkNTqH0AKtyYyqxkqd58z5buzYsd9+OwsA8vPzA4EAABxyyKEPP/zIqFGjNmdfa/YsyVbzzjvHPffcc0VFhV99NaWoqEhKqcsrV9CDhLmHqnhSSsdxhBBqi9qY/C2EEEIkq6iUUrQjuXP6AZW/UgihfnPO16xZc+mll8ydO+d3v7twypSpM2d+O2XKtN/+9vxly5b+4Q+/X7NmDee8jXtak87uKS9VZMkdVOPKGHvrrbdef/31zp07FxT4GNO6nGNoCzr3UOM8jDHlW0wOBCXfQsSkiaSqa7oXMkmyJqvXyQO26f8+/PA/Fi9eetFFF77wwovJjSNGHFFfv+nzzz9/992JN988Rrs4tsDuLK/kDkIIwzCqq6vuuOP2/v37G4axYsVy7dnIObRA5x7KsfjVV19OnTplyJChZ5wxOt0RjIiNjY0vvfSi4ziXXHJJhw4dEdHv93/00aQZM2ZUVVVyznv16n3CCScef/zxkKYIn3zy8axZsy666OIOHcofeeSRJUuWjBkzdsSIEYZhDho08KqrrgKAWCxmGIZt25ZlHXfcqMmTJ69YsWIP346sZ/eU19KlS26+ecyIESOllIiotHjcuHGVlRVPPPHE008/tXjxIi3QuQdpcg3VsX3vvfcAYOjQwYFAgIhUF1i99c477wDAiBHDg8EgEa1aterYY482Tbb//l2GDRsycODhPl++1+u++eab1AFt2yai66//IwC88sr/zj//N+rZeO65Z9UOsVhMHTl9/3/840HDwD/96frkeTUZ2c3l5TiO2uH1119DhNtvv42IRo06tkOH0iVLFpMurJxCC3Tuoep2MBg86qgjfb78r7/+iogcx0k6Ja+44jLDYP/973/U9lNPPQUA/vCH39fU1ESj0Wg0On36tAEDDrMs8803JxBRNBolonHj7igrKzn77LNGjBg+adKkOXO+q6qqTJ6OiKSU6rd6ceaZZ5gmnzBhPOk6v0V2c3mpY65bt65Hj25Dhw5R7cHxxx/XoUOZFuicQw8S5h6MMcdxvF7vqFGj/P7AJ598AgCqL8Q5r6jY8M0333Tp0uXEE38JABs31hYXF59wwvFjxtzSsWNHxhjn/Mgjjzr//AuEEJMnT04eFhEdx/7xxx//858nTjvttCFDhnbu3IUSDtPkCyEEIr744oufffbZUUcdNXr0meqS9sy9yAV2Z3klo55vv/22jRs3PvLIo3l5edFoFJEB6HGC3EPXq9yDEgNBp59+enFx0dSpU/3+Fs4NFSEwderUVatWHn30MX369JFSdO7c5dVXX/v88y969+4NAIZhqPGoww8/HAAaGxsgMcrEGA8GQ4MHDx48eLBt28rES3otVVAtERmG8e67795669gOHTo8+uhjbrdbSfYeuhk5wG4rLyJSRfbSSy+OHz/+lltuPfroo4UQhsG1OucoepAwJ1FW0qBBg4cPHz516tTvvpujRpAA4KOPPkJkZ511FgAQxZP9YrHYTz8tXLFiZW1tbSgU5JwvXrzI7XarwCylroggpezVq7c6fnqobHoy4VNPPXnbbbeWlZW9/PIrAwYMFMLh3CCd+7BFdk95qciNVatWjht3x4gRR9x6621EBABCqCBITMbhgU4pzBG0QOceql45jmMYxqmnnvbpp5M/+eTj448/3jTNVatWzZjxTb9+/Y499jgAUAbv1KlT7rnn7u+++w4RysrKXS6XYRhSStM0pFR1NXXwgoIC9SLp00iqs5TytttuffzxxwYOHPTCCy8eeuih6hp0Vd8yu628VAs6duxYIcQzzzzn9XoBgHPOOVdBI3l5eQCgiyyH0AKdk1AiVPakk07u0qXzlClfNzTUl5SUfvnlFxs2VPzmN78tLS21bds0zSVLFl9yySX19ZuuvvoPl19+RXFxsWEYxcXF77478aKLLuS8rY8r3aeRrs6BQOCKKy5/8823zjrrzKeffqZDhw5Jdd7dXz4H2Q3lpfIDn3nm6U8//eSqq65yu90//vgj50yVYCgUYowtWLAgFAoXFxd36tRJa3ROoAU6V1FO4QMPPPDoo4+eOHHi3Llzf/nLkyZN+jAvz3Pmmaq/TAAwfvz4ysqKCy644NFHH2v9cZZM/8tYTykxmQPnPBKJXHzxRe+999611/7h3//+L+c8XZ11Pd8WdnV5KSZPnmzb9oQJE1544YW03bCgoMDlcl1yycWNjc0PP/zQ2LG36ITvnEALdE6SzBZjjI0efdYbb0yYMWPGIYccOmvWrKFDhw0bNgwSfs/169cBwIgRIwEgEomoOmma5mefTU6GXqiOc3uSRtbNN9/07rvvXXvtNU888X8AEIvFlMdT7aYnsdwqu6G81CkuvfTS4cOHW5aV/paU8pVX/ldTU3PdddeXlJSog+vCygm0QOcqyV7zcccd16NH99mzvy0vL2toaDjjjNGmaTqOo2pgXl4+IlRXVwOA2+1Wn50wYfzkyZ/6fL5YLAYALper/fERUZnJb7454YUXnj/nnF8pdc64v1bnrbKry0t5mc84Y/QZZ4xu/+6nn35aUVFx5ZVXdevWLf1iNFmOFuhcJWmUdezY8aSTfjlp0qSamtquXbuecsqpkKiuAHDsscc9//xzb7454ZBDDhkyZIjf73/11VcmTpx4++133H//fatXr/7yyy8OO+zw8vJyNSNEUmfVgFU4HH7mmae9Xq/Xm/fIIw+HQiHG4jFbSsGLi0uuvPJKr9erNXrL7IbySoZCJk+qhNhxHAAyDK6mIdRDu7nEzs580exWVPTrp59+4vFYhsHOPfdsIlITmyUT/26++abCwnzT5OXlpV6vu2fP7h9//DERnXPO2R6PyzDwsssuIaKxY8cAwF/+cpc6rMp/W7NmTffuXVWqMWNgGMh5/Mc0OQD06NGtrq6O0hIONVtg15VXxtOpY9q2PXLkER6Pa9Gin7awsyYL0Suq5DCUGKOLRqPz58+PxWLdu3fr2rUbpc15pl7Mnj170aKfwuFwt27djzrqqKKiIgDw+/0zZswIh8MHHXRQv3791qxZvX79+h49enbv3j39yAsXLozFopzzdtloSCQty33wwQebpknaItsau7S8Mt58SsRKLliwIBAIDBw4UPd1cgst0DlPm/rWZqY0yhRooXL/0r2Q6QsjtdeL7b0GzRbYdeW1LafTJZVbaIHObZImUiLHLL6Qa7rCUuv1XpNVPemvVFtUL1vNMpyuF1udjF9HcWw7u668tmxB60VjcxQt0BqNRpOl6FAbjUajyVK0QGs0Gk2WogVao9FoshQt0BqNRpOlaIHWaDSaLEULtEaj0WQpWqA1Go0mS9ECrdFoNFmKFmiNRqPJUrRAazQaTZaiBXrfQs1hCABSxl/oXP9sRpfXPo4W6H2I5FQ7UkrGUL1IzqCmyTZ0eWm0QO9bIKIQkjFWUbWxscnPGBO6zmcxurz2cbRA7yuoSSYdIThnlVV1t/316X/883XHEZwxbZdlIbq8NKAFeh9B1XYhhMF5Vc2mu+5/vqUlOG/hinsfekktNa3rfFahy0uj0GW8HSSnP8/FmyYlGQav3dhw533PVVZv8nrcAOD3B38x4rC7brlYyUFOz+OOiG1mo9fllc20Ly9Ne7RAbx85/TzVbWq6877n1lfU5nndQkgA4Jy3+IPHHjlg3JiL9vTV7QTal44ur2wmp0tn92Ds6QvIJdTzFInGamsbGGMEOdK2ETCGwVD0iWcnVlRuLMj3qnEnACCiosL8aTPmu0zz/HOPF0JCDtYXIjBN3qlDSZvFn3R5ZSebKy9Ne7QFvR0IKTlji5euvf3up/Py3FLmzK1DgGjMJiKXy5RSYutqjQwjkZjLZRqc5cxXSoCIsZjddb8OD959tcdjpVd4XV5ZyBbKS9MebUFvDwQAIIQIBEMAsNXVVLMHAmCIgBAKRQAR2tmSDFkkGiXKPYMMEaMxOxSOZDCQdXllH1sqL007tEBvB6qld7tdPbt39npyySJLsOULzrnKDgCACLYjykuLpGj77XR5ZSFbKC9Ne7SLYztIBj+FwlFE1BZAVoBARIwxr8fKGMWhyyu72Hx5adqjBXr70M9TNrOXRXHs9ejS2SraxbEdJONq9/SFaDKzuTjoPXtVms2hLeitoh9fjUajyVJ0qrdGo9FkKVqgNRqNJkvRAq3RaDRZihZojUajyVK0QGs0Gk2WogVao9FoshQt0BqNRpOl6EQVTQ5DRAhAiEAUn7mCAIAglfugZ4XX5DA6UUWTYyTXuiaSkHh6ERlkkmAiCSTj8wqpfRIf331XrNH8XLQFrckZUoYwSSJCZiQndCMACjVALAAiCtIBZoLpQasALR9gyo9H0gFAtUWb1ZrsR1vQ203aDA8E7e9e5jrfdqPud28XqXtOAlncqqBoQNYukFU/iOofqGE1hRsgFgAnCtIBboLhQasAvWVYfhDrPIh1HsA6HqI+Gze9kelS0GQ5WqC3gzSZkICIuP1DrETxecp3/LZnkJUMQpPrGtRemomkXDvNWfS2XPeNrF8BThQQADkwAxgHwLgfgySQAOmAkmPLxzoczA8YxfufwzsfDgmZRsZBW9OabEUL9LaSbjgraZb+DRCqIRkD5kLigC5gBnAOaABTPxxZ4nVCQXaTDKiWYCc0A5BJ93dHS9Da1wzIGEnHmf+688PzsnIOOFEwLDQ8gAxatXnJr6z8zhh/TYLsEAgbrEJ+wHHGsGuMXieAcnogz/VmTLO3ogV6m0ios1TSLCqniKX/o4ZFFKkDtZAScZAusg0kAzgHZgAawJQoG8hSr5VSIzOIu5C7gFvAXRB/7Up7ndhuuIC7gLnAcCEzU6Zi66Mlm4TEdpZrLcFmXEMJw9lZOsme/oCsmA3MQDMPkAFJANoWYY3vgwwAQToUCwAzeZ9TzWPv5J0HAABJgYyTHj/UZBlaoLdOujoTgDPnXrH0JSACw4vMjCsLCQBJkihIEAM1agWt/NTpf/7ce44cWNxCx6QWp0Q5vSXgyS3ErbjKt24JkFvETWzbQljAzXaGf/yAmHyNyRe7vCWQwbrYZ7eJ+a8BMnTlA1B8kHD7lTSl1EQUbQGrwBxxk3nsnxEZSQeZoex2rdGaLEEL9NaJG1YAgGjPukMsfRndZcA4OSFwInGBNryIBoAkAAgCxDKZhDte7dO0nrYg/TunJUh4abB1M5DeNmDr7Qmtb9sSGJvZzi1CntbSpNoDZByQg+kV66bHPvoTbVqKnhIAICkgo4BmEmwCQKL2tz0h0xykQ5Fm1ut468xnWXEPkg4wA7VLWpM1aIHeJlQX2FnxpjNzDFolQES2H30HsC5HoVUim1dQ1TRyQsjdAJIkkh9QAuFOXddzs7Kxi1qCuNbT5qS/TfPw80hTeUwz/IFx4C6KRWTVPJA2mnlAos0NyLjAVfK1alBTb7UT6/jHmUHhRizsap37Ku82Umu0JqvQAr114i4OOxT75GxqWYWGl2w/P+AcY9g9aHrVPrJ+kf3NjeRfG9foCFIYEJUw7NnL306IADHTVWdsGnZWS0CJfwnpR6RQM4Wa0PQAMpJic9JMMtE8ICJjoDwuBEQShExeZ5t1sFIHAkBmkB0Cw22d+4rR59S4RmtfhyYL0AK9dZT5LKpn2F9chKaP7AArH2ie/BYmEx9AIjPFxu/tLy9RZhoJID9k1DlNnM22BADIKNwiQ82IrM0wYFquCsUl1GWA24VuC00DOANEUO2ilCAkxWyKxCAaI9sBAGQZUlSICBknEQNk1m/fMXodTyIGyAFRZ4pr9iw6k3BboYbFICUggrRZ798gAEkbmQlEBIykwzsMFh2Hy4qv0FUATCJHcIh2tp9j7wFbRfCR8j8QITKK+GWoaQvqTFICQ8zzYoEX3RbyZEA6pUXZcQBErxsAyHEoHKWWIIVjAPFxzeTREJGkQO4iJxp75yK8cBLvMihxRklSQnx2D6T4FeoC1ewmtEBvKxRrjssJIvP1AABApio5AhAhAGD+/nHPLBI5ESBXPO2NaBsDwvZNkjHmiIycqAw2qVYtgzoTERF63VjiY24r/oaUmQ4KSc84co4FeZTvpWCYGv0UiSFvlUYY12jDokhL9I2zjSGX866/wPJ+rKBLKptcCiAAxLjvQ/tANLseLdDbChpxdzMQUWgjAKgMCiklYwyVHoTrAVXn3WBlPamxisKbABkwEw236l9rsW5PUiuJBAUb1ab26kySgCErK0JfHiKmdHkzcpnUfSJSTSjme8nrpoYW2RQAhAwabbopVG9Pf1j4XsS8Tljal+03jO03jJX2QcuXOrIUFL/InM/V1GQzWqC3FSzqAwAABMjFmvd5j1MlcBYPApaEBvnXU+1sMLwkY5i3v+uklykakFVzZMUsufEnaloLTgSQgWEhdymrWys1JAbqAAAAKdRCjo2MZVJniaaBHUuYxwIh0/IMKa6v7Y6cUt5kFqiUiIjlRWCZsq4JUpZ7a18HABGHaDOtmyrXfg2GhYXdWXl/1vUXrNMALO6lEsShtQ9EO6w1Ox09SLh14ikqkYbYx2dReCNyFzkhduiNrsOvW7xo8bczv73g4ovdRiz65ZVU+y26CinSwHufZ/7i4dQRYgFZv1xWzpaVs2nTMgrUAEhAAw03qKq+b4t13LlhR6W/LrMVLCW6TNa5DE1DCeLPkMK0ZH1AzmQwImvq22h0fOiSCBnHwo6YKB1yIiBtIAJ3ISvujZ0G8K4jsbw/K+iSOr4UAKqtYdoHotkpaIHeJuJx0AufcL5/AD3l0omZEGkuOu7XD66Z+/2iG6745d/OqA9VLeZuH0kHAFwnv81K+iViPCBpcAGA9FdR3WKxYQbVzJMNKyHaAogqayORlPgz0+RykWQSECGSfxPZEcSU+ZzyTRucdSlD0yQp457ozTs01J8ZFbytRgfCsqZeGc9tTyolegpYXlH8jGoOJgCQgpwIkAPAML8TlvZh+w3P6ANRF6HNas2OoAV666R601LYX14qK7+WVpnXEre/Gnz1W6vE5/YH/M9chicO8gZDgttNxrC7jf5XkhTAuHJ9EgCQBHWUxBx4JB1qWClrfpQbZsq6xdS8DoQNjAO3kJvqxPuCWZ0wnyPSv6nVN03EdRAA61LGPG6llW29H4CEBMlcGQQEpGQ4B0JKkdP1FwCIkDPZFJB1jfHhgTaXxRjzdVBzdLQWcQbx9P4YOFEguWUfSGLcWIu1ZrvRAr11Ws3FEW2KTLnO0zjt0yWF177MLBNNTv4I9u5AE66JFrhsOuRG1+HXtzfx0my3eA5eullNkSa5aZms+FZWfUf1yylUBwDADDTc8fnmiQgoY+JyTkOJNaso0ECxUAbzWUpWUshKfSQyqXN8JlJAA0HdTgkkCXkiuNEBEtRmPDBlmAMQY7KmngKhdMd3yoj2FjKvj6RsY64n9kyY1dvlA4H42i7aB6LZKlqgt4lUjAFyBtAw69Ff//HpRTXu43r5Lz1S3jzBaoqYV59U+JdHHxIlR/JExctoKyUlCdScxQDQxgfSvEFuXCg3zKDa+bJxNcSCgCw+o0X8EHuJDyTVNRGObNmY3vwkwzbQbbIu5e1vZlpkHoIJslnKDVLWSBmQIAAMYMWMdWZ8P45ehBgQUGaNZkgxR1bWJVwZrS4PuYm+DGdvu5v2gWh2DTqKY5uImzvIybHBMB//RC6tsEuLC2665aZhIzr9Rnzz9MsfvT7DfdLqwuElIITghrG5KofJBA1EApaIA0t2hBkr7MoKu8KBp5ITpYYVsup7UTGTNi2llg2g3CaGe+8Ir07cVSQ7AlJCmg2b+EaERQXIWBvnRkq+TaQY2XNtsUxQQN1A9TmQGyQsBCxG8zDT6GcgIcmURqdOLQktE3151NACPO0U8ZbDRicGpnsL9zl5qfEYbUQ08+I+kEgjrZsm104Bw4WFPVh5f9Z1JOs4AEt66zgQzbagLehtQtUZx3EMw/jqy69/f9nVkUhszK033jT2RgAIhSPnnHHu/B/nDRk2+O3333K5XD+jjm3FBxLaJDctlRtmyeq51LCCQvWACMxEw0r6QHJOrFP+jcTwYKt3W5vP0MaJLAlNlE0y9mVMVktwAWZaC4EcAgd4X+462oVGK42OX4ESYseRFa2N6Lh8txkq3J6vtiUfSC/sNIB3/YWOA9FsGS3QW0dVNpWQ0tLScvbo8xYvWjz8iGFvvTveMAw7FjVd1tQp06+89OpwOHTT2BvH3HKjkvKfJ5cZfCAIiAmDC4Aa18ja+XLDDNq4UDatBTucDK9OHCI3fCAJqRWyZSOqNPr07UKy8iJWXKC8z20/yFG2yOhHUWoidCPIDDNsgFI3BAoT78ldJ7nae7Hj+eWMidoG8geRMWjlaZFoWOgr3xGt3DYfyFBW2lf7QDRt0AK9ddQtklJyzu/6893PP/NiUVHha+NfHjh4oBCCc65+3zXury88+1JxSdFrE145fMBhauMO1qsMZjWylHzYIapfLiu/E5Xf0qZl5K8CkvGhxVwIr07Eb4Slf5NaDKGVvjLkXcrRMkm2Mp/VawKKfhyVGyS6kcTWHMQMKETGQMN1lIuilFgMK609YEwGQrKmHln7y2CsoBz5z2xuM19P+zgQ7sKiHqy8P9t/JOvU1gei40D2WbRAb4XWzo0pV19xTTgcvnnsjTcnzGQAUMZ1U1PT2aPPW7p46S+O+sWEd15jjKV3zHfWlWzOByIDtVS3SGyYSTU/yoaVEGnKFF6dRTEgiZvDZMRPamqkdNNVSvRYrEsG05UkoYXOQic2NYZW3GuxxTPFFZeIrDMs3omT09qIjns5hKzcmG6tq88RESsoQ9NNtH1ejq1+/bY+EBEBoX0gmlbwu+++e09fQ/aSdG5wzv0t/uuvvbGyonLY8KGP/ushxlhyrIkx5jiO1+vt2KnjZ5M/X7dundfrHTpsyE4xopOkj54hIqjOeMK8YlYBK+7Jux/N+/+aH3Ai63goml4QNoU2gVosFTlyo40bYcevase/DkVDIGKI2Kr1IMI8D8vzZAjeYEgO2d/YFCY1L91WvgjGPwUxAAKjlwFOqwsApXicUSgCtpM8WiKqhNB0o+EC2Jl3LO1QRCQRAdWELYYbpSB/JdV8L5Z/KFd8LNZPJ38VIKKrAE0PIkNkiAhSxEcWf1ZepSYn0Bb0lmjj3HjhmRcLiwpfHf/SoMGD0sU3fbexN976+mvjyzuUv/nOG30P6rNzNTrjFW5paDHaIjctk5WzZeV3VL+MgrUAAIwnFsPekz6QlAXt30R2uN0IoWRlRayoIJnYndhO6EJRJaIfRrd3NUQShAXoPtONnrZ2N7VxQ7e6TomeQubx7VwLerMXqX0gmjS0QG+WdOfGlK+mXnX5H8Lh8E1jbxhzy01txgDTRxE3btx49ujzVq9cffwvR73y+kvJ27urK0yrocWMPpCWSqr7SayfQbXzZcNKiPnj4dV7KMU8FcLRUkdONINAdypl+d424RPb7d9oc1JB1miLd+EUo6S+x5sKxmR9k2z0ZxBodwHzFu0egU47b3sfSBRErLUPZCSWH6xzYfZitItjs6Q7N6675obKysqhw4Y8+s+HOOeYILln0tFRUFBQXFz05edfrVmztqS0eMDAAbvaiE5eg6qI8T47Y8qDmvKBuAtZSW/e8zje71x+wPGsvD8YbhBRCm0COwzSAcaR7VYfCCICEERD0HpFK3V65stH04A2l0GABorVQlZLNHDbF0OIezlsMHoarISBgPTiU78pEqNwtN23JuQudHl2rotjq2TygRjtfCCTtA9k70YnqmQm3XfxyEOPLf5pcVFR0V13/9k0zfaCm9yZM5CO/atzzvpi8ufvTvzwP//6v2OOO6ZHj+67R6OTpHlXMZlBl+wIIzexvD8r728cdiGFG+SmpbLiW1k1hxpWUKgOAFUcSGoit12XYh4fvtvuPtzP6PYlpfxndRn3cC8z8dik58J4VYmkcmG26APRuTA5ihboDLRxbrz+6nhkePmVlw4eMiju3FC7SaEmP0o98WgQAwC4476/z/1+/oZ16//+twefef5JFe2r3L67uW6kzEM1tXx88opEirmnhHcdybuOBADZtE5uXCDXz6CNC2XjarD9qRTzuD7sdB+IUujNR8ht7kt5tt/MRwACYICutvunJHuz2p1FWpYUa+X8QWaC5VIbqHmdaFghlr4HViErae0DSXwDkkJ9S9JxILmA9kFnRjmUA/7A2Wee99OCn4YOH/r2e+NN00wMx8l4snV6nFa4wVn4JpAjHMdd1vG16c3j7n4cpfPQY/8477fnCgAOQNIBZIBsz1aM9kOLoDrF6l07TG1CMsMAACAASURBVA0rRNVcWTGLNi0lf+WuSDFPGySsy5RGKFl5MSvMzzBIaKFYK6IfR9HYzkFCSehG60yL+Vib0On4IOHGBmrJOEjoY57C3eyD3i42nwuDmN8JS/uyLsPYfsNYmc6FyTG0Bd2WdOfGw/94bNHCRUXFac4NxpTCkhRi+SesQz9W0ouEDdyULdWxyWPBDhNR0PL97rofvpy58NP33/vnY/898ojDulhNovQw7nKnzrHnvuNWfCCmBzsexjoeBgMvp+BGWbdEVsyU1T9QwwoKNyZSzHd0Ba/kTYa0kcxW2E761SY+BuAAK2foQ/JTxvTu9sQd0A6wUsYKGTnU9l0AAgJbtPkYxG/UZq4wa9iiD6QpzQfSnZUfzPYfwToNxJJeaUaG9oFkKVqgW5Hu3Jg6ZVrSuTFk6CDHcQzOAVE2rnEWvyuWvCtWf2MedaN1yuPqs+guRHcxGG4kkmY+5JXcee/f5s2etXZD1QNjr/3XsO8jvr7m4ecbB52FRd2yp2u5JR8IIuZ14HkdeI9jiIgaV6kU88QKXtEdWcEr1XVjmR9CitkEhK2bM0QkQZiHvBd35jpgwDYFcmD8Nz+IAwMgaBPCAYjgCHCcdFd76rg82wU6nS36QNaLhpXaB5JD6CiOViQjNwL+wPXX3FBRUTFk6OBk5AaQQGT2d0/GPrwNYg3osshfbQy6DLiLmtbLitli2QcgHQLJGBPFfct79eLcM3367FU1ga6F8vD8dYEfJ2HTSvPwCyg+XVoWmSqt40Aw0dOPx4EgInpLWXl/3uskftCvWI9jsbgnMAPsIIUbQERACmQGMr6NcSApK54ExcLtbwUSYZ4XOUvfn4gAAQlZKRPrBYUIja3cQyJCjhQh3pO7hrrIaZXqHZduxigSo5YgIqZWSARlRHN0F6i7kSUltY1sKQ6E0nNhPhLrp1FLJQCila/jQLIK7YNOoZ4/FXFx911/e/ap53yFvldef3HIsCHCsblhqjn7Zd2SyIsngBMGQJI22384OBGqX0nRFuCuhI5IEjbzFDPffpe+4p+2zuxdbL9+dmM52wQn/dsafo1aQyvuVUgfZsw+tpJivgMreMWP3H4yaCAEJClZxxJWkJceCk3JqexcKDaI6CdRIECemLa/9VkoORFHlLAIrdMtlt/K+0xpkyXJTU2y0Y+83WRJ3LXVKaFzizYOaxI2OJFELkx3VtafdR3Z3geic2H2CFqg46Q7N6ZNmX7lpVeHwuEbbrz2ljtuSYzvCUhoU+T1s8WyD9FdCCQpFgIEMNyIXPXxIWGECuHkseiP9b5LJ3VoiBjn961/5Cy3c+V8w/KSsAFZeiBU+mIi2Qkl1w8E2CkreG02V4UAEEhK9LpZlzKU8Wc0aUTHNdpCZ5Vjf21ThNDC+AfTUa7lKLFS5vqli5UylZ+SuoZE/52klBUbyUkLx1bTjZJEK4/llRC1XVRlL2BLuTCWj5X0wo6J+UB8+6U+pXNhdiPaxREn5dwIBK+75oaKiorBgwc89n//4dHG2AfXsg4Hs7wyREaxgD3lPrH8I0i6R003clfC7Zc+GTwwxiNg9Sy2IzbOrnSvbDJ7F0b7lgacjsO56UZkcuPi6OTbeI9j0PSQFOmrLmUh6qup/zL4QJiB3jLW4VB+4Km875ms+zHo6wrIIOanSCOIqAp9SfpAKKH1yBgJB+xoWrQiAAACkuOgx40uExJWfMIvgcAAHODlnO/HpV9SI4GTEGgCkAACwAFAMA4yXKNcrJCR3UqdKTkGyBm1hMgfQsaU8Q4pBzQxjw+5qYo7i+aa2hls0QciyV9FNT+I5R/KlR+LddPIXwmA6NI+kN2KtqABWjs37vnL35556jlfQf4rb00YMuiQ4PPHw8qvWNeB1oUfUktl7P3fy5r5YPnia4lu7XEkAobkSLzog/Lvqt39SyOvnbSiuOcAdsazLK8s+uoZonIhP+hk9wUTExqdS+NRkGYFw89bwYsIEMiOypa6tnFvar78PA/rXIZSxl3DaUY0qMg5E0mQ3CCd1Q7VE0UJJAAH9CDryHgvzjtzEECirTonBYWklJV1pKZJSptslIiQcfR1wJ09MWGWs20+EJULo30guxYt0K2dG1O/ufLS34eCwT+NuenW264NPD0Kq75DbwlFmrCoJ0SbKVSP7kKQTvtMwlRXEUBFbREQAgmJ+S45q8J95cdlzVF+xcDQvcPX+o2O3Mqj5vXoLqRQPet2pPv8t9Fbqnwde+pW7CCZwqvTfCBbWsHLlP46NVTY9phqUo4Cb5tFY1Ph50QICCYAAkWIwgQEwAG9iCaCBBVU11YyiFSjgpzJTc2ysSXzorGefOYt3iv9G9tC6o4lVy7O4AMZieUHax/ILkILNEAyLSUQPPfM8xYsWDhkyKC3P5zoitWHXj6Fauaj2weA5ESAGcgMSps4gogQGSADIBIxEHbCOcuAm8hdypkqJBVY8v4ZRU/+4Msz5VOnNB7Xzd8SIcO0AIgiLazzAOvCj1h+h5wW6HS2PLSYWMFrpqz+nuqXU6SJokGKRZCZyXyQlJHLOduvHE3edsGq9LMksm0gefNEPOQD2qlz6siMyVBEVm/K4L5QRVtQjoapegl7mX9je9lKLkxJH7bfMLbfMFbaF92FqU/pXJgdY18X6HTnxr1/ve/pJ5/1FRT87/UXhw4fKgBYqD4y4Tdyw7eJFbWptZHFABk5YbDDwEz0dca8DmDmAQDEAhTcSP5qkA6YHjA8HETIhgvf7zBvo2tAh9hrZ9V5DBAE4ERZ1yPcv5mA3tJcdHFslQw+kLYreK2WtQvkhpnO/PEUacqg0Wq0sHMpAqa0tY0/BJCQ2g8Sqq1thiUhoc5k26JqEziijW2OanjQ5cX8UlQLumgbMI2t+EDUfCBqbVxupD5DMssDlrKQfVqg050b06d+c8Wlvw8FQ3+66bpb7xjr2DGOhIZl//hy7N0r0FOUdLDGh/6ZQSIKsSCW9eUHnWH0PglLe6O3DEwvAEAsSKFNsn6lWDlZLP2A6lcIM9/nMb5cbV77aXnQwWsHtYz7RZPfNlmk0fWrF8yBF5OIATOBBCDL/oiOn0cGszptBS/npzejb1+Ili91q9M1Ot/LOpak8la2v+OcdnZAxshxZHU9RWMZxmZV8+srR27ulQWxs8jsA3FiAAReHyvrjaW92X5HsLLDsag3Kle1NqW3h31aoCHh3AgGQ+eced6CeQsGDx389ruvW26PGiuS9SsiL51I4QZkJoCM3y5ERE6RZvR1MUeOMQZenN6nSxsqSWwIN9o/vODM/KcT2Ojz5d/5le/FBQWFlnz+tLoj9o8FwoLnlbov+4KV9Eo7Rg5E3e0grcVaAgAyIzL+PLFkIrqLSTrYxiMhJOZ7WMcSZEzlJW+7f7OVFa/CNqK2rKmnmN1GndNsdh/zFpJaynavLoidAwGh+odoIVgAKEBEgAQQgauQlQ/kB1/NO49MhTbqu7oN7Lthdur5UAL94P3/+PijTwoL8v/5zLPd2PLAq+dxlxeLe8YmXScrZqOrgEgkgucQkVGkiR94snX+O0bvE9Fwk3QgQzun4s8kuvJ4t5G831ly42Kxccnh+xtT11kVfmNds3lar6BhumSghlqqjEN+TXbEmf8KRAOsuMde44zeHJjMJFTuaSJExroMEj+9RU4IWWo9BAQgQGRIMRtCUbBczGXE0/xgKzLdRgUQUa0PS7UNZLeNa0z23NF0Y14pIqpgsriZvy0/oK63zU+7q0qlKe4VChXPLEJCQC+AmxAlIkfuRsODhgdJUvMKueZ9Ask6jYiHV+4d330Xs49a0OnOjW+mz7j84quCweCfbvjjbX++NfjKmbDkA7DcWNgVQg2QlnlGRMgMijQZgy53nfk0Ku8b48rahdbPXFqYgQQpVLJG8J0r8pa89FFFlxsmF0UFjhnWfOMRzS0RZqBk/c+muqVi9Szj0NHu372vOoOwbzzHCbvVQWbYC96IvXMJun2tUhDTMkqAMVZcgL48NDhIav8AJ/0YqS0AwBAQKWbLRj+1hAAzjxwCEdkhLChFwwKS2yygSp3jI5Jp8TyttmPb7TuDzdZfavPHrmsSEqvrAuYBWgQSAZGcMEhb9T/AcKPhBWlTtMkYPM449FoiAZB72fO7n31UoCHNuXHumefNn7dg8JABb3/8gat6dvClkxl3AUlyImqFkbRBf4MijfywC9zn/A8AlKBsOUI2JdPSUUGjoQkXeJZPGDuz1/if3KUe+fIZGw/vaAdtZHYAmIGmF5BZl3/NOxy8V44Zbo74c0gSGY9+drsz/R+YV545nJGIiNBloi8P8zxopoahkgdKBV3Ek2IIojb5Q+QPkSPU/B7tjsyAJAnbHPVX1ulgiLSAFCRjKGwSURA2CJtEFKVNwgYRA2HH35UOkANSgBTJFxR/4WTeSCKe4vHzydwGtNmO8YUKcFc3CUSEFmEeggRAJCfESg9l3U9DTzm1rBFrPyT/WjQLgAQJ2zxpPC8fSCSyf5rAPc6+OJtd+mDRYw8/vmDBQl+h786/jrMYhJdNxlATmRaYbuSuZNiGylmgWJB1HmiNfgoASIr0bvjmSAUGqPg8xq2znnFeWnrjgOVzqnqsbGAPzSp64fQ6jkCWT1Uy2VTnfPckP/2/AG176Hs3iKjC4qxfPkj+GjHvZcwrxzSNTtq8iEi2Q5uasMkPHgs9brRM4BwYAmOoFFkSCAlCUCRG4QiFYyAkMNysOgNQzO866RFz5I0/4+IJAIgS4qt0WZBsrciJd0kKJEHSBhEjYaOIkYhB8k9pkxOF9HelahJiJBwUUWrXHgA51K49SGxMbnF2apMArdoGxsDiQATIyA7yvhcZw+9JPri8/xX2tD/JqmloFULML5a8yMsHwj72eP889jkLup1z4/ehYPC6G6+9fdytQggmImLtVOf75+W66STsNk8POTHrdx8YvUaRcJBvXZ3bn5eEjdyMLv/cmjj67RWlt35Z4hD8eWTj1YP9LRFuoCBA3nWEMfxao+/pySHvXXAbspFUfBsyAoi+fZGY/yp6y4Bkm8nyW6WrxCeVZsg5cARk8f42EQhJjgBJCWsSoZ0oqKYXSFKk2TzhftfRt1Pctt2e297KfbGbiDcJraUfpKB27QFIQSRQxpuEpPQr0W/9pw0y01vSbiP9rU8kACNgBRE4OSFWNsA85W0EIGkDMiCJzKRwXezjX1GkHhDQKnWd8g56O+71Ay07zj5nQauBQcMwQqHQ/fc+GPD7Bw0ZdNOYG9Rb6Moz+pzKu40MPzUM/NWQNKIZp0gzP/jXRq9RJAVsW553m/MSETCDpLD6nBjqfvqv7He/6u19b5n76R99R3WL9i2OhjHPffYLxoEnQ5pZt++QMJBZvKtx7isxy+fMeRLdhch4en5QesByaqIfxwGb2h4REXi6pYzphjOocEknAlK4Tv23ecQftytWN70rFpfLtDczfmA7b8nmSTYJaAAzAKzUOzvtHG2JX32ifxB/IWPAPWL5a868h8AqBGmznmcqdUZmxuuOtNFTzvY7Vix7Ba1iCtdSsAq9HSGRSaTZHPuWQKfXqEcf+ueC+Qt8hb677h5nWZZwBDe48hTLyrnUtA6tgnj4l6qozDAGXaoO8/Os2pTRB2AOvkKu/HDM8KYfqsvWtxgPzyp8+tR6iDajpxQASMSQu7bs3d4rSXmTlEaf8QQr7R378i8gI2jlgxTputnGN53yO7cm3UPSeiMDZBRpwoIurjP+z+h72vZG6bY/bPqb27htu9juJqHtPjuAahIAgBkZ1lgwzHi3AxG9HQAAEnGiRBQfD/R2jMe6KNtcsw3kqo0Wf0YzkXy3/UeUc4NzPuObma/+7zUAvOTyi4cfMcxxBOeMpAApAUBU/QBSpPl/kOwQK+/Hux0JAID8Z/uFiEiF9BvdR0aK+vYq8P9xSMDF4Ot1nvFLfPk8FFszPb6nmt20XUDCXk9Ko0kSSXPkTe6LP2Ed+lOwHtI9G60/suUDpv+ZaPYYSZvCDbzPKe4rphp9TyPpZH8ORbJJyATL/MP4jvzEJ8VFBoCkMj9bIUk6AABGXmqQNlABACoIRwi1PosEAApsUNuBW8AtgF1p7e8t5KRApwbuMrG5CtbKuXHPA/4W/8BBA24a8ycAYAwBERlHwwUA1LAy+RH1H4gY6zQAXV6VQPGzKzAiAiBJgZbP7HRoIOT89uDQqB6hmMQnvi9YUe9y+1cSAHIXMp7lYrHrSPo6AJCkw7sf6b5iunnMHcQ4CUnUynbexmMm90REICAnht5S11nPuX/3ASvuQdIBZuyzN3wLbLFJwGQiKBb3BW6pbG+x+l2SNjGTMcY5ZwyBmRTYICungOElEUVvJ8xTkyvpW70VclKgIS3NJBqzYzE7+Tup3W2qbrpl/dgj/5o/f4Gv0HfnX+9wu92O4zDGyA5HPx8XeeeS6IfXijVfg+kBarWEKHY8WP2/gyZtsvrzToepvt8tRzR3znc2NLPHfuhEq7+MfHBt5J2LY1/eRSK2D1rQilQDzAySDrq8rhPuN/odgXkcOSMh1QwZrbwWkNadp+Sv1AGBiKQkKcE00WcYw84zB11GUqiAnHj0nlbn7YYBACs9jJX0JzuIRh41Lo5Mu5mBmDv3hztuuaOyqgZjG6PTbqRIPXILnDDrNBw9ZURCC/RWyUkfNCIKITnHe/7z6kdfzy7I8wopOWP+YOjyX5987e/OkJI4T7U96ZEbM7+Z9cpLrwLgJZdddMSI4cIRhtpT2mLxRNq4DAwTTHf7SRhYQZedcvEpvS3oxJCCNvYrt68e2HL/jOJP1xa+Pbf2vJZnmv3C1eVg8+hxsA/Hiaa8GcqnJG20XKxjMUgX+QMUjFDMTtxNxLQ4DYBEWHA8zANU3B1whm4X5nsxPw8omFjtkLYlXFKzORBRtXC8/5Vy6h8BSPJ8b/WklS+tvO6//qVLV9as+vH5S0LUvAFdPhJRMPN5vysSH9X3fCvkpEATEefMtp3Ppn8/f+nqfK9HSskZa/IH9+/0/bW/OwOwVTRV0rkRDofvu/cBf4t/4OCBN429AQCQYSK5CtFdRN5CND3gxNrEdQEAmJ7k0Xbk4hExnqLMXADAGQWj7OJDAlPWeaasd//n+9IR3VnHgoDjLs6cJaymP0aQFM/IwDR7c0cuLDtJfjVCBkQgCU0DSwupqICiMYjEKBID2yEhQcq2A2KIyBlwDqaBHgstF1gmMgRiFJUJA3uvvXW7BzWsQiR5j9Nl7Rx70bMub0mLUzDm6VVVNXy//Tp/OXv12z3xvKN8wYDNRcAY8QArPohIqHZX3/ktk3sCTUSSiCOuWl9dUVNXVuxTXkVkyBhbX72xvqmltMgnJSXjrzCVlvLP+fMW+Ap9d8WdG8IweCKpmijSBKFmMkJgujNYVXYoeQE78lQlXRYkogCAAILAY9CtRzQtquuwusl4fHb+IyNrYqGGjOPySbuSZYoL3icgUsvIoscNHjcAkBDgCJBESqNVQjNjyBAYA4MnVucCkDKeup8ISYB9LE5mp5N4IAEAjOH3EDJj3Zt3jZdzNng7+qDQI4IR7xNfy2MOipYWIA253+jzOyIJwDYXdaNJJzd90EQAsGjl2vomPyITQkoiIaRp8HUVtWsraiBtrBkTkRuzZnz7v5deBaCLL73wiJFHiLg6J1ISuGUMvdo4+lbz2DuxsBuJWJswZNlSuVOuPTXA5a9WLzijgM0GdI5dfngLY+z9JcYncFb+sdcLylA6yS+13h9a0tiyqjlgS7mvuarjwwxSqh9kDC0TPRbL87B8LyvIY/le5nWj20LTQMTknpQWLabZLig+7yCo2I1kEAclpqwikkKQa9hfn1h28nvfRZiMXDmi6b+/ac7joRXV9tNzuhqj32UHXQRpsYx7+jvlAFlhQacbuVvtrSOiKthZPyzBxBaI+z14OBpbsHTN4EP6QHzCrDTnxj1/97f4Bw4ecNPYGwEAWdopiNCwXCNviv/lr3LqloLRapyQNi5S/++gwZV8LmXN/OTJOUIohlcMCEzb4J21Vj4+DY665Sqfi0uZIdUKEQMx+6YZP65pCbo4e3HUsH7FPgnA0oJbtvFm5i7p3zTlaN7s3qBm898rb8XuIR79gpSY30NtBUiO8QhpGMbnn33xr5e+Eo7zq3NO/ePfLgIeuzD4yX+ffG3CtObRK3HAYSAkcb6XT6W7E9nzFnQbQREitZrG5vbnjAHAgqWrGWfJaqmEGxG+W7Cs1f6SAODxR/41b978Al/BnX8d5/G4HUcwxoSQpNJl1XGlIBEDACzplQgKiId2AnfJ6h8p6kdmKLPhZ39ZAELGKdwoaxcAtyD+xUkQy2PROy47tqS84+Ifvn3kb/cCgJSSgERafLeayn5dILTOH7QM3hKzlzS2ACTiFlRwC5FMk6u91VTZWgRYGpBcjFyzFZJPGkkphUj9SaTme7YD4VhzMNYSjLUEY81BJxxNjsCvXLFq3K13hprrBww47MGHH4CyoVD8i+tuGdevf5+GusqH7/sbALDECryabWEPC3QiWi4e0Syl5Jw5Qsg01U7uqX4LKRFxzYaaVRuq3S6XlJR+OM740lXrHSE45wDgOIIbfNbMb19+8RUVuTFi5BFCxNWZc8YQGUOl0cmp43jPUWC4ITVOSGh6Zd1SsXYaAED78cPt+bIqO1Gsm071K9H0gJpHHpAj+CNyyK//cNllFzBujH/jrenTvjEMgwFwRAJQsqu+7/Imf8gRHIEhzt/UBAAica+EJIbIERmi1HaKZttIRaYSSCEAABljvFUwvprxec6dz33x67u+vuj+ry++//Oz71z2/EcAYBhGMBi88fox1VU1Xbru/8TLT+Xl5zmxqB2NFOR7b7j5T26P95vps954bTwiCiFQuzi2jT0p0MlYZsYQAP786IsnXz5u/pJVBucM0REiuRsAEIAQQkoyOAeA1RuqazY2mGYrF40kclvmmoradZW1AGDbjmHwSCRy3z0P+Fv8hw84TEVuSEmMIeds7sLlp1955/hJUxhDISWRRO4CAGpcja58olYXAETODy8AgBr3/3mPFyUyCZ25z6Ub6QhIIspLekBB7+tvvmbQsGEtLf5H/v7w4tpNN81a8MWGGpUWxhFNzsKOmF5dZzAmCTji0qYWAHDx+Oy6nOHKZv+YGfPm1NYzRKE1WrMNKAuJiJCh0uWmpevnP/xGy+oq5cRP7hmq3uRfUx1YVxNYW+NfUxXe1KS23zbmjh9/+DHPl3/vX+70zKtsXLHBcFmm5SaiM0af9suTTojZsSf+/WTdxjrDMKT8mVbOvsYeW1Elqc7qybjr8Zcee2FiZW39hI+mhiLRYYf1tVymlKR8vnFrlzHGcFND8+KV65+Z8PGKdVWm0TZSh3Ne39Qy6ogBfXrur4zohx545MP3PyooyH/sX48ccEBP23ZM02hqCdz7n1fHPvjMsjUVn3/zQ6/uXQ45sIcAFPNfjX14jTP3aQBKLjqFiACEhiXrFrPOA3l5X5AObud8SfGdpYPMcJZ+YE9/EF35rTzayFBEYmu+8RSV9eg/9OPJU+urqj5ZV718/55frNlQGYwcVOxb2tTyr/krnvhpxdJGv8EYARiMNcfs2bX1nGHvwgKH6LnFq+6du3jepqZZtQ39i31d8717gR2teh5y5VsUrkVm7vjhQERZ6aG86wmw701KlZGEoQDRpkDlF3MXPjZhyVPvV342x9OxuMPw/tIWamEbAFr/wYzIpmbDYzGDk5TFh/XqcsyAxx/+50sv/A8Jxt1352n9Bn90wV9rp8xrWrbByHN7Opcwzvse1PeTjz6t2FAZi8ZGnXBcUqBz/cnc1ewxgVauUsYYIt712EuPvvB2UUG+2+WSUn4588fJ07/v3qVD7x77KX1kjAVC4Q++mPXg0xMefvatf7707vI1FV7L1V56iMgw+Oz5S1eurSwtLV76008P3PdgKBS+4qrLLrz4AgDgnL31ybQr7nhs0tezLZeZ7/UIku9/Mat3t06HHNjDnvO0WDCReYswnvnQKq0cSMjqH4xDz0dXHm2PRlNyxRBuylB99O2LINKcjORLNAOMpIDGVZFZL/cePKy5cMjM6VPZxlpvr16uLvvNr6n7rKL2vTWVCxuao0KanDFUEdAAAGv8wcnra+bWNU5cXTFxTSVHLHK5asKRbgXeoR1KJQHL8WqgBXo3gIgkacb1/1zy5Puh6npmGNztita39Dz7aG6ZyJha/2vNxGmhqnq16lgsFDngyIHfh2r/ettfJMPfXnz+7bfcPPcfrwY3bETEhoWr10+aWT93efnIgzt33z8Sjsya+e2KFSuHDhvSrVtXtWKGHi3cMnvME5S0oO98/OV/vTixsCBPJgLIOGfBUAQAfjd61N03XGS5XM+M/2j8pClLV20gIMtlul0uAsjYS1JHsG0nGIn6vFbnWHVzXc3gwYPe+fAtAFy8ct29/3l10tezXYbh8VhCSDXkaAtBwnnigTt+M7Q48NQvkATYIZACrXxI12hmUKSJH3Smdb6a7taJpwhv3hAgImUnxJdfAYi+dqZY/jG6i9S0HgnpJ5I2Gh5AlFLkX/FVsOjQs04+ZdWS5Xl9+nquu4kbhi0EZ8xkGBUy7IhksVmceTgngIDtMASPwQEgZIuDin2vHD/clfsj5snmzf7017J+ARreLQVsbAvIKNbCDzzfHPHAPrVszRYglQTE2YLHJix99kOrKF/aAhCdUGTo339fOqD3ph+WNy/fENywsX7eSicUQcYkkCWwttR4YuMPmxrq+3fu/tqrL7iY8cWF95LtIOfIme0PlQ3uc+zLf0bEcDh8zpnn/fj9vF8cNfLNiW8kRwtz+uHc1exBFwcgYlNL4LZ/PBeORg2Dq6FCAJBSWqZpGMbMHxZ/PGXOa+9/+caHUwKhcH6ex225OOfJWOD2h1WSZ3DuzfN6AjUYbADkRpe+vfv0s/xwfgAAIABJREFUfvujKdf85d8Llq0tLPByzlW4iDLkXaYZCEUrq6ouvfACqpglN/zIDziGH3iSrJ6fcHGoI0s0vbJmnqxfwfuORm6QsAERkbWXaSXNiEhAIB3kJjnR6NsXiqXvt1q1Wl0x4+jbjwK1EGwxDh6Nw6+zDOzatet7kz5hDQ1gGPzgQ7htI2JzzClyuYZ0KDmmc/ng8pIOHivsiNpwlCN6DK6GEwlASLpv+CE9fHlCEmM5XwG0Bb0TScVNJVyISSsNEa0S3/pJM6WTcEFwXjdnyarXv1j/8bcN81b6V1cDADImiQxkAXSerpq7MRYoc+dfzA/wT/5xzeezRUsIebxzKcLRQ2/+TVHfbnY0ZrndHTp2nPzpZ+vXbSguLho4aIAQgnOdT7gl9qSLwxEiz+MuKy5897MZlstMf0sSAUCe113f5G9o8hf68lRBysRgReYSTRQ1MW5EmvOCNQhk53VYG2Svv/f517MXMGR5HreUrfQdE9EO/3fP9T27dpaFPc2DTnad+Hej72myep6s/h7NPJX5jQBEEs08WTVHrJ3Ku45g+R2UcadOn34pEA/sl2raRlH7U3TCeXLV5+nqHLfKww384F+7L5zEyvtRqNY18mZecoBwYgf07tVUt+m7OT+YtdW814FUWh6Lxn7Xp/u9ww757YHdjuxcPrJT2UndOp/evUux5ZpX3xgTkiMygIDt/PbAbhf06S6IWKIV2PlFuBvRAr2zSKkzEXKGiCQkMoaIaukZT1lRw8LVzcvWc7eLJCFDGbMBwPS4mWVyy0RAImKICPBKYNkqCHiYcYHnwD6uokAkIv1hZhhEhIyJSKywb7dBd16sjBwC6N2716rlq35asHDlilWnnnZyUVGRcnTs6buSveyxW6N8C0T0m9OOOeWYoS3+EE8LkFSC4jjCcpluy+U4Ylt6QymHrnQ8wRqUwuGekLfc4zK8HneB12NwpoJDkschIs5Zsz94ydknHjdioBDC1W2YcfA5KgTfdfLDWNqHnEi8DitVlQ66i+X6mZEXjotN/bsM1CIz4vPnKi8dYto8vIb0V8e+uif64vGyam7cs5G4YERGTgTLDnKdcB8alnHoee4rp7EDjgMAQg4Agy+8EDp1hkAg/P476MTuGnbI7YP6dcnzCCIhSf0uslyX9+v536MG5ZtGPKsQwGsYkBz50SFNGgBopc6AjK1+Z2rjknXImXSEFELp9eq3pjQv22C4LZBJzx5DRCkESCIRzx20gE8Krf3JaWAEp7i7HW6VBaVjcM5cyTkSCBk6oUjtrEUAwDhX0Xu33HVr11491q9b/9gj/4K0jN89fGuylT1mQUN8DiNiDA/p0+PNj6fZjmjTGU83cpMbk5EVaoAxHfVpicwbqLGizYQs6NtfmF41DT+1m7OCiBhjkWis5/6dXnhwjMdtqUk5gCQggrSZpwTcRWLR2ypgGVLRSBJNNzkRufJTsWiirFsCUgDjgBwQQDoQ9VPzBrFuuj3zcfvzcWLZ+8AMNNzxdZvSIjcgFnCd8rjR/UhyogCIgAQoiJAxBvTwqupqQr5kUUt19Ym9e4wZfZLjOIDIABhDBGAMJZFDtH++d788z2cbagxERFjvD53Vs4vXNITKs8PcnlNJW9A7TrpnAzlb+foXc+58dtPcpZ2POtwqLkDGmpau/3bsEyv+96mIxlgiPiq9DsaNH4A8ZsyMVn8UWSeBjnB1Gu3tGSXR5gEjImZwuyW47oMZwfUbSwcc6CrwAgD8VLnm45kryb/8p6WHDzy85wE9VYxWjj6Zu5o9aVtRPENUGJz//ck37v3Pq6VFPkeIzZWT2l+NLUSisZhttxkrQgTTcufJcEHLWpQy7C0LFeyHUqgHM+PMLIxhS+D/2fvuMKmK5e2q7pMmbl7YhWWXhV1yziogiIJIMlyvAuasmBUxXq96zWC4BvSacw5XxYCJoOScF9jM5ryTz+nu74+eGWYDpt/9MLD1zMOzzJzTp89Mnerqt6re8r304I2nTRkb4U6SISmGhPLG0uDbf+OV25DqkTkcLHREREAqrABYfgBEezI6O4FqAyHACghPufDVAgAoNlQMWQ8Yc27YKAgWJJ0G6H9/l8R1FZzJhnjyo+21DRd+t45rWuCl5wKrfohLSX7j/TdycnrGInfRfzkARbx8+YYV5dVuVW02zRsH9/5bjwxDORgB+5M+Ax1Bwv+VRHdUe99YuumeVzSnzfQFnBmdjn7q2tqNezff95rlC6hOu+C8raqEMWUhbEj3W43PenZ6hJmrxF/i7EcjIGFbB0i6I6EmrzMjdeT9lzDTWjXvMdMMLbby8hqrhvTv//4n72rakdjd7RfK77z5FSCEAILoDwQnzp2/a3+xzdDbpmfISVJKGOMer19RaE5Wl5ysLr2yM9JSEjVV8fgCRQcq9hQcKC6t8O7doPMAU21N8dkMDuk0ylhifZPntCljX3l4fmxipmw2zJvKAi+fIGrzUHcBoDD9QChSLbZ7adjURqAPYKYsFAQkQFWUrduEiCUvFbKfEwsBZ9IxF8FmTMo1zvkK3ekIYlNNw6qK2j0NzXsbm6u8fkXTWV2N57GHm8vKJ005/qVXn2sFBIWfHC4owU8KDyxYvc2tKVwA46Kz3chyO/onuEd2ShySnPAn9aA7DPT/RKJGcM+LS7YufFsxNAAAgiwQ0uIcZrMfAKim8pYYYPRcGapRkTTy0FPN2yq4L5nYLnf1TyZGSHByCNUKu+GUWN6A4jCQYMgXdOjGtkD1i8E8T33TggU3zLtunqwU/zMq5/9v+b3JkgQQRMtiNkO/86qz/nbl3XgI5SCENHm8Dpvx95PGz545ceTA3m6nve14t97yz9c2fa3YbFUYz03u0BWLRfgnW45JCAZCoc7JCXddcw4ACADSEqtF1Y7xmaJmNxBV+OtJSl8RaBBNpWjER91hibVBuFadgGJAhORUMmegAMAWlhSpIvwNGJcBmkvU7EZbAgiO8VmoOeSxj2zJW1le41QVhaBKKQ8FSafOx5x99qp/P/7119++/uobc86aHavQ4X0rAgBku506JbL6nRIs8/qLPb6vSipy41xvnzDGof7eP3eH/AGkYU8xD4bQaeOmBUxQXbM8AaJQQODt7V9FBPiThalvefdWQMBOtTOcuZ1Vp09YFIjg7XjQEHmWucWoTecWAwGKpviZ2V9PHmLV/mAPPv/ci1NnnpTdozuL0DN0SKz8IdA3+Ztu31vY9iNpSQGgoclz/DHDvnjx3hceuGHSUUPdTjtjnIWFh0ImAKxZvfaj9z4wLXbm3DNfXXx/t06JDc1eJcIn0PKKCICWxW6+9Iysrp0si9GYnHlEIgRHW7wx52PaazqvryRdRhjnf6vP/YR0GS78tdKJPjjmQa0UIDhEqIoQDnLuh91AZglvLek6Sj/rM+O8b0jaYF5fSXvPMuZ8jEYc8HBxuUrQpSoGpUIISqmnqXnO3DMmnzjZDJmPPfJESXGJoiictWAZlddRENUI2x8C2BTq1hSDUvi/+pwd8qeXqJKOuv/S7qdNCNY2yuif4Fw2lxH8EC4wAFAqBGgC/+sv2MUauDc4KZjUw6fXNzSwJp/p8XOLAcHwOG025eGrICJBeRXLso5Xu3SyuytrahY++AhEKWQ7ooUt5fcMEoKkr+OcUrojr/Di2x6lLclZZBCPMREMmbdfOeffd1yRlpLIGBeCg2xZTIjM0VEUGgwG51129f59+YMGD3z8yUX9cjJPnzpuf3H5ll35NkOHlggsIgZDZmZ66qJbL9U1NWxLWwIX4UY+uScB92snLiTOTsSZqgw+BzSHKNsguBlJ7SDQ4sQYhBpQfiohDiE42pLU8bfqMxcTZyfU7LTHJKCoT3sCFT0KQJd5/Y2m1WxaHsvSKEUEv8VGpqWcM/Hojz/9vKzkQE117UnTpwpoCXQAEMQij/f9/AMaIQgQYMxrWlxAql0flpIwsUuqQgi02aD8KaQjSPh/lIP5PJwjYpdJwwJ1TfVb9xNVickpam/nSqmwrGCT12XYV0L1F76ikNd/7sxZt157dcox/dKG9zYyUhW7wUNWsK6Jh0yiKoRSaFOpEPvoIUDIso6746Kk4b2WfbssPz+/V59eObk9O9Ki28rvaaBjsdQFDz2/ccc+p82IYsHR8Bfj7Mk75106e5oQgnGuUEoihiYMvzJOCFn44CMff/iJ0+Vc+NiDPXr2CASDbqfjtCljy6vrVm3aZTf0VnXhikKr6hp7Z2f0z82SLQ2jH2Eku0gIjoqh5ExBI04ILutNSKcB1sbnwfQiUiE4BJuAmQAQ7cMNUaPJTDB9wExUNEACwWaaPVGf+ki4qlsAsScqOVOQqkKmSwMIgJGdkk7u3mVKt7QEXVtTVasTGuKCMnbqgF6GYSz/bvm+ffu6ZWb07dc3VqG5EATxv4UHVlXU2hQlyPmg5ITz+3Q/v0/2hX2yp2V1Uf7MZbUdBvq3SWzWc6TRGuGmhZQ07S+r+GEr1dW2e6uwDlMiGDebfUq8c8CcE+uGpT216vOmxqbjJozvNe+SJTr/0UFhYPYJp0zMOnlcxpSRSYNzAMB3oDrU5KWaij+tb1xknjHhmBnH/7jix/z8gsL8wlNOO1k39I7671byO6umpOPYsiv/s+/WuJ12FhMeRESC6PUH7rvh/NkzJloWAwCF0tjcXkSUjVHWrVn/0guvCBBzz559zNijGWOGrjPGAOCJf8w7+YSjG5o90XMhunETsPiNTy2LKZHqxOjEIuMTIYTgTIYNJRGduW6xaCxG1S64iXqcMuxC0u1odHaSPNERUJgLwdGZSrtPpDmTBbMAAHUXL1rJK7eHr0CIEFxwdvBCkaoZnZIst2NObmayoQcZd6jKmur6XXWN55w7d+yEcaFgaNFDj1ZVVkVZwZgQCiE+01pSVK5TKgAsLq4bmHtmTubQlIQkQ4+W0XdsIY8oOfg0EUIoQYIsZBJVqVy9Y/uj7yp2A7hopRJRx9ny+Kmu5l40ffonD6ZeNmXRJ2/V1db17ZW74P67lhaUfrV519JteZ9t3sktBkLYOydlTBl11KNXHfva7VmzxnHTYoEQafNYQZjQERFgzYLF0Ohf8M+b3U7Xtq3bFz/1LADwGNq8DoHf10BH7cWbn37X5GlRqCKEkE1gz5416eIzTpKZkq2iEIjIuaAKDQVDd9/5r8aGxgEDB1w//1qI6KWs5waAp++6sm/PTF8gGFv+z4Vw2o2NO/Z9u3ozAPA2AFw0qQOQRJjtiABghcvBZCLkBdNHe0zSZyw2zl1qu/hH/ZSXkWrhnA3Vrp/2mnHRj8Y5X+invY6uzsIKChbidRXW7k8AAIADgDT6By8kUR1EADA5d2vq6E5JHstSCfoZv2/DTgC49+7bk1JT9u8veOC+hwCAC2FxThEBYOGWPflNXrtCfaY1ODm+d4JbFhbwaNF5h2NyJIk0jhLz3fn0R3tfX2r5AlRTWSC0+d5XAQS2yT6OJsYFGz3Jo/uNe/W2wTecQROcV5x72a5N2+MTEh5/YiEmJFQ2NKS4nElOe10wWObzyV0sZ1wwHp+bMfL+S456+np7t9Rgk4coFFqi0hJmoYYWrGpYecezwwYPPuOcM4HgSy+8snXNRkVROtiiY+X3MdDy2+dCKJQ2eXxf/7DRaElNJ1MsunftLFMsZCJErDKFR+AMAB5d9PjGDZucLuetty9wOByWZUlDLGTzb4u5nY5/Xn02b5lrKVdyi7EPv1wJAIzL1oYH+0dEZ9vCqAmhz3peO+U/pMtwQEUZdBYAgGDoSCXpQ4FqQCgiAaqT9GHE2UmwEOpOmjMFAh7adbR+6lPK4LkAAEjbDh5JCwFElDb37F5ZnWx6gHGnqmyqa7z0u7XpPbJvvf5KXVU/eP/jz5d8oVCqEMK4uH/jrnf3lzpVhYMwOR+fnqJRwoWgBDF2semQI0qEQIKe4so9L3y28Z8vLj319r2vfbX1kXca80oVmyEYb8c6A4Q8vgEXz5jwwoKEnl0B4LYFd6xY8aNm6LfeeWufgQNW7SsQSCSLQK0/UNTQBAACgVCClHDGLYulHdV/6nv3ZJ0wMtDgIZQCtrHRjKtxjgNfrqv8fvNlF5yfkZxa29hwz413CH+Ixux0O+QwGeioyRNCcM4554wxiVps3rU/r6DUpmux7jNB4vMHLzrjxOTEuFYpFhDN/GVMUZR1a9e/+PzLEtwYO/4Y+WZs/plCCed86rEjJ4wa6PH6CWnRr8/Q1VWbdvkDIU1VKSFyWM45j7bFjMwcEeUMiKuzOvxC49yvjYtWkIxRACChDxFsEoF64a8XgQYRaIBgU/Qjdcw1+vlLjfO+VkdeRuIyftaTlQiMECI33pXpcoQY50I4FWVlZe2Mz5YHjh7fe/hQKxB86L6FW0vKPi2pmL101Wt5RXaFyg5eOqWfF5d7QqZCyF+ADLpDfptE/dDCj1aYTT4jKc57oHrT3S/vf2Op6rK3yqiL+M5g+gJjbzm7+qwJNy9dVmOy115+7ZVXXgeAq664ZPaZfwMhtlbXEpldCsgF7KqpBQCFEMY545xQoih0b1XtXRs3J9x5zsC/HxdobCZt8ueEEMCFYmhr7nox76rFx2Inm9OxZs+O995+HwA6nOioHI4gYdQeScCURIRS4g+Gnnnj03Xb8nRdjYIMhGDItNJSEx5ecLHLEU52buVpCi4IJaFQaN6lVxXsLxgwcMCj/16kaRrE+KHRgxnnhBCbob//5cpYViYAoJQ2eXyFpZUS/IpzOxRFkZ0BEJFzLmK6qCHI/lQcBEOiEHcXpKoQQsIUqBik82Cl76lKv9OUfqeQzoNR0WR+CLEnksRszrhgpoSaQYi224LYOUt0/v39JW/tK3YoCoTT5pSGQHBFXbOVnIrbNtdXVHy0p+CbxPR6j9epadHTVYrFHj8lOLpTEhfQNrX8TycdQcLfIOFnpNm3+b7XWCAECERRFENDRRHtUfUiJaFm3+ArTzswa9Q//vv1Hq9/yedfffXE04FAYOrUyWfMv+7Nbbue2bB1X30jRQRAAUARy5q9XIhku82t6wQxYFkvb97x0OoNG0vLN1ZWT549xSitrdlRoNoM0TLCJIQgCmHegLe2sZsRV2g2VQr/vj17Z506y+6wd5AoSTkclQtRMyQT0QtKK/YVHli/fe/G7Xv3FZWVVdU67bZYCBiR+IO+o4eNSUtNiiYqREcLu8+cK4Q+uujfYXDjjpudTkfbeqSwHiABgLHDB/TollZSXqNratSdBwBCyJuffvfqR18nJ7izM9L65WYdNbTvwN7ZPbqlOWwGxCwwEM7YR8m1D4JHEWQhBOpupe/JsTcePVFwLqM0QLX2D4iJ4EnrTAkpbPI+tWO/RghBDDHuZ5aCxKGqNs5Yzxx1/ETx+Sd83WrHwEHa4KG+5maGBECoSAyFulXlrb3F49NTByfHSwy6Q440EYIj0IL3vq/bnm/vnIQIgou2sRaQe1ZKg02e7icdlXbZjOte/9BSFXdTU9FbbzGPJymzGz/xxGuXLm/yenVF1SLRIACghNT4/ItWb3h5y45T++TmJiU8v3Hbrpo6h6amuhzFdQ0PrFr3xL8ubCyubNhbqtj01jaaC6JSoVJFkClGt2L0780vePLxp2/9x82CCyB/VnKC/6EcDgMtv+Umj+++p99cs2V3cVlVRXW93HrrqqJpKrQ0VQAgBIwbMSA6QnvgBl2/bsOLz70kuJhz1pnjWoIbsVdHRADBGE+Mdw3I7b6vqMzQD9b+yz9cDhsCBk1r067967fnvfTely6nvUe3tJ6ZXWZOGnPqlLGcC8QWSC4iRnFkCWeDzPfgHAlBSiTKEr4QIb6KOk9xJaFEou9EVxP6ZBJVaTUT4JIIEgFhT0NTmdcfp6mNITPVps/J6raltnFDVR0Twg4B4/gp1q6dLH+f/5OPICs7PSHu/NxMh6o+ti2vuNkXp6t1gdCm6vrByfHSZe+QI03kziB5aG723yZUrtwWavIoDlvbTZsQAgmyYMjVrdOAW+bakMzsk/Pihq1N77wD9fWqy+U8+ZTdIaaYoXibTeJ9sU8rJSRO1/2m9fymbQCgEBJn6DySETulW1fdaR90+zkrL3wA2ns25XBBZD2Ja6jPvszuff3VN6bNPGnQ4IEdadFwOCGOiuq6q+5+al/RASHQZtMMXTd0VfrUrXxe+c61553atXOyNH2tPWJCQqHQvMuuzt9fMGDQgEefaB/ciIrMeyOE7CkoXb52mxGDd0cuB5xzgqirqqHrNkMXAJW1DWs27axpaD7nlOOjoPah7g64EIITqiClSIgVCFE10tGKCyS4/+1vV162sOTz1YUfLN//9reVP2zLmjVWsRsgAMnBu0PZHVYAZzwnwR2nqcvLqqd0S7t/zMDJ3dKmZaYNTo5PNvRyj9evakpyirV1k6+qamRKwuvzzhuQGJcT7zopMz3I+Maa+rm5mVcNzBVCxH6Bf1LpgDh+g8iHxd45KWPyyPSJQ5HSxryStuWCiAgELV9w0PzZKcN6AeN9u3R+5+FHqjdtVjQtftYsW//+NBhESnmEMqHV0yrhOF2hKqEy7EEJ8YTMMV3Trj1qhGDM2SUlUNNYtW53KycaACBcYcuJXR8zdeK25oqS4tLy8opTTju51VWOTDl8qkkIiXM5nHa7QgnngoWTJtphsWKMxbudifEugBbWWR4ss5sff+SJDes3yswNCW6QmCy9VhJ9v2vn5ENNL6pqnHPJGW03dLfb6XTYfvq+MKYXsunxl3617vtz7t268G0AAEmKAQIAiKZocQ7VZVddds3tUJ222AIBqbVbF729/o7nG/YUI0GqUAA4q1fW2yeMeeioQRlOu8W5QsgxaSk3Duk9I7urz+PR+vVXjxmnU7Lhv59sX7seAIKmlaBrtw7r++akMfOH9I69tQ450iTiH3BuMXePLjnnTG7/OETmDyYO7JE58xjGGFDyxrMvFK1YqSrUOXasY8QI7vOJn8zRlI8AFyAA5M7Y4tyhqleMGAIynxQg5+wptuQ4blptlwfOmBbnHPXE1eMfuOKqa+YZhrFi+cq33nhH7pWP8Gjh4fQdBGfh9Ag4tNVABM6FoauG3g5cK3GM9es2PP/ci4KL2XPPHHfs2EOBGzFjht9vNeahJGKsOWMyTPiTdyUBnILyrYve/ubv/1h1zeOVq7Yf+HKdv7IeKeGmbLYCRKGCceBccMEZBwHUUAFAcM5NCwnxV9UXfrB83+tLv5tz94pLHy75Yk2w0SsAeie4hRBcCFkKaHIOAP0S3YQQEgrZJp+kdctqbGy8485/maapqwrjnAvRPykumsJxJOv3kSwR14FIgKtyxdZQg5e0G9EJWd1PHU8USin9/rtl9933MBHC1q+f+4QTRDAIh9g7trpW9A+CELCs8wb375EYL4kcOGPOjNT044ZZ/iCS1gpJKA01eFRNBYCZp8yYdMJxoVDoycefqqmuiZZi/W+/mT+RHE4DjYQSQiQ3xaFNhgBAYExIT/ngyYhCCEqpaZp333lvY31j/wH9bogpS/mJXzF6uZ+1trGnICAh+LMN/QTnAFD5w7ZtC9/2ltUoTpuRFOevrCv7biMAEFVBJKbH76+sQyJpjIQs6GouKJfM6ERVAKD0y7WB6gZbaoIQomLlthWXPFz+/SYEYBaDCNMeRvKjs11OndIary9gd5x33VVJce4N6zc+8dhTEHHGZZbgoUggO+QIkchPjwBQu2U/EhTQmiKDm5a9U0LKmL4AUJBfcON1N4tg0JaREX/yyRBRp9+gRSkxW08EBICuk0eiQiOFhGGRS4jlD9ZszJPv3HDTdampqfv35T/2yL/hYFDqCHUyDh//JOe8sdnr8fldDluEV1AI3iLmAAACQKG00eNt9voBQLIIgMyWY0xRlMcW/XvD+g0Op/OWOxY4Xc5fzCSLAFDb0HSoj8MoM0hEWOZ5Cq8/6PH6Wx0TG9aLAtMZJ47Ke3FJsK4ZhOAWI6pS+NEKaterVu/0FFUEapqC9U3UpkvQgyg0WN+88vJHjCS3rXNifO/MlOG9ij75kagKtxgSQjXF3rNrpzH9ACB2hRCRfIw0h3Fpv+wKX9ClkCsHj2/esvmZZ55//j8vHnf8xIGDBsSmvnRY5yNQoooqZFtYQMF5c3GFZJtrIQQtbyh5VB93t85+n/+aK28oLytLSE6OP/VU6nLxYPBnKDXau7RMO313Z97E7t0IIuMcERAgcUC2K7OTp6SK6hrEBIHkmtGQVwIAIX+gV+/cs8+Zu2jho+++/f70GdNGjh5xJEcLD4cHLb/WhDjX3JnHjRiYa+haQ5OnscnT7PGbjLX9ygkhXp+/pLw6dgRpnTes3/jCcy8JLmbPPWP8seN+FtyIni653/IKStsuxNLTVCgliCZjzR5/Y5OnvskDAAN7dT9meP8W48SyeUS2kNxiRlJc2oShlj8IkUrWht3Fa+c/XfjB8trN+/wVtSLCDioFES2Pv2l/WfmyzbsWf7z8ooea9pVSQxOcI4LlC6RNGGJLTeCMIYlQOMpLCxAAGqUX9u1x2/C+Vw/uTQCuvuGaPn1719bW3XPXvXKfccR6HB0CMd4DoYRQipRYvkCwpokoFFoqBgIIwZOH5ADAghtuWbN2XdfEhL5zzqQZGeLXW+fwpQFsirKrunZ3TR1BpIQQQiyLaW5HXE4GD1nt5BQh+g7UAIBmMwDgypuuHjhoYGND40MPLDrC9fnw5UG7nfYH5l/IGM8vKd+1r3j15l2bd+3fV1RW19AcbTQFELFCAlZv3jX12JECwkRCEXDjXw31Df0H9r/xpuvgl1Uwy59WoZRzvnVPgUIJtMHgPL6AZVlUoempSd27du6fmzVyUK++PTO7Z3R22Iyop9zKJ5UZdZwxSTiQMix3/xtLo/dLFErdjqg5l81jojkqAICUUIVS1GRVFkR6jQshiKZmTj8K5JsokKC8FgAszKb3AAAgAElEQVQAguBcEMKFkHCQYCw+Pm7+ghsuv+TKVT+sfubp/1x6+cW/cOnqkL+kyMQh74Hq/He/J5pKKAnUNIYaPKjQFqFpIRCQM54xrO8zz7/4/nsfOnV96KmnBIcOKy0ts2nqbytDDa8NiIvXb5ncI6tnYnxGnEsWUrl6pLdzAhdUVz1FFdsff4+oihkMpXRNm3fJRVfdcNPqVatffvHVc88/+4jV58OXBy2E4JxTGu5WNWPSGACormu86q4nP/turdNuRLgyAIRQFbps7VbGwjxz8ud5/NEn1q/b4HA6brntpl8DbgAXgiJuyyvckVdot4UvBGG+aQyZ1viRAyYdPXRQn+we3dIz0lJiz40ykYpIt829ry+tWb979KJ5krmRqAoLhHY//2n+O99RIwxihA1xS8i7nbQhIUBA68dAAFGUrQ+/1e/KU1NH9gEAFjKpppav2JL34uejHrrMSIrjFqMKDVNCU8oYm3ziCSefOuuNV99c/OSzE4+bkNsr50jeGB7hIi2v90DN1off0uIcgnEkSG16LJoc3sZZLDE58dNvv1n44mK7Ql1Dhuzu049VVBqqwn+r0ypDICqlWyqr15VV2BSli9uZ7nBMHtgrt0uKaENvKr2ZYH3zzqc+AkRuWvkpcTO/WHTSjKnvvvb24iefPWHypPQu6UdmbeFhgjhEuKkgFUIwScTBmGWxlMS4aRNGmZYVix5wIew2Y8uu/O/XbAUA0zQVRdm4YePzz8rMjTOOnTj+F66o0UxkAHh3yfJWnHmIyBh32m1P33311eeefOyoQRlpKUIIK9ynhYsIt5xEGJCSgg+WbXng9aJPflx93ROCc6Iq1ev3fDv7ru2PvRdq8raNUP/C7yf2i5JJezUb8pZf+KDs40k1tXL1jrXzF5cv2/zDFY8E65pkTkh0AyH/uOnmG3r0zK6srLrnrnshpkK9Q440kfpEKJGZnZrbrjhtba0zF8JAWsQ897/wLHi8RlaWe+ZMFEKRtDO/IHnjkBNAFELolLp1nRJS2uT5Yl/Bh7v32dyOtioZhQpVt11z2zW3XXXaAeD6G69N65JeVFT8yMOPQZSc7whT6cO0IkV/bIxgUrITFQAMH5CblOA2rVadWMFi7KnXPwEATdNM07z7H/c21Df069/3hvm/AtxAWRSu0NKK6jc//c5hN2KzdgiiPxjql5PVtXOyZTGLMcnIIXsCSO4kjPCdIyEFH61Yf8cLRFWM5LjiT35ce/Ozea9+ufzCBxrySvQEF/lfuKvRKypOg+rK7uc+XXHpwsKPV6654SnT67elJtRu3rfi0oXB+makJBphJ4RYlpWSmnL9/GsNQ//+2+WvvPQadqSRHtkSLsmV/7RCNhC5EAqSZrBebdjZHPCCw5Vw2mmq04mMybLY/8kEpItjVxW3ruuUAvnpJzb8IgS9Xl9mRtcLLz6fUvLRh/9dvmwFpbRVm7cjQX6fLQNGSJG4EL2yM4b3z/UHgrE8c5wLt8P+1coNb3/6HQA8svDxdevWO5yOW25f4HK7frosRcrBQLYQAHDf4rfKq+p0VY3FN+QWb8q4YQAAGLbL7Zh+LpCQki/WrJ2/WLHpSJCblpbgKlmyavO/XkVKFLvOrXZ6Ibeaz8++E/v9CMZBgJEUV7tp79oFiy1fgOoaC5lavLNu6/7lFz1oegPRGI7E6Dnns06ZOXXaiaZp/vvRJ4oKizrYdY9MiW5FLX+I+YPMH2TBUPijaHAbEQHe8e0rtpodVO1/zlmYltbY1OS1rNhspd84gcgIActqDoYaAsGAZTk1jQXMdqP08mAWCFmBoBUIskBIJi9dePH5Q4cN9TR7Fj74iGmaVDniooW/M2G/9FhPnzqOC44xwV1pVhVK/vXMu2+//+mbr75hWezMOX+X4MbPQqvRn1x2S3n7s+9f/eibOJejVceWkGl1Tk6YOekoaNPSu9VEASAuNyOhb6bl9UOUhcDQVbddGtN2JxMekCAQJJQAAGeMW0xwDoiEEiAYHa3tlyOPp4amuuxIIv6yxZBgp6P6K3a97fEAcPNtN3XLzCgtLbv3ngegZeZJhxwhIlWB2vT4Xhnunl3jemU4u3UKfyS9FgAD6BJ/0VarTvhCl8277J2br/33sWNuOGbUsZkZ//fuaGGngZAeifGTe2RdN3rYCzMmzx89vKmqrq0PHd4Fqoq7R3pcTte4nAxXdjpVFQ6g6dr1869xupwb1m967tkX4MhjIv09bzXqL/v8gWPn3Li38ICha7E9CeXO3dVQgIGmnNzct95/Iz4+7me7loV3cFwwzlRFWbZm65nX3GsyJkvMo4MrlNY1Nl98xtTHbr+cMS7xjENOlXGkxF9Vv+Lih5r2H6DGQUqBtjMRkbYUiMhMkwVC4WCeTdPcDqSEBUKhRq9gHABQoYqhSfv7808FguUL9rlkRv+rTmt16ciGwFIU5Y3X37r5xlsR8aFFD/zt76f+8mjqH1MigQTL/OJvvHYrKnZo20fvVwkSEWqiOWeqY+4TnCFpzVb8ZxcRIbhgwZAQgupac0H58gsfMJt8SAkTwkGU1YHKN315FoEhQee/n3w0ffqY6OnXfPHt2gOVDlX5be2nRJiLI3T58MFnDeob+9H6O1/Mf+sbzW1vET9HtHyBhP7Z41+4CZGAEECQ6hoSlN7YDdfe9Pqrb3bpkvbeR29ndc/ijJO2Cd1/UTl8hSptRdoLizG7zbh8zvTL7njcZmgoaeEQEYABOgO1DgzVm+y8Sy+Kj48zTZMQGrtNi44WmwNnWUxRKCHKp9+tvvS2x4OmJWugY91n07JSk+KvPHsWhF3kFhK7y0NEpIRbzJaacMziG76dc1ewtomo4YyldqwzQclvwEOWrXNS/OjMpEE9E/pmqU4bC5qyFydRFW9JVe3WffXbCxrzSlgwpNgNoig/ZaYJms3+nLkn9L/qNOmDx34JUaBDCDF7zhnffPXtks++eGThY2PHHd05rXNHL84jSsKKQYliN+Q7joxUPdEdrGtCRbMB3W82fuDPN4H3UOJPJd3L1+5Mnz6GWYwjqJSO6Zq+qrQcIi3Af8PVLc7dmjYpuxsAWJxj5P2mfaUoCR1bnACCcXvnRNVha6GikZrDa6+/esXylcVFxQsffPTfTz8a7c9yJCjz79nVGyIxBEQc0Lv76s279heV6arKpWOPRDW9dk8Zcm45U9aVetNT4vvmZElwinEeDoIIGcOTFYnABZdByGDIfOjZd268/znGeSvrLAURgyFz3IgBOVldZC5drHIcxOkQucVkRj8SUr58c8mS1W07REBkhSCUctO0fMH4Pll9L5s16MYzep5xXMrw3q7MzlVrdm6+77XKH3dUr9uVe86U5CE56ccOyTp5bOqYfkRRPEWVoUYP1bWYFaqVoIxVdp08gupaWH0FCB7m/ocIakQI6T+w3+effVFaUlrf0DBl6uTYxJX/6Q94mAQ72Ox+jbQCkQXnVFPLvt/UVFBu6EYjC73o3VXLA4nEON/ZJx7UoGl2nzWWaioCIGKqw740v8hvWb8N6yAIPtOa2L3btNwejHOZDEAIadpftuc/n7RDnoDIg2bXySNSR/UVjB90lxAJomVZ8fFxiqIs+35Ffn5+nz69e+b0PHJSSH9/1ZTOLCXkrFnHhUzroFsouN1TTjgzqR5ypxeXVpx9w0Nn3fDAqk07EVGhlNJobxbJhk8oJQqlXn/g3SXLj5s7/+4nX9dURVXasc5yYTBN645HX/Z4/QqlsUTm4Vw3RBY0LV+AKFSS1TUXVmy6+xWpQ62gIREu3KKhRo+eFDf8rguOe/MfPWdPsqclSTokAChdus5TVOErr6ndtFcyD7CQRVQlZWiv4f88f8Ibd2TOPNry+rnJZDfPVl+U4Fwx9KrVOzY/8Ib8L7cYEiQx7XSlE21ZVo8e2VdcdZmiKP/96JNPP1lCCDnSwLsjWWK1Xa7iABDfJxMFcBBv+fYeYF4d6On2nmnEbhmKZ9+Bmk17AQAFMM5THfZT++SG2M/EvX/i+kLAMd26RCcgAY2KFVuC9c3tsDUBghDxfTKjl5OOEUq0hFIAOOe8s0ePGenz+R5Z+Jjf51cUhfMjgub8d/agw5OgNBgyr7/3maraBkWhssGDzVupBxoAidfVxVLsmkJUVd28K/+dz5Z9v2ZLZU29ZVmmxUzL8gdCjU3ekorqtVv2vPDel/949JX/vPN5bUOT2+mImtpWV5RpRoahFZdVIeKE0YNYDAiAGK7cK/hw+doFzwCCs2uKYtPX3fJsw+4i1WFrv9smYqjR0+2kMUc9elXqyD4SFZEHEIWGGr15L37O/EHF0LjJXJmdUkf1BQDAcA2hkejuevwIV/f0mnW7Q41eJVz23epJE4rdqNu6P6FvprtHFyQk2NBc8vkaW0q86jCiei9zUYYOG7Ju3fq9efvzdufNmDXN4XT8eVP9OzzoXytREECGTxARVaXi41WfWiVrgpUEcIYta4zR2ccthRDLH0KCXSYNl/aSILo09Yt9he1gf79MuBB1/sCJOd3lxpRQwi225f7XQw3NqNDYQRGRm5YtNaHfvFNUh01wLvvHxWJ3jDFKSWZWtyWffVlSXKpp2pijRss3//JO9O+JQUcT3RSFPvbSBys37EiOdzPGBBI15DH8tQjgNxJMPY4IxgUgQpzLwTlfuWHHsrXbKCVJ8W63004IMU2rrrG5qdkrAHRNiXPZhQCLschK3I4gImPc7bQ/88ZnJx9/9OC+PRjjNOK6EkoF44XvLWvef2DTXS/ve21pXE7XqlU7VIeNW4fottns6zfvlJ6zjzeS4wCAWwwpEVzmUIOvotZTXElURTABAPU7CgEAOAckSAlwLosSu00d7crqvP625+p3FWpuR7vXQsQdT36oJ8UdWLq+9Kt1DTsLRz54ac8zJwnOo7nYcg942x23bN+6Iy8v76EHFt334D3RpMO/tk53CERrWYVASljQLPtha+W7K1ZDzfeBUgFijJY20ejq4xYBEFwoDuPA0vX1Z09J6JOJjAHAy1t3+i3LqaksJq7+U1H0SN6epIS2qeq6ssr3duad3q+XZTFVVUqWrK7bnq+67NCKURJRMK7FO2XMXLImtI2sMMZGjR75t9NPeeE/L730witTp5/Yq1fukQB0/G4edMSOcEWhO/cVXXHnE6qiAIDcqDubShQWshTD686ILUqROR6GphqGrqtKIGQ2Nnsbmz1efwARbTbD0DVZHf5Lfjb523t8vqIDVWdOn4CRWIZ0n8uXb8576XMtzkkNLVTf3LSvlOph3621Y0sw1OQbetvZqaP6fjf3nsa9pclDclSnDVF2SCHespqC976v2ZBHdBWEQABusi4njNDcDolxS0ab6vW7f7hikaewYvjdF9ZuzPOWVitGmzZuQhBVCdY1Fb6/rHrtThYyqa4G65u7nzwudvMoE2A6de5kMevHlavz9uT1H9CvR8/sP6lOd3jQv1aEELJZz/43v1l7x3MHXv924749b1sFAcFylfizHL0kL2JYoygxPf5QfXPGiaORkG/zi57btM2hqgLClSUIQAiK9sy0fIcSwoQIMqYSgogCQCG4q6ZuYlZGnM0Ief3rb33WbPa1LeYSss67rqn40x+9pdVGaryR5IaYWoRY5R8wsP9XX35dWlJaU1M7Y+a06CB/LmX+VfI7QxzSH7zs9sd35BXZbbrgvCW4kc40BwoepZANL+YAMoGaICoKlXg0QDirOjqy/COMDof3TS00TIbUDEPfta+oa+fkwX17MsZpJENuy4NveosriaZwixGFEl0F0VpBhRCSbrzXBdNShvdeedkiyxto2FVY8sVaLcHp6Jpa8vnqLQ+8vuPJD6vX7lIcuuACASW7WNm3G33ltfYuyUai219Vv/Wht7Y88EawtrluW36wtnHANadX/rg91OglajttcGXbQ5mfRxTqK6tJHprrzEgVXEh8QwiQtzx8xLBVK1fl5xfszdt38qkzDcP4MwIdHQb6N4hMKCr8ZGXFZ2v8icZLwb31PJBCbOc7+7iIasXShQughtawq9jdNYX2zpy/5FtTCIUQRPRbFgKYnAcsplJKCYk10zKWw4VoDoacmpqbmFjm8QghVEoVQuoDgSqP77gemVsefqvsm42a0942LSS6QliBYO3GvYUfLEsanOPq1gm4iLaCO5hx63LZbLbvvvm+oKAwO7t77z69/6QOxy+X381AI6LMnXjt428eefGDOJeTS3DD9Do85USIoC0h5EoTzIpYnNZE4+2OGfvf8NpOiRDQ7PEHTVPXVMmN12ooJLh5Z/7pU8e5nHbGOKGkKb9s+6PvhiOElAgusM0l5P7R8gaShuYc9ciVe1/7qnLFVj3RSVU11OQt+3Zj6ZdrCj9Y7impRkqoprZqPxisa6pavePA0vXe0qodj79fvmyLYjeIpih2vX57Qe75J6WO6lP00QqiUmwTDAk/HlwgAlEUs9kfavJmTjsq5tODQEdObo/PP/uipLjEsqzxx46T3RcFCBD8YEVvJID4x1T0DgP9qwURQSCiM6NT6TfrX6jdWsib7VQ729U7i7oCgtHW1ByAhFSt2ZkysnepW99VWqEq1BMK9U9Nvn3c6DFd06t9/iqvz2uaCiHRqi5ENBmzKcr4rK7zjx553pD+nR2O3TV1Nf6ASkkoZJ44tF/yj7u3LHpHc9qgXe+bEJm2RBRKCLF3Se576UzFpkMbjhrpVQwY2H/D+o178/bm7y84+ZSZNrvtz+hw/HL53Qy0ZLYrq6w9+4YHOAdCQIAEN0oVFuSqzevu1uT1G7rqC4QsixmazD/7GSxMilzYCaUI0OT1c87POeWEAb26r9uWJ4TQdTWKgcjfXte1sqramvrG6ceNkb6n6rJ1OmoAUainuMryhYjaziqNiIILqiqjF82zpSYk9O9esXxLoKYRKSUKJQoJNXiooSu6JtsOCS6ExUEAUiI9X8VuMH+oZmMeC5iqyyaz6EINnj4Xz+h20hhn19RATWPN+j1t+9VDFCMKmabHrye6kgfndBrTTzZnid6X5OHt0rWL1+tds3rd7l17ho8Y1i2zG+OcEBrpUIuICJwBgly94I9npjsM9K+SMNKFKIQwElxPL/lgef5OTVOn8rRhkODHMElkawuoUNMXaFy7+8zZUysdWml17RWjht509Mh0t7N7Qty0nOzh6Z27J8QV1Dd6TVOyIgQsa0xG+sMnjJuW2yPZbhNC5CYnHp+d6Q2ZOyqrr5h09Kzq4Mobn0JKJI9Ya/+GEBYIAhdUU5GQUJM399ypaWMHcou1LUXBSAppdo/sJZ99caCkFADHjj+Gs79yjv/vYKCjJgARKYWtu/Zv3rnPbtM4UJu30gg2UkWpUZObuXrypNHP3XvdwN7d9xSUHqioMU2mKjTCsnRIlFkIQSmxLObx+hnn40YMePyOyy+fO2PahFEDenXfuju/uKzK0DVKieyARQjhnDPO58yYOHJQb1mlRii1d0pMP3ZI5vSj6ncUeIsqiaa2ugqhNNTs6zF7UvYp41nQVJ02Ld5Z+uVaoqnSM0WFyORl0+PnQZPadD3RTSgJNXmZPxiu9kZUDA0JCsaREOYPunt2GXn/pVRTASC+T7eSz9davkC7+ioYd2Z2zjn7hCG3nJU18xiitH7qon8MGzF0xfcrCgsK9u/bf+rfT1cVyhoLoLlI+CqE5QPViVRBRMFZq/qXP4h0GOhfK9H90xuvv7X4tdcEiGPUtHMnnJh7w99CtU3NBeXU0GI7fEtvQ9E0b01DzYqtU088+m9TjhmVmkIEMCHkYt/JaR/QKaWosWl7Va2hKIjoM63zB/cf3DnVZOG2KUwIp6aNzex63MBePTcW/HDjk9xiRFFadRMPW+dgKKFvFlLqq6gVFjNS4obcdrbmskenFHs7cg6MsfT0tPq6+nVrN+zL23vMuGPS0jszxv6qNvqwGugY70ygEByJpqonTx6bX968aluBG/0ObzkyqyKkdus/9LFbLr71itkpSfGD+/SYO+O47hmdvf5AZU19fZMnFDIRsV3sSfrOXl8wKd510oRR91x77u3z5nTv2pkxLkD0zs44Y9oExtm6bXn+QMima3Jh9/j8Dy+4+PK5M2LdatlsUHXaCz5Y7iurIZoSW2CMiMJierxz+F0XaHEOJAhCxPfqVr+jsGlvCdFVwcMqCAK6Hj+8/1Wn9b5oWo8zjsuaNbbr8cNtnRO9pdWB6kbZ/ieaCiIsNuzO8+N7d+MWE0JoLkeoyVv54/a2/eqRoOn197/qtF7nnqjFOeVsW9nWqBOtaVpm98wvvvi2uLQcqjcerb8d2LSY732N7XuXF37CipYITym6uhM9TvKY/dFsdIeB/uUSSY6yFEVZu2bd9Vfd6PV6jxk+8t+LH8u5aFpcjy6urM5Fn/4Y3jnFCCIKzhVd89U2Vi3dkJae4srpCojAOQEEBIsLSrAhEFxeVGoolAuhUXL2wL5Jdpu0zoILAiB7b9Y9t2TdPa8IAKIqrVRXWmceMu2dEye8elvWqeNtyfHNBWXpE4ZmTj9aMA6kRXgwOr3oHwMHD/hm6bfFJSWVFZUnnzqrrVPyl5HDZ6CFEBhWAoaEAhII1FsVa0j5d9NyGt2h/Tu2lYpQ0NQTL7jq6mfunje4b0/OheyCbeja4L495syYeOL4EQN7Zce5nY3N3mafvxX2JISghHj9wVsuP+PJf141e/qE7G5pQgi5M0JExrjN0I87asj4kQPyCkrzCg8gYiAYemjBxZfNnibrWTCKrwEgIQ15Jbuf+S/SFuVPUfS5ywkjsk8dL0tXkJBgg2ffq1+ajT4JYljegCur8+iHLu99wTR3jy5Golt12rQ4hyM9udPofpnTjw41eeu27ieagoBA0PQEuhw/vN/lJ4dzVwEQ0ZYSV7JkFWestfIh8qClue1djx/BTQtpO0i9PI4SZFxkZnWrLdywYWvB7n0HRiSXZKVCiGuEKoKHwFcpKlfxok9BdZDkgdFx/jg2usNA/0KJJlkqilJeXnHxeZdWVFTm5ua8+OYLSd27MsaAcUd6MgsEy5dvVe16K8c2bKM11QqGCpesbi6qjMvNMBLcMnYiQ9CC8c/3FSBAwLK6uV1zBvRRCQouCCUSM6vemLd2weK8d79X7AaJkOK2miEAWP7gsH+en9g/W7HpyUNysk4emzqqj2LoEA7St785ltFCu93ujov7euk3hYVFXbqk9x/Q768aLTxMBlpaZ4EInCGhIlhvbX3cWne3yHs1UPid4V2/Y0/TtzsBhHXf+d3m3TjP0JMty4xWCnIhpPVMTYof2q/nzElj4uNc732+3GFrwe8sA49up/2x2y/vnJJoWpash47acQlrMM67pafOnTnJ5bBt3LHvzivnXj5nOuOcxFhniKzzNRvyij5eqdha7wcBkYfMflec4u6RLnOakJDdz/636JMfNLcDBLBA0J3dZfzzC+J7ZXDGRLSXlxDAheBcdRhdJg5lgWD16l3EUGUGKdXVbtPGhPP5EEGAkeSuWrOruaBMppHECALnSEjWrLEyAhmdWxs1FUgI7Fw8wHx32V69pEErqtdmDCEKRSEQCUWqoWITlp8XLRHcomlHy4RW6cb8f1GIXykdBvqXiAjThHGZOHzJBZdv2bQ1MSnh6f882aNHtmWaCqUyuSdlWK/6HYXNBeWtgDuIYB2EEqqp9dvyS5as9pXX6okue6dE+Rw5HfbV5RXNloWEjMrqelxWhnzGWNCsWrNz26Pv7njsPW9Jle5yHNwathwfEK1AKOesyb3Omyo4ByEE44pNVwz9pz2D2Ghhn769t23dvnv3nv1790+fNd3pdP4lo4WHz4PGiHVmlWvNby/ixV8gDzJidzht6wrU+e8QTxBmH0WvPrbKu/EN1BPV1EERBm9AAIoYKW9mlFIQ4p0lyyDcQz5snCghfn+wf6/ul82ZBiBohNy55TSAIlqcUUpHD+5z5vRjJ4weDDKKDSgix2AkB7Pky7XVa3dRXYWWAIewmJEc1/eymarLLphFFCXU6Nl8/2s8aBJKBGdUU49+4hpXVhoPmahQqZfRFyEoCY86HzWgYVdh455iqqtEpZ7iCnduRnxuhrAsxCiLXl3lD9sU42AvZAAABCQomNV18kgtzgkgEGVAvOUNC4aE8vwP/T/cFh+vp7rgqx1YUocO6h2T7Q8FQsgCAAJRQSSo2njZMjCSSMpgEDJ0+4dwSToM9M9K1LQBACLefvM//vvxZ5qu3XPf3cdNmmBZlqKqErziIYtoimC89Ot1tPWqDxBd4wEUQ+chs2b9nuLPVles2NpcWG75gtS0hiYkHJ+eNjU9baTdJSrrK9fszH/r2x1Pvr/3lS8a95RQQyO6GiZrPJQjrCqDF8yxpSYIixGFIiEi0ivuZ73gaLQwt1fOkk+/KC09YJrWhOOO/Usygh3GnoTSOlesMr+7CFgQjUQhhILg87MHPsUmP/ZJh+umCMvSCDK2ej7ygNLn3NhxEJBSkERF3bt16dYlbXd+sc3QD2Y/IwYtPqBXD0op4+InujcoVBEAnEOn5MQILh5OyAcAzgGEEFxQAs35FYKjECh4zE6QEisQTMhIs6clAwBRVQCo3VrQXFCpuuxCgNkU6HPpzIS+3TkTbZ2UyCCUc0CEflf/vWrtHmYyolAgSvFnazKnHSXHlKYjcVAuIBWsxRwAAAgN1Hj8VU3OjE7cAiQC2y5JqAh/lbXhfqrZfAEyZRCcsTvw+Gc+X6eTYfJZqs/Cum1s/3uicT+qDhACVZe1+RGSPo64u4uWJN0d8scXCW689MIrr7/2JiJcdMkFp51+Snj7DwAAgnOiKRUrt2158A3FZrSu64uIVCPZVF5GOGo25VWv3w0AisNwxLsUTRECigJBX0MzD5gAQBRKbTq1AXDRDkO6EBDNPiLIQ9ba+YuPefo6Z7dOYUAvJgP1J24QYwhn+vTtffa5cx9Z+E6k+n8AACAASURBVPg7b707feZJI0YO/+sBHYetqzdHQoW/2vpxPrAgKnYQnFumoQdfWqav2AUOnd94vJnqUrwhQyEUVJe14T50Z5L08WD6oKWPY3HutNsH9UwtKNzn0lXOwhaaUMF1MW5IdwAuTJ/4uf0OAeCWkL6yBCAAUTC28a6Xm/LLqK4hYnNRhRFPkZixXxUSwVXTleECCHkKy/2V9fU7Cw4sXa+5CFEt4MKWYmROHQxgghUU/JDTQABu8vjc1E5jelQs26xodhJHG7bu+P7sOxL6ZiUPzXVlpTkyUmyJqj3VYIEQqq3VjhLYcu9/NLdDCGH5An0umZF+3EgeDIRbgAsGmsva/arwlaOeQIQw/Z6bLxg//brLBw8eBIamxAOmH0V7zTV/uJ4Xf4mqC4gKwTq2+xUy8h8S8/uLaPpfWmIDgytX/PDAvQ9ZpjV56gk333YTABAMxydAABJS9v2mtQueYf4g0dQwQEwkLWI7VSQgzTSi4ggzlwIXzbWN0lUnBKmiKG5VAIQ7XHHRFkEOW0yCICKxRF1tLihbefmiMYvmxeVmiJiylJ8VObhEMy6bd8nSr77eumXbww8seuu91yn9q7VcORz0ZkIIEBwJNdf8g+16AY1EEFywoNDibWMWfLZezF9w99w5f7v58nH+H+/Hhl2oOgGE4BYqdnCkg2CtkVAhCCE19Y11Dc2tUCcuRLe0FEn8/6vxUwm7CuEpqrT8QSQEhKC6ipS0+pIQQXChxTkUpy1Q1RBq8gIXRFeppgohQAiiKfbOSVIjf8YHFQIpCdY1hxo8Mvwt8Wu5Q6Q23ZaaQA3VV14nws3iWs+EhUxhcUAUnNvTkvRE10HORiEAifAeABZCJMBDwtbZOOlD0BMBhOAssnaqwgqEPj9FNO5FxS4sP7qytBPfR831R3BGIjuwDsL+9iUaGKSUlhSX/v3U2cXFxX379Xnn/TfjE+KjTqU8GBGXX/Rg2TcbbZ0SWMiUP67p9ROFKjbjZ7tGHPxUHiJavnmoUwgCoOxGpNgNiU1TTfWW1fSbd8qgG8+UmRu/XNNiF6TPl3x5xSVXWpZ1973/POe8s/7s7SlayeEx0ByRcM8Bc8ksYXkRFcGDaKSqE58jCb0AoLKyMjU1FRF5yGt9dyGvWisfQiE4sFD7dlYIRaGKQls/qgihkPVbrHOMUF1FglHla98aIAiLCc6JokTzncN9IhCAC2Za8PPmOXwvRKEYvRcMB1JAgu6mBVwQTTnUUAddDwQesrjVcj0TAqkGSACJCDbSAfOUoTdyM0QU9WC2BjeRqNbeN60fb0I9AQQTnGmT3ybJA4VgiL+z/eow0D8h0cAgISQUCs0+/azVq9YkpyS/9ubL/Qf0a2WtpKMaavT8MO/R6rW7tAQXNy0WNPtcPL12y/7y7zfpiS6Q/TD/Fylr4aRVSrhpmc3+7L9PRIL73/pGj3cBQrC+Ofv0icPvviA2Mh8rP41Hi3A/XEEIufySKz98/6OsrMwP/vtuWnraXylaeFjY7IQABFG1VvirUI8HIYCFlCE3koRegoUAlU6dOgGAYCGiOZRRd4W+OB14EJAgElBshxrVFMIMtWO1kOj/x6gPM0WMaT2EmgoAJECQMQEsemTMwVT55QrOhYD27gWAAOpAgVm/wCQJAKJhOz+pDKYDIJJOoxAg2nAg/GwgAQCS2B8UGwgGSMBqFmZz5DZ/8W10yOGV2MAgANxy0+2rV63Rdf2uf93ZjnUWAgkKzrU459FPXffD5Yuq1uwkmjLwujN6nT+VBUNbF72z/82vZUIF/Jxf/AvnBgChRq8W7xx6x+k5Z00GAMF4/rvfgRDZp08Ycc+FEFk2fmKEQwlGmpreMP/a1T+uKSwsfmTh4w8uvE8I8ccsiP0NcvjWGd6QF/YKWQDd3UmX8QAARAFELjdWVBPcIvE5JGWIsKK4szjUiyAQIjuytnjhoU/5hS9EQBKbc9HeSx4gD2739b+6IoifukqrKbU/foymUr39nwcgZoGJwCMd8mcQWUf3zNP/efft9wiSy6+8dMbMaW3DZRih2eKMaS77MU9fnzqqb/+rTut1/lTOGNW1ITfPHfvs/KTBOf8T6xbx2XnXKaMmvvmPnLMmC8YF5yP+dVH2Gcf3POekEf+6WB4QTrIWQoQLH3gUaYmaWsG5YExWY4lI9l40WpjdI/uCi86jlHz0/scrlv9AKeWMH8ox/3PJYdwI+KoBABCBm2jvjHqcEFzaAnIwHw4BAJ1dDt+sjhSJ4DX1OwAAgEe1X2awAYBo2AuWH5CC4KAYqLkAOtznP67E4rDffvPdooceZRY7afrU62+8Flo8UwclnEdMqWBcddrGv7Cgz8UzAAAJEUJwi3Ua3Xf0oitUhyFRDhFpSy/bbEYWbhE7h8jQ8jASbRgIBC1vIOfsKUc9eqW7e5qkR5ex634XHpeY1OQvLgoPwhgAVHz4wdqTZ248a86GM8/YeNYcf0mxvABG6H+RUiREMAYx+wYRably0SUXDBk6uNnTvPDBRZZlUeUvEi08jAZaghUSGbD8glux+aeRb1MAALBQh/v2vxYEIYBqbO87wgogUQU3ATgAlwC0AGB5rwFRAUCwIDq6oCszfGKH/PEktmIwP79gwY23er3egYMHPrTofojQprcLEWCkn6zgXDLZigi9gfypq1btCFQ3onqwNbPZ7As1+SxfgJssOkKryfCQZXn8oUYPD1kHrSdAc0EZAEjCXhYM1iz7fvv1122cfUbeXXeWf/QRSNeYcwAIVFQ0btzYtGVL05bNTVu2MK8PAIBzwRgSUvHJJ8UvvmA2NobNdHTOAIhoWUzTtetuvMbhcGxYt/H5Z18EgL9Gj7fDZ6DR1Q2EABBIDd64XzTlAwAIdjBUJTgSRTCT124Bqv3FbHR0s8aFYFwwLqIuwOGaAP9/7Z13nBvV1Ybfc+8d1dU2r9cdN9wrYBuMMTaYYiDUhOoACaGlEEogEAKhhQQ+mqmBhBrABAid0MFUY3DDvTfc63ZJo5l7z/fHSFq5gA3etbXreX5LsTw7Gkmjd86ce857SIa5cr7z5TVsXBIWkSSSnjq7X15rNkwl7yKqbdFqCAWL2WhfoPOQ3I7BRCJx+SV/WL1qdatWrcbef2dBrMB1t+MclD73jNHGeH25nHmw/l5KCADLX/+CpPAeN1pbBeH9rz+328+PKu3XJdSymI1hvcXtl3E1CRFpW1Y2qGefS35adkAPnUyREDBsRUPrJsyuWrjCm5PiVlXNufqPa195WcfjgbKWGz78QCcSQimv5F8VxGQkIqNR70cVxgCQUhDCuO63jz867y/XT/rZKQtv+3vNvHm5B8DMUgqt9WGHjzzhpONdrf/1yGPLly1XSpkfNZU8r9gti4ReWU7ZAMgA2EBIpGr0zIfE8LEkFBsXRGzYqxbQ857kivlkxRimab+1OWTPJNdw2CJhAQZ2alfXYX7wAcCQVWCWvp6qWix7niNKewPElfP1/KfNhm+86kYYF1ZU9jgHALYpaPXZ42TPJe+jufrKa6dMmhqOhP92+y3de3TfbpFZ9le2rW2o12htSIqN3yxa+8VMoSSYhaWcumTLI3rte9aRANiYxIZKe3P1pGv/Vb1olQwFALjxZPujBve74nQZCoRbFgNY8+n09V/N8erq2Jj4mk2LXxi//5/PMY4TLC8vP+ro1S88T1IKEnXz51dOntxi+PD4smVuXV3NnNkkZTrR7LqbPvmkeNAgq6g42KrV5q+/qp0/P9SmTWrDhiX3jbU3rO971z3wTIozyW7v31dceennn36xYsXKu+4Ye9+D9+S+wN3x2TQCu2cmoQAgygeJFgPMxmlkRckq0MvegBVVB1xLVhSAt7yl5z7ufnMXVATNRZ2z54cXMUejYulq9/OFblGYDutlBRWZxtfobKLZuwSSFeXKee4XV0JFAIJbB2GRFQUYJNnepPa7SpT2ZtZAc2ucbR4ws5fcuH/sg6++/LqU8tLLLzn6mKO+qwQ4K+ir1m2sqqnzHGmCAatju1YyG2sLAlDYte2Bt1+87PXPN01d6NQmAe500nCkx8/LSKvSSKtSKxZmreHZ12kdblVa0KEcgGddUD6kV1H3DhVzlhEQKCnoeOKwtocO9A4CQPmxx65+6b9p50XLWnTXHcsfezS+eFFq40YSQoZC7JmCMc+/6UYRDAbLW8V6906uXetln0mpQGmLNqf8NPd1wRgQeSZK7Tu0v+jXF9z4l5v/98ZbJ5z4kyOOGtXUy6J3Vyeh0SSk7HuRGX8RAIBJRfSCcWbtRNH2UIq2YbuS1000G7+BDBOlywmYm/wdCjLqHJAkFV6eaF//cnzRetOzjXyvqwoHSOtGTyKkz2MVQaoaJEgGSUWgImANAMHi9HbGZXuj7H62HHApAGA7q0w+e5bchcF33nr3vrEPGK1/euopv7v0N9nlsu3+lvc/F19/34SpswujkZTjxgrC7zz+907tW2XzucwciEU6nTS800nDN01ftGjcB6nKmvIDewEQloQnwfCu49LLh5CU3uj6zIhkI0OBDqOHpKpqu551ZPsjB8c6tsoeNoDSg4YW7bd/1ZTJMhIRlhVftIhdVwSDMhLx9p/NGqtYDMbY69Ymvl0uAgERCADQdbUlBw5tMewQZm+8B3vHAIA9ix7gl+ef+9b/3p7wxZd33zl22PBh4XD9tPumyO7IQXuVtsxGdjhS9jibExuRDuViXLtCz33cnfI3PfNBs3E6qSiRAEnWCdZ2dsBHoxxSJh3s2fbXF/Rk/p2bKUZO7jj3J7txJseXfjC7sfe3lqCNNeaSf9eNeaRWELUqFNHgbkruem8+nFrZ5yJ14F9Biu0KdhNgDZJezQbrJNuVDKj9rlYH30aZS2OTPrObH7nqPH/e/D9f85dEInHA4P1vu/NWbJP62PYXl69aN2fRcgDxpG2Yv129Yd6SFcicvdlf95wXWwzY98DbLx469vciJ/wkEhDCqUumquuc6rhTE09V1Wk7BaQDZE+19z3ziGPevafXeUcvu/OmTZ99BoBdh6Q0rrvi6X8nV6wQgbQHuggGZUEBSQnmbKN5+mqhNQARCKjCQhEMprVYWfaGDZsnTCAiyuQ3vn3yidoFC0hKaO1VHF559RWFhYUzvpn5yD/+hSa+WribImhkymrVkBvg1umFz8OKkgySCiPdGJZpHWXNifWiw1EULtdLXiYVaYw42vvAQhaRImhOprZwAmNmISgUAAAnBW2YGZYiZSHHUolhkLQ5e/oyczhAUOTaDIIKAAztwDWwXT730dp3Zzg3/zQysqf66QO1zLspOE1X0VlR2WaYKO0tWg7UC54zaz7j2pVwawBAhSjSVrQeKnv8XJT2Rlqd/eRGfpFekdNGKVVTU3P5JVeuW7euXbu2Y++/KxwOa1d/V2FZJnjA/CUr122sKCqIamO8GrzJMxeMPnQQtkzReoO3WRsQVLje/xNI39b2v/KMVEUNKQnAOG6sUxtk2lk9YbUKozpeN/ns8zZP+KJy0pQ+Y8eWHjS0avr0hX/7a+WUKSoSoazoe+67wFbHUP/HzAZesZ0IBBLLl31z/nltTvlpt6uvUbHYkvvuXXzXnbG+fQc88s9w+w5Ca6310IMP+umpJz/52L+ffOypY38yunv3bk3XRGn35KCzl3dDJNSwO6m0j579CNetBkkIBQiAwS6Mi0Ch7H2BOvBm3jhdL30VjZPgN8whRe/NSn02392/kzr5gEAyxUJkbq8kbao1T79nuwZjhgbbFAkpsKnOvD3DmbjYXV1ppECXlvLwXtYRfSxmaMMMhBS9Pi311RJ3zNBgWYzGvpycv1ZfckRoZB9r0yYmwrhfF5x5eOibeY42u7M2gtiNi5b7U0kvNloUdxdDbmC7imu/5VQ1wGQVUkEHCpUA8PLOvjrnG/WrfFIAuOrya2ZMnxktiN52x986d+nsOI6QUmuTGV2/tQc/YABMnD7XGOZsowdo6uyF2LKjur6rRQpm1toATJkpsQwmRuuD+2738ODlKKRMrl4964rLqqZNDbVp49ZUz/njVa1PPGn1C887lZVWSQm0/nFnV1qjg0EAq559pm7xoliv3queGxcoL48vWTL9wgv73f9AtGtX0hrAZVf8/pPxny1ZsuTO2+/+52P/8CPoHZA5CYTnYKl6/VJ2PFYve9Os+Yzr1sKkQIpCLaj8ANnpeM+gAyU9qaQ3b55NKoxd9F7YBmaQQm0St76RGNRFjexpxUKkDRORNqwsfDLPuer5+EH7qosOCymFeav1xU/VTVjktiqkNsXC0Xh/tvPQR8nzDw3eflqEiLRmsvDuLOehd5LdWsl3ZjrPT7BBOKqvNbJfIGTRE78qaF0skGBnG+unxoOZSUgYR7Q/nIiYwWzATMEiCvbbYkvjHdZ3jWXx2cMws1dXd+f/3f3Wm29Lpf7wx8sPGzXScRzLsrLbaGO8dT/k1M8ZZglMmbVQCAI8rUcgoJasWLthc1XL0iKv6A45Ym2Y2ZhsUjtrtcxE0CbnhtdrYc1c0ZkBxJcvq54+XUai7LoiFHKrq5c//A8ZjapYjF0X24RcnKnw49zybSGwjXOTp9FEZLVoUTNjRtXUqaqggF1XFRVVz5q5+K47+j/0MAnhum55q/LfXHLxtX+87v13P3jjtf8df+JxTXS1cDcJNLbQaIbRFGmlev8KvX/FqRpoG8KiYJG3JbMGG5JB2eFId+M0UJSN27BvqyA4KYzqbR3S3Zq50p2yzD2yv+UkILwrgcHbMx1L0RkHBkuKRLzOXPFc/JPZzgWjQtefEC6OEIDJS93Ln4s/Mt4e0kWdNSyYqgMYsRCVlYrXpqXWVplXLo+VF4p2xcJJcjRIhWGqTXBBZLeeHkQE4yBYKjoc5f0ZIAjBbICMCZSXtMk6UjblmqRmSW7q+fVX3/jHA48YNmeeceqFF5/vutpT5yv//s/+Pbucc/IRksh1tZQCgPYMEaUQQlRW1y5ctirouS0CzBwMBJavWrdy7YaWpUWO61pKZovwXK2VlJByxrwlT7703p8uPqNli2LvQWbOHf9W/z9eAC4la1069OB+Dz406/LLoDUpRUKooqJ0y8l35MeNbTMbGQxlBdStqRHBoNhGUtOhutYiFBJErDVJ6VRUFB9wQLfrrvf26GUzxpx95v/eeGv8Rx/fe899Iw87NFYYa4omSrv1cOslQEhmw0YzGwrEKFxGwSJm9h4BhLeKKDqORrAEDa3O3pGkNBcX0sieqiaJ92Y53uMMhAO0eL2esMhtUyxG9bbAvL6aiyM0qr912VGhDuVSEKTAYQMDpw8JaMYHs52c3cI1mP6tvufM6EnDggd3V+1Lhbds6Ogd2lM3MOm1WTchWh8kirp6jfVeYTORIJIkJAlJJCnj8+9Lc76Rq86zZsz6y59vsm37oKEH3nrbLQCUkgAuuu7ee5965Xc3PXD2lbcvXbFWKUmZ9g0pxZoNmz+cMO2m+59Zv6nSUiozeY2J4DjuO59OBhAMWN7AbK2NYVZSJu3U3x/+z08uuH7sk6+M+cNtVTV1Ssrt9n1w1ivDGGaGlKx1y8NH9b1nLFnp6wHMFvZ4Xg0GstG640Q6dS4asJ9xHC8YB1HZ4aMCZWXGzfQlZpZ5vD2ko3VjSAiTTMZ69x7w6OPhtu3STeEZE6WrrrmipKRk7ux5D97/DwDZcoDG/tQakN19PaG0RAAgEhKgzE2YAeA94v0tsxFF+4q2h7Jbh4Yu52Bvkc7gmP6B4gh9usDZWGkCiowBKXw+312y3hzSTfVpJxNxblsixl1c8PYVhb3bSxiORigSIij06yABVMQZmayFJMRt3q+jPKirqqs08SSndPr6/z3jXRoJIs+NmmSXU7zX7Otv04Jz+rkrKiouv/SqjRs37tNxn7H33xUIBIzWjuNefN29T738XqsWJQWR0EvvfH742Vc99MzrAIQQn06aedF1Yw8fc9UJF93w6Atve/Fv9ibJGC6Ihu998pXhZ1xx56Mvrlq3UUoppZBCvPvZ5MN//seb738maafaty77bNKsUy+5ZePmKm866LZHmJZFIWCMl5eA5++xTcicLRfRiYSxbRICRMa2w507lY8ebWwbRGAmy+py2WXBli3ZcUDkqbBxnO9KJbNJJ0mQsVUSRFrr/fbf74yzTmPgmX+PmzVzllKyyVV07L4Ux1ZsGbJtfQuDdN075L6nmuVvN4a4CIKdwn77yMGd5ecL3MnL9OiBwnbADt6e6QjC8QMtUuAUXM0BRUmHpyzTi9fr9dUcT7EQmLdaBxUMw3D9CzCMLi0lJIggd26KT6NBrOOipI9oNxIA/KW/JkU6ujTp6uY/XPbHubPnxgpjd9x9W/sO7W07FQwGxr3x4b9eeKtteYuU4xJRSWFBbV3iir898t7nU4pi0Vffn+C4OhwKFsWinnBhyzDW+/8Z85dOnrngoWffuOSck44dMfieJ15+7o3xRFRaHNPa2CmnrLTowwnfXHfPkw/fcikbZpGzlphR55p580jJgn27ASAhEqtXzbvuz+y6FAzylmOdARjHKew/gLVbO3euVwRd+dVXJp6QkYgn8TIcXvfmGzVz58pwGMzGcQp69nKqqlLr15HaQrLYGBEO18yaMf+G6/vd9wCYKWulqzWASy777Ucffjx/3vw7brv7qWcfF6KxKncbiTzNyHDWpLjNoaL8AHbjXldbQ+3fC+Rdw+EIHdMvkHDw7qwUGKEAzVurv1zk9mgjR/SwdAoMRIL0wSznhHtrjrij+uKn6u77IPnvL+ynv7C/XuJakrY9qIJQzq3cHiL9BmpH7Hua5+Pq9203IbKZYu/O8m+33Pb+ux8oS11z7VXDDjnYdd1AwAJw/KiDDhzQq6Yu4S0Memni0uLCjyZOf+ndzyOhYElhQcCSxhi9jQd/NpCMhIKlxbGqmrq/jH3qsDFXPf3qh5FQMBIKum7aGimVclqWFv38xFEAQFtIfDb5sOCWmyf/7Kfzbri+6ptvACy+60573ToZDm87RgtE7DidfvObHn+5QSeT6QDZcaq+mZaOgoUwtr3uzf+lVw6ZScred9xZevDBOpnElonCdGFfSen6d95Z+8brJGXtgvnzb75p0+efCSmdVKqkpOSSS38bDAY/Hv/pi8+/5N2RNKEgOk8F2hNQNpoIssc5YJN7ZjQIzCwAuDiij9WmmD6d766pMDJI4+c6KyvMkX2sNi1EwuFogKZ/657/RN2UZe4FI4KfXls4/urYh38s/PqGoutODNeleFur8foJJ3tOEIkEuwkq2ld2OQkAaHtXEp88hjJTrF58/qVH//k4M8acfda5553j1XIQkat1USx6/e/GeGkL7ytjmI0xBeFQYUGEAVfrtPfndqBsmYfr6oClYpGwNqYoFmFAZwoqpBTVtfELTj/mkEF9tTZiS4mHMURUMWlS9YzpIFo1bty0886dfNYZmz75RBYU5KY4slIOZhEMzrv2T6mKipKhQ3VtLdJfdpNOgAihEwmnYrOXANHxeOkhw9e/+87q/76oCgqQGZZUr7DpIXOBpQ/cP/PS308Zc9ayhx9aOe5ZAEopNvzTU08+7PCRqZT9wL0Pbtq0uWmZKOWpQCM3iO54jGh5ADt1DRtEAyBCwuHebeUh3azZq/TUZS4Mvz3DiQRw/EALXo28wouTUqsrzQn7Be75eXS/TmqfFrK8UBTEhMh03+QbmfA5KbuPoUDMq4HJyyP12Q65C4NTp0y7+Ya/puzU8EMPufnWG70N0tIphDbmmBGDTz3m0IqqGpnjYGc4LXdEJIiEINtOVVXXZn8qq2ura+PGGCVlumCOYdIpb5P7FPFEsm/3TldfeDq2WEBKH6enlav+8xy7rrAsVVQERvW0abxllJrNO3t+HaRUatOm+TfeQEqRZWVbUdJhmdd67uUimGU4nFjx7fJ/PuKZ3mGbfDRleljstWvXv/MWu26obbvKSZNqFy0kIYx2AVx5zRVlZWULFy66f+wDyLlB2S2f5y6RvwKdE0QL2eeidCl0w133MmcDyMJPBlgpl79c5C5bayYudgd1VoM7q1QKggDGik0GwEFdFBhVdRxPcUozNH8wxxGZdqfvmF6/VU85YJDxM4BmaANj0LDWo+laRjdOJb1ltzMAgJpkD9XeSe7C4Ib1G/5w6VUVFRVd9u1yz313eKaaYks3ZADX/W5Mp3atbMcRW6onEQlBtfFkdW28Y7tWpxx9yFUXnHbHny786x9+cfGZx40Y0j8UDGyuqnEzXXZbFVl6F3Vt+KZLzymIhl1XZzu5ss9BQtgbN9bMnmWSSZ1IeL8lI5GszmZ3ZVw31revjES8zWQk4mzaVD11qshWemTY4gCYSYj40iVERFKCyK2qiuy7b6hdO0+jt9hSShUr9Kz9Uxs2rHz6aQCeiVKfPr3PPncMET3/3IuTJ02RssmsFu6xRcKdIR0JMst9jtRtR5hVH1Mg5s2ibqj9e4XCI3paHcvkpKW6LJaqqOPj+lvRKNXF2XueSJAArK0yCFKhBgkgSM+OT74/24mFKKUhFULf0brtnQRBRcICNBCmghCBIYgKQxQMU9AAjFQKDWlrRwTjqD4XkhVh45JQ+X8i+qB+YdB4innFpVctXLCoqLjozntub92m9bYzBqUQjut2atfqlNHDxz7+UklRTGeGQgkhjDFVNYnhg/r8eszxI4b0Ly4s2OrpFi5b9eLbnz724jvrNlQUxaI6pzGEmZWUm6tqzjn5yGNHDtHaSLnNIrN3bpeV7ffEU2vffGPtq6/EFy8W4TDlrEDWb+m6Hc4+12pROufKP+i6OpIybXL0vae99/URyvL+YGy7ePCQnrf8demDDySWLUMwmI53shptDGvt1tREOnUKtmoFAEIIZgC/ueTiD977cObMWXfefvd//vts7qTzfEbeeOONe/oYvpN0kAtDJKiwi176GjVoYtfblaNRVihmr3Qn7ba2ygAAIABJREFULHYXrDUBRdefGG4VE1oDgGVRbYLf+MZZVWlKgxS0aNkGc9f/kg+Pty8/OjxxsZtMcdeWoiBIhREaP8f5crE7oqd1aE/LcSGIDHPIoq8Wu//4IPn5QveLOc7H85xF6zQRra82Exa4H85ypixze7dV4UADWI8yMwnJqVrRZpg16M/IpImaevhMRGBjFr3IiXUkrF3fHbQtWvSTHY4AM+3ijOEGgnOm8Akhbrz+5ldees0KWDf99YbR27MS9aRcSblm/aYb7n0qYadEZrifEMJxXCLccvm599/wu55dOoSCAa01ZzDMAJWVFA4f3O/kI4ctXbl25oKl4WAAOaF3ynHbtip97O9/KCyIALztDK1sRsKKxYoPOKDNz04NlJVVfjVxu5pLUm4c/5Guqwt37ORFxNmdfP/bUp/FNkZFo7F+/VaOe6Zq8qRtVyC9OD1QVtbtmj91v/a6FsMP9STYC6JDoVBpWYv33/lg+fJvy1q2GDCwv3Yd6d0TZH9yezXy4yuT1xE00kG0ZKNFWX/Z/Sw9+58ULGnAxkLyKt4JJ+4XGDcxtb5aHz/Q6tteJVJMBAJsGyftH/hqsfvE5/YvH60rilDc5vJCMXZM5ISBgU/mO2/PcI4fW3vW0MBTl8bqbLbjnHTqy+68nvIpy9y/v5IIRkgbSIFIgGptc+c7SQCOy+1Kxc8GBUqi0t1ljw5PyKBCauCV8GyPRNOIFPZOsqKczuAxvOTGs/8e9+8nnwHhl78698wxp2e9frb6Xe+RsU++MnfxipalRV7dhRDCcd1wOPjk7VeOOng/ZtbaCCmEEMh0Y3tPaozRhvdpW/7C/dddfuvD//rPW4WxiNZetg1CUCKZqqyuad+6jLcX6uamgNl1ZTBY2L+/TiZkKJy7OJNNyDDz+rf+J8NhsqztdhXuACJj2+vefAOADIWwrXsfEbtuoLS07c9OBcDaJZme6SWlNMYc95Nj3jjmzddeef2h+x8+8uijWrcuNzlL+umjNS5Ibr3nPUcTyMIg66+Wqk69fQrXfEsy2FAWd5lrLCVTPHOlTrncoYXoVCZdnXsjSUSYuMiZs1onHOxTKoZ1U+XFwnFQlTATF7kJB91bi/4d1IK1esVm07GF6FwmXZOZxyNobZVZukF7ZdHs9VWlB5DDMAIKvdvKXTfvZ2YSiu0K2fe31gFXex7ceXKe7QppFTOu886pZtMMStsf7gIkOFUtu51pDf279y410JHuLFvoMjOIvCjeNVACE7/86lfnXlBVWT3qyMOfevZx5Fhh5BZFeJHy8lXrRpx1ZV0iKXPqzxzHffbua0aPGOw4brax8LvkVWeclC/88z3PvPZRSWGBqzUAJeWmyupzTznykb9elnVi+o5XAa+re+lDDy65525VVJTV33TSxnWFUl73IHImdv/QM5Mzrh2eFrMx2/aCG9fd/5lxRf37s9a5I1e8l7lo4cJTTz5r3br1Z5996u1XH20v+5LsTSQkFbSnsoGifAgFCpBPho75HkEju+plXAoUqv3/5Hx8IRruBsTbjzEcsmhYTwUCO7DdLdxHPVvnQ3pah/TycmHQKcSTLAjFYfGTAwIgQCOR4h6tZY/2kl3YTr09mDbcrkR0KBffqSoNkYNmZiLJTh2V9lMDfu+9NuTNnZpPlhxdM0QyPSrbrtBOUhUUr1654arLr6mqrOreo9td9/4fMsqSmx3OKI4RQrz6/oR1GytKi2JZVa2orvnjBaeNHjHYcb9TnZE1tWCWUnop5jv/dNHU2YsWf7smFAwwszYmFo28//nU5avWdWzXynFdKSXlGCrl7pmlBFC7YH7uWZe5snKgrCy1bh0zy1AIW/rn/Zi3T2udSFilpTIUdior6nsImUlKk0gkV64o6t8fmZyM90WWUrpOat9u3X75q7P/77Z7Xnnlf6Oj/z2sD+qSkCLzlhR1lT3OlT3PJhLMmvJgdb0JCHT6bCbJrGWHUabH2Xru4w2Y6OCMfVc84T0dRO6Zl/k6xZP1+prtEnQNp7zfAoSghMOc2mIP3r9tl9nZ7pOnEbSrZy0RAQZCqSE3kAo3m/C5mZE5KwyRAKSpWmyWvWHWTTLxdZLtuIhd/nBi6fKVpS1b3/3QQ2VlZa7jqJw6B5NppAbIshSAdz+brJRkpBUzYdvdO7e/4lc/AyDFjr0JKVPs7LhuYUHkqgtO/dU1d4dDAWYwc8BSazZs/nLa3I7tWllKIW3A5Jm6eAExGdc1tk1EDNir13ju+7k7B6HnTTc7lZXfPvlEfMkS2oW4IX200Wj5Mcd0OPeXGz54f+kD93uzV+r3KUTtggWtjj1O19WSkCIUIiEYYKOlFUDF7F92fv+dTqFvVgbu/dga0hNWWBj2Ju4x13zrTrzWrPnUGnYXBQrzIY5uAgLtQUSef4ba/xreMMVsnkNWtEEqOrJnjKStH/yuv83dLPdxQZTNIueeiLmP7/BIfgSe5Qbbm9X+f5KthmQrN3x1zisy6qyJJOuU+81deuFzsCtBiklZIfHncWu/mK6CwdB1P3EGhj90dTdlWRk1T6/+ZfdWWV37xZTZcxevCAUDXtWzFCKRTJ35k8MKCyKuq5XaqSu0p3pKSgDHjxrau1vHBUtXhkNBAIZNJBR84OnXknaqX49O+3ZsVxSL1r8crSHlxo8+XHznHaogZlzHXrtWhEJbdQeQEIvvvEMVFcHVDZDbZSYpEytWLrjlJnvDBhkOZws5AHht4mteemnTp5/AGDD63H1PtGtXaIekZaoWJd47L4b1l44u+O2/zdRl+Pfn+PWo2rparQIhCItkECpilr/tOHXWqCcyqdQ9uYbcNAQ687kKNppUSB18R+q9M9lNklDNY27hrpBJPVeKjsfJfr8Bc3qi2N79tuQbObGz5FS18/GvzeqPKVCMYIlmioTNPz8wL0wNCcXnHapPG5Ks+/Sv1soZPPw+khYbx7vKr1yzcfbC5ZNnLpg2Z9Hib9esXLNBShmQxGAigE1hNHjksIEACIa9ivudTte72kRCwcMP7Dd30VIlgl5mLxRU85cs/90N90YjoU7tW/fo3P7AAT0H9everVO7klgUkG5VZd3C+aqwkI0RVoC83oEM3o1d3eJFni+oCAYovRDzIyEp3JrqqmmTAQhlkWVttTeSwq2pcio2ee+6Sca9h9k47oSrhb0+YRUe3U8f21e/OFk8/gkfdXCfrh1jiQ3zKbGeAjGwS+Eys/oTd8rfrCE3ISdZ/6OPeVdoGgKN+qp1ycYVJT2tITc5n18GofJnvXWPkH5PnDoq6WkNvZ0ABu/x+zKf7cKZmRXOp5eY1Z9QqCVYG8MRUfvBVHXv+xHXSRzVR199XNhOQUZammWvOzIQGH4vhEWABs646oEvPpuMcAjMVsAKWCFkch5e0UWPLh26du0BT7x+4OF5i6WDDhhU+9j/KCC1zt5EhkQoXOfylAXrvp696uk3vwJwQP8eb/3r5vJiGBE1CDHCDO3a9RbjuTsmCkERM7vJBihJIEjIKABjwEne5ulAJEEWPMdzKwaApHLnP2PWf03BUjbGuKnLT2z55Qqzbt1658D70L2jVb2CFzyt5z0JYZFxKViiFz4vupwiywYwa9pzDX1NRqCRm4w2WnY+gauXut/cRcESgka2039vIr0wqFMIxKzh91KwyE9u5C1ExEaDpJ79T7PyQwqVgV0wm1QdOg166ZWaJcu+GXFw39svjFBqpqYCCRehFmbZm06whFr0I21rwyd2mDfkCDsYMBnjii1i1WTK6drBiq36j/tdja3fCzPLUGCgWHHJwVWhQHzr+i4vyU0QRI7jhoIzxcKn0KY87E5od7CQISev6sEImYadda8Yq4NxXD3vKcgwmAW0bQKdT7l33Mjy6or1Pbt3ZDaqsAMGXUuhFu6026GiIAG3xix6UZYNAIN3v1lw9oXk1du6Q+pX3gAmcidcrRc+17CV0U0FLxwDa2a2Rj4s241orurcPMrs0itOiU2pt07g5CYSFsCsU6Lf7wIDfj97zoJxTz113oXnd+3a2f76Vsx/AulJb8RuHdIDyRAKhyDEd798gtbJhP2jy+m9ZLQVDu3MO5yKJ40xwrK2zTvnDzqR8AaEQ0VISJBgu0r2+43c/2ovKk6LCRtvqFDq3TPN+q/JKmA3TkXdAse8TCq0B79TTSmCRk6BTnq24cG3c6rSLH97b9PojDob1rY17C5PndEc1bl5kG5XI5jVH3PtSgoWA8ypGtnvd9aA3zNzn97db739VgCGERzyZ0fH9YJnKFgENqQKsoIbd8wOlJOEDAZ/9HESoBlO0ux4U0CoGBEMs0mYbfMM+YIsIE/k2HhaDBKi/SgBGO0wMv07JGFckBIdR5u1EwBAKCQ3cnwtFXbyrpR75PCbmEAjd8GQNZG0hj/g6AvNyg8pWMrG8Son9vQxNi5pdQazTqgD/yq7nOTdO9OuBpY+jQVR2u3VrPsq7ZapbSrYR/U+HwDBGJOOPAQMSMm+F5sV77FbSySBelGWtBNCwTslr995qMjWBe8QA69ndlvL3Tyi/t1Ll6KqMMkwABKCkOlf57QEU6R1upQbgt0ktA1gD36x8sKF4IeS0WjJrEla1siHRbvD2N5EQqEpOFTtCvWxs1OnBt+kup/FrLMjX/3wOT/h7FS9utUAeWYgVNqXgsVsNJMkIs/lmUkyG4p1oOJucJNN9Bua12xzAduiRdOu8NI1DCYZQNr4ZY99rZrqx1+v0UaTDFqH/UvscyzbFdk++j19gI1CumaDXTYpddDfVc+zmTXgq3OTgADAuOk/MZMVzf5FfdU8Ebw7cRkEOG8zB00R9rzD3LhZ9yUAGO097qVMvTDZrBzv+YvBuAiWUrilt8meOeKmK9DYovBOkwxYhz0i9z2d7QqAqKGHzOYD6XpnNwlIa/h9qvsZvjo3KQwAWAXp8i+SXLsCSJt2ZoF3SusUEhtAKm8X334c2coTzyE998fUT/lqrJdMnleUiug5j5rqpSQDgGGjPdN5EkovfcOsGp++cJqUKO1DgRizbqTj2RmasEAjV6NZE6CG3aEGXMFOHbPbnFzc0qXyQnGqmsItrVFPyI7HsHF9dW4qEFF64ERJLzADTFbEbJqh108hEjBOJsvJMA4As/pTUzGX0oUczYSsg4c2HJAUCW/xYwnSxjuTG/EOmNmQsDi5yRl/oV4zgUiSkCQkG8ddMM756jqQBAhgkBRdTwEA3pM9X01vkXArcvLRhkBq4GUU28f5+kZ24mRFvSq0Jq1fmSVBYnuzKD9QDR8rCtrnmymiz/fjWVIAkO1G6NmPgA0goJPupJvEqCco1CKzIUEGTM0Kd+rfvXbQ5vT5UsaYLBKitRXm0/nO3NWm1ubiCPVuJ4d3V2WFIpFkIRprfGZ2dZ1kiGuWOx+dp1vuR4VdoFOmYg5vngsVIiFBku1NotPxsu1wLyvil9ntEjl1HQyjZddTqLi7M+Fq3jyDAiWe821TPMvrA2dtQ9uy5y/VoOtJWl69s3c32BRf114IETELMIvyQaLNwWbVJxQoJBXmzbNT756pBlwmygdBheDEzdov3On3cd0qL3xuNtfgtCWZ4XCQXp2cuvHVxOxV2lIIW1SbZCEwsIP8+6mRkb2suM2yEcpC0hLhJiAUyQDJIMBm7VdY8yXAkBZ52SeSnKqk4h5enzewh+c5NJ/1tGwPC1iTUOzE3Sm36gXPQShS4SYXSqev9kScqqZwKzXoz7LzCQCyNnXYa9w2mkejCgCvMNRsnJF67wx4HckAaxvGoWg7BGKwKzm+BjJIIgAArBnc2KaXnHFz9KL87ODBnJ4D9joTPc9FAJkhmluQdWT0ftcYZkCkbeK8J0I0TJ/Nc05/qNZ2cf6hwZMPsKJBsaHGPDI++eZ0p2OZeOPSWOeW0nYbuHcvrc7aFh2O5E0zuHoZBYtBAsi4mHmFG8blVBW16G+NeFAUds4HS8jmEEF71J8cQrHRZEWsg24VrYe5027n6qUUKCIhmA3yXqbTqTqhWCehbdHhaDX4elHQnlkDtMfPGJ8fR7boSJT1V4NvcL+8hmWIZIBkCDLEyY1IrANJChR65oTs1sGKkQyyXdWolxDvixOyiBRBczK1hRk6MwtBoQAAOClvwDEsRcpK1w17Lw4GSbv+lo6ZwwGCItdmEFQAYLgOtIv/eyu5ZrP5y8nhm06PwmUYwFKDOqmT7q+ZsNB94xvnsmMlOw1cN0HkpZWFGnA5rIj71fVm9afQqbRGw5ucYBAskb0vUAOvSM8+zYPvWvMRaOTahAvp1c3ITseK1ge508fqhf8Bu95dDLPJz36WjDRLGM2pCop1VgMuk11PBvJuEo/PDyX9qZFgNqrb6SSDztc3sr0ZVpQ8o8uMUrBJwa2jcGs14kGz+jM9YyyCJQ04K3krDHNI0XuzUp/Nd/fvpE4+IJBMcTaOVpI21Zqn37NdgzFDg22KhBTYVGfenuFMXOyurjRSoEtLeXgv64g+FjO0YQZCil6flvpqiTtmaLAsRmNfTs5bo68YHR7YQbaM0WF9rDMODCLFtTZLgpvkwhgN76Y+X+Au3agbZ1mU2I1T2UAq7ERCBQ5/TK+fbFZ9zJvnwK0DCKEWouV+ot3hoqgLvHudPFBnNDOB9shNSbNxKVRqHXiz6Hisnn6vWTcRQpKKeL23lDcWS/XSzIbtKgSLZO8LVb9fU6gF2LB3W+AnnZs4mYwBmLXschK16KdnP2JWfcyJ9TlbEUXbivanyT4XioL2gNBz/tmot33e2MzaJG59IzGoixrZ04qF0gUV2rCy8Mk856rn4wftqy46LKQU5q3WFz9VN2GR26qQ2hQLR+P92c5DHyXPPzR4+2kRItKaycK7s5yH3kl2ayXfmek8P8EG4eh+1iG9rUfPK3A1DHPC4XQCBF6tIZgR+sEefDvzApmEgHFE2+EkFGsHQsnyQbJ80HY2NhpE+TBLxaMZCjS2SnewAbNsfZBofZBZ8qo751+8aRaERSqCTD5tD34S3rWEhIRx2amGDIsuJ6u+vxYlPeAHzs2LnKyuYKNFUVdx8P+ZutW8cQbXLIO2ocJU2EWUDfD6I5iNaDmQSnrxplmNV3InCE4Ko3pbh3S3Zq50pyxzj+xvOQmkR7QZvD3TsRSdcWCwpEjE68wVz8U/me1cMCp0/Qnh4ggBmLzUvfy5+CPj7SFd1FnDgqk6gBELUVmpeG1aam2VeeXyWHmhaFcsnCQ7Op1fVoIsT34sWrNevzvLsSRG9FAN/iqJCEYjUCg7HAkAwiuP0RmDDQFk2guJ8q0pt3kKNHLTHSQYzEaTELLLSaLjMWbp6+78Z3jTDABkRUnI3R9QZ84AQQKsU3DjCBTKzifJnr8QLQcieyX3A+fmRU7oIL3QQUTbItp2q828Tx/MJJTscLS7YSoo2kh2YESU0lxcSCN7qgmL3PdmOUf2twAwEA7Q4vV6wiK3TbEY1dsC8/pqLo7QqP7WZUeFOpTLujpDhMMGBk5f7N7wauKD2c5Zw4KZ3cI1mP6tHndxwUF9LdisXTiapfBGw1BVwqyuNMZg/lrzwAfJ2av0ZUeFjuobSNoN7u0h2K0VbYZRaZ+s5wYgSOSUSGypy/nzdWu2Au2RfaPTlQ/skgzKfU8VnU8yKz/Ui14w6yYiVQ0ZJBmG8NabG1EQc3UZRrOuhdEUbSe6nyW7nipKe8FzPgRDSGpeZbA+HluHDmy2bhf04jiACQBEp+NozqOsE41U78VeZ7nBMf0DD31kf7rA2VhpiqPCdpgUPp/vLllvThsS6NNOJuLctkSMu7jA0bAswHA0QmBAoV8HCaAizkgbo0IS4jYf3ksd1FXVVRqviV1kakJCAXw0xT330dqwRbU2D9xHPntxwYkHBu04e/bLDXXmMzMJAEZ0PpHSjSr1K65bPUUefteauUB75Mi0StfhSUt2HC07jjabZullb5iV47l6MYwLGSAZSs8JbhixzoblBCIisHGh4zAuAkWi9cGi47Gyw5HZW1qAAZGu6SbKwzPGp0HIidS2P6+SmQFi1iK2j2h/uF70AoJFjbRUKAh2CvvtIwd3lp8vcCcv06MHCtsBO3h7piMIxw+0SIFTcDUHFCUdnrJML16v11dzPMVCYN5qHVQwDJNjH2IYXVpKyPohy95LJmYYtC6io/taQUUbaszyjeaud5Lrq815w0OO9gLbhnmZRIJdm2Kd5T5HeX9uWkHPXiHQHtvItCESokVf0aIv9/+9WT/JrPzIrP+aq5ZA2yABYZEM1F9vvUrJzH+2kw+p/+S9x9NfPPJSydoGazBTqJTK9hNth4u2I7yQGdlb2hwXkSZ0Dvk0BplAGwDEvqfpZa+jcfqtvH26hqMROqZf4P3Z7ruzUqMHWKEAzVurv1zk9mgjR/SwdAoMRIP0wSzn1jcTk5a6BJTFREBCCjDDktvpACwIZVzickqqCUimeFg369A+Fgxq4zx+nnPV8/FLnolrg4uPCMUTkKIBNNor6IJOyC4nUqAw3eHVpGhih7vrbJP00GCQFZXtRsp2I9mJm4q5vGGKWTeJq5dw3Sq4iUwELEEKQhBJgtiOiwmBmMGG2QVrGDe7qkPBUirqRiW9ROuDqEV/r5QH8AJ0A6Jc5xBfmn08mBkQzEa2GqxbH2xWfZyuz23oM4SZBQAXR/Sx2hTTp/PdNRWmTUs5fq6zssL8bHCoTQtRG+eCIE3/1j3/ibrNdeaCEcFzhgVLIqQEFUfptWmp8x6r2zZ3nH2kvqRaAYDtwNFsxwFASRx/cNAwfv5I7VNf2KcODhSGhTa866+SiFinKNJK7HsagD3btP3j2OsE2iPnQ8qsFbABQFZElh+A8gPQ50JOVnDtSq5eZCoXcvVSJNaxXQmnhlO10HXbX1InBRWhYBGsQgqVUrQdFe1Lxd0p1pFiHSjtLYv003kh817WFuiz86SDaGNAkD1/YdZ81nj1dkRIONy7rTykm/Xq1NTUZe5xLcTbM5xIAMcPtMBgBhRenJRaXWlOGxK45+dRMIyGqxGIkMDWifStYGZBFLd5/hpDhK4tBVFavg1D13GP1rK8UGyo4bVV3CIG197VBXtmJqHgVoseZ4toWzYaQjY5d8C9VKA9cs91IsHpFXbjtXJRqIRCJSjr5+U4mA3szZyqhVMLN85uHNrO2PsSpAUZJisKFYFVQIFCCsS2ejr2/GdzdDnflox98o2MWY+R7UbotiPMyo8aI4jO2hiRhZ8MsF742v5ykdunnZq42B3UWQ3urFIpCAIYKzYZAAd1UWBU1bE3eyWg8cEcx1NbZmx3Yq1hhIKYulz/7MGaojC984fC9iWiLsWCoA2kQk2Sa5LcqlCELHBDjNDKhM9tZK9fZP6cL30PO89eLdBZ0kIJbw0hHVOnl+zq63AkQmUUKtvJfW6xOu+tBQmZXv7wddln59giiO5zkVnzRSNlopmZCMbBiJ5WxzI5aakui6Uq6vi4/lY0SnXxdMIhEiQAa6sMglSoQQII0rPjk+/PdmIhSmlIhRBv5/AEwXHQrZXsUCpmrtCPf5q84WeRAkXpYmSDZybY1Qke2lXs00La7vZ28UNfjlBwq2XfX4to2/p5yru2292PL9Bbs8Xyujf5BsgE1xnT3u+5T0pLvRcmb5Pz8lXZ5weSCaK1bDXEdDpeL3qBgsUNXhNNRGBOOtyhTBzRW70901lXbdqXiqP7WdDIDhIf0UM99bn938mp3u3kAZ1UTYKf+yr12tTUlaPDt7+VWLZBvzM91a+9alcmiCBFfcBKRI7mFkV0xdHhi56sG/u+vWyjOW5AoCRKG2vNq1Oct2Y4hWH6zaiQZcFJYlcM7bLGdVTcXfb6JdAks88evkDvgNzguv6+a6c/6KZ4TvjkFZlyDgIgB1xqVn/CqRoSKrOM0aBPxAzCifsFxk1Mra/Wxw+0+rZXiRQTgQDbxkn7B75a7D7xuf3LR+uKIhS3ubxQjB0TOWFg4JP5ztsznOPH1p41NPDUpbE6m+04J5102R0zC0IiyacOCQC4593E81+nnvky5T1nQGG/feQfjw0f3c9KJFmKXS6GI4JJqX6/o0AsGz430Pu0W2k+dqM+zZVmYzf6o8m+AySUO+cxd9JNFCxp8CDakwIhKJnimSt1yuUOLUSnMunqeo86KYgIExc5c1brhIN9SsWwbqq8WDgOqhJm4iI34aB7a9G/g1qwVq/YbDq2EJ3LpGvqvfEYCIdoczXPWOEu3WDqbI6GqHOZGLiPKi4gz7B/F18FCcWpKtH+iMDhjyIjcE00VPIF2iff8QUa2ekNRAw4740xayc0YskdUSAIENiB7W7tPgogFKRsrb9OwXZZEJQgFQAI0EikOGwRFNiF7dTre7YU2pJkBbZ4XiflNYLXb/njDp5IMLuQ4cDo/4qiLp4HdxPNb8BPcfj4NBWIyLucqMF/Sb17OptUetJbw0kPZ8z74wnvGZHbdZ1V2Hiy/gKZ7RJ0Dae83wKEoITDnNpiD1l9l4K0YSexxVMLgsyZFfDjXwMJpOLqgOtEUZf6tcGmqc5o6kNjfXz2Eqh+hr0rSnqogVfAqUVDu3NkV8ilIClIbFlutNXf5m6zxW8JAiBo+3vY7k6kqH/8R4tpOrlhV4qOx6oeY5gZTTl29vAF2senaZCOQEkys+p5jujyU7Yrmu7yV8OSvnq5cSrqah10q/dYk5ZmD1+gfXyaEkTkpeCtA2+h0r7s1OX6BOydeKlnGBfCUkNvp1ApG5eabGldLr5A+/g0GTKexYKNpkCBdcg9CBSyTmU9tvZGsilyN64G/0W2GszGRRNPPWfxBdrHpymxVTLaGnanN/B0b9VoZiKQ5FSV7Ptb1e0MZg3anrFe08QXaB+fJkY6GS0UG1e2P1wNuZndODw/meYiTDsJM4gkJzeLrj9T+18FABBeMWIzCJ/hC7SPTxOFAJBk1qrb6Wr/azhVjZxS5eaPNwpOKLYrxD6RgqA9AAAH/ElEQVSjrWF3kjcwpalZ8n8/fh20z57Bc65hIs+SewfbQoB1gx8BALD25oV+H0T5tuKUlSFmwWxU34vArjvtDrJiRNSwxdH5SLqyWrJdITocaY18iEg09Z6U7eILtM+eIX0fygySO+VtIoOZsl9qgPnWzJAWAJKBHW6LvBwOmaPRYDaq329Bwp16O1kFRKIZa3Sm7UWyvVnsM9oa8Q8SqlmqM3yB9tlTpMUFZJa/w8kNENb3mqkTWLO9GaQaSJ0DXLnQXfwydPL7vK+IoFOipKdoNYTZNNLY1h/N1hrd99eQYXfyXyEtElYjDTDcs6Qr6ojYrhCdT7GG35OuaRHNUJ3he3H47CmyKY7Um8fxukmwCoAd5RpUuEGipIy5hwM3uQNDOBKwq2SfC6yht+Wta0e2AxtgIqGX/c/58hpom1S4wQ2V9izMTCTBmp1a2fsCNfg6Appr7OzhR9A+exiyCjhYRCq6Y4Fm0yDfw0ylmoVgcEebSgYgw7v4jI3KFnG00bLTcYi0cj+/gmu/pUARWDcH8fImXQjFbhJEashNqtcvkF4VbLbqDL+Kw2fPwwaswWbHPw1XO5Xez46fVIPNjq8ce5r60gUSbFxZPihw9Aui9TBObvZ8L5r0jTIzg8gzEaVwmXXYo6rXL5gNZ6q/m6s6wxdoH5/mQVqjvTDTuBRtbR35tOx/CbsJ1gkSChnP0qZEupZOgg3bFaLdKGv0f2XbQ9i4QN6V1jQGvkD7+DQTvMKYdHUwayJh7f9H6/BHqaAj2xX1oXQTkWlv1hcJxalaJqUGXWeNekxE23id3M2s3vm78HPQPj7NhxzjZk+LjWw3UpTt5067Uy96HmzIiiKdHMhfaUsX0gnF2oabEG2GqUHXi9JeYGYYz8Cv2fQKfj9+BO3j09yojy6FZONSsMg66BZr1FOiRT+2K9ikSKj8rOBKG/YLxWzYrqBgqTrob9ZR40RpLzYuA9klwb1BneFH0D6NQX3h1/d16TGDwACnp6Tnn1yk57rvbM8hify5766fUyUUswFYthkqWr2gF/5Hz3mMq5dARUgGwYbBxNyw82d/BNmoGcblVCWCJbLPRar3+RRpBYCNJqHSKek9fai7E1+gfRqenKKCnSgclhIE0M6PSt+NCIAYKoCd6znMK/nISXcIZmajSViqx9my0/F6wbN6wXNc+y1kiFQIANAwJYw/lMyTEgnJOgW3GoEi2f0s2ftXomhfAGxckMz2oeTLm7u7yMfbHJ+mjlf/ZCoWOx/fSEJ58ee2m3kt27x5DpwakNz1DsGGhwCjEWklirqy0du9hhCIjUPR1tbIGylQkFcanSXnnkanKzqSm/Til/Si/3LVQgBQERIKbLzKiUZ/CZkLOIjAzG4CJkWR1qLjMbL7GFHcHQAbnXVBwd6Rcd4WX6B9Gh6v6U6vnZYa9xPIwA6as1UYJAH+vpbrPQYDhB30HBK0TcVdgme+SeHiPOwI98iZzG3AJi3TTp1Z+YFe8ppZ/zVS1RABUiGQAAMwGbOUBh5Ki7Qug3US2oawRGkf0fEY0fkEEW0LgFkDBBKUZzclux8/xeHTWBAphIpIWDsQaDb5qs5IR/kyAPXdPYck2E0iULDH07jfTzbjAVA6Mc2GrKjsfKLsfKLZPNeseF+vGs8Vc+EmQAIyRNJKfyyczsT/UL2uV2Skw2UYzToBr1Qu1lG0HiY6jhblQ0hayETNaU9nrz8lv9/VxsYXaJ/Gg2H0zk2ezucvIQHfWzvsrYXu2LQ0L9hGphlsQCRKe4nSXrLfb3jzbLPmC7N2IlfO58R6zxIfQpGwSKitPyje4j/pzzFnGyKADWsbxkm/jcEiUTyAWu4v2h4qygZQsCi9C+OCRHahFXtrTmMrfIH28dnryNU+b/0tm/egsgGibAD6/cbUruSqRbxhmtk0g+vWcGId7Motb4YyyYpMmJ25km15MVNRKuhA4XIq6SFaDqKSHlTYJWs7xUZ7BwGhsvlWX5qz+ALt47P34kmhZ7SUDqhh4IXXBe1R0B7tRgLgVA0n1nN8HdeuRN0qTqxnuwJOHYwN4yJHZCECUGEKFiNURtG2VNCBIq0pUk6hFrnPm9Flyo4kJ/jCvB18gfbx8clVakGCMjE1p/8uEKNADEVdt/otBmB0etiNFwV/x/7ri+IJgICQfry8M/gC7ePjU09WqQFipIvzPLPprRPxXp2ckECm2p2Zt7OZ9w9t7anvC/NO4Au0j4/P9skRa+S2EmWrqhnbNoCSV3qx3fI4X5N/KL5A+/j4/DC2FO7v28ZnF8nHinofHx8fH/gC7ePj45O3+ALt4+Pjk6f4Au3j4+OTp/gC7ePj45On+ALt4+Pjk6f4Au3j4+OTp/h10D6NB0HIjNdz84UEjNg50z4fnx+GL9A+jQWzi2QV79Cwv8lD0DZStfk4VNGnieMLtE8j4HWaRcrlARcSSQDcfDWaQGxcCrfImPr7HXQ+DYY/8sqnUdg7JxXtna/ap/HwI2ifhidnRGnTmDPSMGSmgfga7dNQ+BG0j4+PT57iLz37+Pj45Cm+QPv4+PjkKb5A+/j4+OQpvkD7+Pj45Cm+QPv4+PjkKb5A+/j4+OQpvkD7+Pj45Cm+QPv4+PjkKb5A+/j4+OQpvkD7+Pj45Cm+QPv4+PjkKb5A+/j4+OQpvkD7+Pj45Cm+QPv4+PjkKb5A+/j4+OQpvkD7+Pj45Cm+QPv4+PjkKb5A+/j4+OQp/w+uxMGq6y8bFAAAAABJRU5ErkJggg==)\n",
        "\n",
        "\n",
        "The target variable has 3 classes.\n",
        "\n",
        "R for right-heavy, i.e. when var3 * var4 > var1 * var2\n",
        "L for left-heavy, i.e. when var3 * var4 < var1 * var2\n",
        "B for balanced, i.e. when var3 * var4 = var1 * var2"
      ],
      "metadata": {
        "id": "VfgGFRRZDdry"
      }
    },
    {
      "cell_type": "code",
      "source": [
        "df['balance'].value_counts()\n"
      ],
      "metadata": {
        "id": "34PXckk6DpHD"
      },
      "execution_count": null,
      "outputs": []
    },
    {
      "cell_type": "markdown",
      "source": [
        "Turn this into a binary classification problem"
      ],
      "metadata": {
        "id": "tEwfW3KeDz7T"
      }
    },
    {
      "cell_type": "markdown",
      "source": [
        "label each observation as 1 (positive class) if the scale is balanced or 0 (negative class) if the scale is not balanced:"
      ],
      "metadata": {
        "id": "eQqlIH8wD6lx"
      }
    },
    {
      "cell_type": "code",
      "source": [
        "# Transform into binary classification\n",
        "df['balance'] = [1 if b=='B' else 0 for b in df.balance]\n",
        " \n"
      ],
      "metadata": {
        "id": "VirSdbf8Dzko"
      },
      "execution_count": null,
      "outputs": []
    },
    {
      "cell_type": "code",
      "source": [
        "df['balance'].value_counts()"
      ],
      "metadata": {
        "colab": {
          "base_uri": "https://localhost:8080/"
        },
        "id": "hLnlrPW4EBAg",
        "outputId": "da6b901d-1336-4f2b-8531-a702361de136"
      },
      "execution_count": null,
      "outputs": [
        {
          "output_type": "execute_result",
          "data": {
            "text/plain": [
              "0    576\n",
              "1     49\n",
              "Name: balance, dtype: int64"
            ]
          },
          "metadata": {},
          "execution_count": 7
        }
      ]
    },
    {
      "cell_type": "markdown",
      "source": [
        "problem of imbalanced classes"
      ],
      "metadata": {
        "id": "DFAX1WEHEUew"
      }
    },
    {
      "cell_type": "markdown",
      "source": [
        "import the Logistic Regression algorithm and the accuracy metric from Scikit-Learn"
      ],
      "metadata": {
        "id": "k77ehx8TEdyp"
      }
    },
    {
      "cell_type": "code",
      "source": [
        "from sklearn.linear_model import LogisticRegression\n",
        "from sklearn.metrics import accuracy_score"
      ],
      "metadata": {
        "id": "2BZWQeUgDtuo"
      },
      "execution_count": null,
      "outputs": []
    },
    {
      "cell_type": "markdown",
      "source": [
        "machine learning algorithms are designed to maximize overall accuracy by default"
      ],
      "metadata": {
        "id": "Hl_JveqDEvLp"
      }
    },
    {
      "cell_type": "code",
      "source": [
        "# Separate input features (X) and target variable (y)\n",
        "y = df.balance\n",
        "X = df.drop('balance', axis=1)\n",
        " \n",
        "# Train model\n",
        "clf_0 = LogisticRegression().fit(X, y)\n",
        " \n",
        "# Predict on training set\n",
        "pred_y_0 = clf_0.predict(X)"
      ],
      "metadata": {
        "id": "4PfKMNvHEjM5"
      },
      "execution_count": null,
      "outputs": []
    },
    {
      "cell_type": "code",
      "source": [
        "#What is the accuracy?\n",
        "print( accuracy_score(pred_y_0, y) )"
      ],
      "metadata": {
        "colab": {
          "base_uri": "https://localhost:8080/"
        },
        "id": "kbLi2IWjEr2z",
        "outputId": "858ce0fe-2996-4e11-9bdd-d900048f8109"
      },
      "execution_count": null,
      "outputs": [
        {
          "output_type": "stream",
          "name": "stdout",
          "text": [
            "0.9216\n"
          ]
        }
      ]
    },
    {
      "cell_type": "markdown",
      "source": [
        "model has 92% overall accuracy, but is it because it’s predicting only 1 class?"
      ],
      "metadata": {
        "id": "O_7lN4PnFFCS"
      }
    },
    {
      "cell_type": "code",
      "source": [
        "# Should we be excited?\n",
        "print( np.unique( pred_y_0 ) )"
      ],
      "metadata": {
        "id": "cArSjVuOE5VI"
      },
      "execution_count": null,
      "outputs": []
    },
    {
      "cell_type": "markdown",
      "source": [
        "This model is only predicting 0, which means it’s completely ignoring the minority class in favor of the majority class."
      ],
      "metadata": {
        "id": "aZE5cJehFQB_"
      }
    },
    {
      "cell_type": "markdown",
      "source": [
        "FIVE technique for handling imbalanced classes: \n",
        "1. up-sampling the minority class\n",
        "2. Down-sample Majority Class\n",
        "3. Change Your Performance Metric\n",
        "4. Penalize Algorithms (Cost-Sensitive Training)\n",
        "5. Use Tree-Based Algorithms\n",
        "\n",
        "use SMOTE, Kappa "
      ],
      "metadata": {
        "id": "HkWsuYZHFWNt"
      }
    },
    {
      "cell_type": "markdown",
      "source": [
        "1. up-sampling/over sampling  the minority class - duplicating observations from the minority class"
      ],
      "metadata": {
        "id": "mVh0GjJQF1jS"
      }
    },
    {
      "cell_type": "code",
      "source": [
        "from sklearn.utils import resample"
      ],
      "metadata": {
        "id": "si2liYk6FM65"
      },
      "execution_count": null,
      "outputs": []
    },
    {
      "cell_type": "markdown",
      "source": [
        "create a new DataFrame with an up-sampled minority class"
      ],
      "metadata": {
        "id": "aKZZyiPBGV0u"
      }
    },
    {
      "cell_type": "markdown",
      "source": [
        "1.   First,  separate observations from each class into different DataFrames.\n",
        "2.   Next,  resample the minority class with replacement, setting the number of samples to match that of the majority class.\n",
        "3. Finally,  combine the up-sampled minority class DataFrame with the original majority class DataFrame.\n",
        "\n"
      ],
      "metadata": {
        "id": "_KiNNfkYGcGf"
      }
    },
    {
      "cell_type": "code",
      "source": [
        "# Separate majority and minority classes\n",
        "df_majority = df[df.balance==0]\n",
        "df_minority = df[df.balance==1]\n",
        " "
      ],
      "metadata": {
        "id": "JW0oWwJJGSs4"
      },
      "execution_count": null,
      "outputs": []
    },
    {
      "cell_type": "code",
      "source": [
        "# Upsample minority class\n",
        "df_minority_upsampled = resample(df_minority, replace=True, n_samples=576, random_state=123) \n",
        "                                  # sample with replacement  # to match majority class   # reproducible results"
      ],
      "metadata": {
        "id": "rEWBIVx6Gs2H"
      },
      "execution_count": null,
      "outputs": []
    },
    {
      "cell_type": "code",
      "source": [
        "# Combine majority class with upsampled minority class\n",
        "df_upsampled = pd.concat([df_majority, df_minority_upsampled])"
      ],
      "metadata": {
        "id": "UFivoZswHcEG"
      },
      "execution_count": null,
      "outputs": []
    },
    {
      "cell_type": "code",
      "source": [
        "# Display new class counts\n",
        "df_upsampled.balance.value_counts()"
      ],
      "metadata": {
        "id": "KY2swGL-Hf_G"
      },
      "execution_count": null,
      "outputs": []
    },
    {
      "cell_type": "markdown",
      "source": [
        "New DataFrame has more observations than the original, and the ratio of the two classes is now 1:1"
      ],
      "metadata": {
        "id": "rNUsTB_cHpyY"
      }
    },
    {
      "cell_type": "markdown",
      "source": [
        "Train another model using Logistic Regression, this time on the balanced dataset:"
      ],
      "metadata": {
        "id": "3qI8ve-bHwEv"
      }
    },
    {
      "cell_type": "code",
      "source": [
        "# Separate input features (X) and target variable (y)\n",
        "y = df_upsampled.balance\n",
        "X = df_upsampled.drop('balance', axis=1)\n",
        " "
      ],
      "metadata": {
        "id": "KSBNfUDzHkie"
      },
      "execution_count": null,
      "outputs": []
    },
    {
      "cell_type": "code",
      "source": [
        "# Train model\n",
        "clf_1 = LogisticRegression().fit(X, y)"
      ],
      "metadata": {
        "id": "3ZiwMTAgH38V"
      },
      "execution_count": null,
      "outputs": []
    },
    {
      "cell_type": "code",
      "source": [
        "# Predict on training set\n",
        "pred_y_1 = clf_1.predict(X)"
      ],
      "metadata": {
        "id": "fvHNhze-H6C-"
      },
      "execution_count": null,
      "outputs": []
    },
    {
      "cell_type": "code",
      "source": [
        "# Is our model still predicting just one class?\n",
        "print( np.unique( pred_y_1 ) )"
      ],
      "metadata": {
        "colab": {
          "base_uri": "https://localhost:8080/"
        },
        "id": "22E1sPyUH9kF",
        "outputId": "b46340d1-843d-4cc9-b67a-758e2856fed6"
      },
      "execution_count": null,
      "outputs": [
        {
          "output_type": "stream",
          "name": "stdout",
          "text": [
            "[0 1]\n"
          ]
        }
      ]
    },
    {
      "cell_type": "code",
      "source": [
        "# our accuracy?\n",
        "print( accuracy_score(y, pred_y_1) )"
      ],
      "metadata": {
        "id": "EUj5Qv-MIA1O"
      },
      "execution_count": null,
      "outputs": []
    },
    {
      "cell_type": "markdown",
      "source": [
        "model is no longer predicting just one class.While the accuracy also took a nosedive, it’s now more meaningful as a performance metric."
      ],
      "metadata": {
        "id": "0pYptGxYIKq1"
      }
    },
    {
      "cell_type": "markdown",
      "source": [
        "Down-sample Majority Class:randomly removing observations from the majority class"
      ],
      "metadata": {
        "id": "CenIUAtYIROd"
      }
    },
    {
      "cell_type": "markdown",
      "source": [
        "1. First, separate observations from each \n",
        "class into different DataFrames.\n",
        "2. Next, resample the majority class without replacement, setting the number of samples to match that of the minority class.\n",
        "3. Finally,combine the down-sampled majority class DataFrame with the original minority class DataFrame.\n",
        "\n",
        "\n",
        "\n"
      ],
      "metadata": {
        "id": "rFUR9CPvIaq_"
      }
    },
    {
      "cell_type": "code",
      "source": [
        "# Separate majority and minority classes\n",
        "df_majority = df[df.balance==0]\n",
        "df_minority = df[df.balance==1]\n",
        " "
      ],
      "metadata": {
        "id": "wPESp3XiIPSe"
      },
      "execution_count": null,
      "outputs": []
    },
    {
      "cell_type": "code",
      "source": [
        "# Downsample majority class\n",
        "df_majority_downsampled = resample(df_majority,replace=False, n_samples=49,random_state=123) \n",
        "  # sample without replacement  # to match minority class  # reproducible results"
      ],
      "metadata": {
        "id": "yRywWuiYIzDO"
      },
      "execution_count": null,
      "outputs": []
    },
    {
      "cell_type": "code",
      "source": [
        "# Combine minority class with downsampled majority class\n",
        "df_downsampled = pd.concat([df_majority_downsampled, df_minority])\n",
        " "
      ],
      "metadata": {
        "id": "crq7PiVEJGOd"
      },
      "execution_count": null,
      "outputs": []
    },
    {
      "cell_type": "code",
      "source": [
        "# Display new class counts\n",
        "df_downsampled.balance.value_counts()"
      ],
      "metadata": {
        "id": "iMwmjj1sJL91"
      },
      "execution_count": null,
      "outputs": []
    },
    {
      "cell_type": "markdown",
      "source": [
        "The new DataFrame has fewer observations than the original, and the ratio of the two classes is now 1:1."
      ],
      "metadata": {
        "id": "WJNynp-gJS4O"
      }
    },
    {
      "cell_type": "markdown",
      "source": [
        "Train a model using Logistic Regression"
      ],
      "metadata": {
        "id": "RyhsRk6dJaPE"
      }
    },
    {
      "cell_type": "code",
      "source": [
        "# Separate input features (X) and target variable (y)\n",
        "y = df_downsampled.balance\n",
        "X = df_downsampled.drop('balance', axis=1)\n",
        " \n",
        "# Train model\n",
        "clf_2 = LogisticRegression().fit(X, y)\n",
        " \n",
        "# Predict on training set\n",
        "pred_y_2 = clf_2.predict(X)\n",
        " \n",
        "# Is our model still predicting just one class?\n",
        "print( np.unique( pred_y_2 ) )\n",
        "print( accuracy_score(y, pred_y_2) )"
      ],
      "metadata": {
        "id": "HnCMCyesJWLm"
      },
      "execution_count": null,
      "outputs": []
    },
    {
      "cell_type": "markdown",
      "source": [
        "Accuracy seems higher . But validate the model on an unseen test dataset"
      ],
      "metadata": {
        "id": "r8igrYHQJoV1"
      }
    },
    {
      "cell_type": "markdown",
      "source": [
        "\n",
        "3. Change Your Performance Metric\n",
        "\n",
        "There are two ways of addressing imbalanced classes\n",
        "    by resampling the dataset. \n",
        "    \n",
        "    Next, using other performance metrics for evaluating the models."
      ],
      "metadata": {
        "id": "fZ_kMmMrJ3qV"
      }
    },
    {
      "cell_type": "markdown",
      "source": [
        "**AUC** = Area Under the Curve.\n",
        "**AUROC** = Area Under the Receiver Operating Characteristic curve.\n",
        "\n",
        "![image.png](data:image/png;base64,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)"
      ],
      "metadata": {
        "id": "o1aYlyr1LGp-"
      }
    },
    {
      "cell_type": "markdown",
      "source": [
        "In this example of a confusion matrix, among the 50 data points that are classified, 45 are correctly classified and the 5 are misclassified.\n",
        "\n",
        "True positive rate (TPR), aka. sensitivity, hit rate, and recall, which is defined as TP/TP+FN. Intuitively this metric corresponds to the proportion of positive data points that are correctly considered as positive, with respect to all positive data points. In other words, the higher TPR, the fewer positive data points we will miss.\n",
        "False positive rate (FPR), aka. fall-out, which is defined as FP/FP+TN. Intuitively this metric corresponds to the proportion of negative data points that are mistakenly considered as positive, with respect to all negative data points. In other words, the higher FPR, the more negative data points will be missclassified."
      ],
      "metadata": {
        "id": "FBeyt7JSLhD_"
      }
    },
    {
      "cell_type": "markdown",
      "source": [
        "To combine the FPR and the TPR into one single metric.\n",
        "Plot a single graph with FPR values on the abscissa and the TPR values on the ordinate\n",
        "\n",
        "The resulting curve is called ROC curve, and the metric we consider is the AUC of this curve, which we call AUROC.\n",
        "\n",
        "![image.png](data:image/png;base64,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)\n",
        "\n",
        "\n",
        "In this figure, the blue area corresponds to the Area Under the curve of the Receiver Operating Characteristic (AUROC). The dashed line in the diagonal we present the ROC curve of a random predictor: it has an AUROC of 0.5. The random predictor is commonly used as a baseline to see whether the model is useful."
      ],
      "metadata": {
        "id": "0e-ZPbJDMFAO"
      }
    },
    {
      "cell_type": "markdown",
      "source": [
        "use this link to study more on\n",
        "\n",
        " https://scikit-learn.org/stable/auto_examples/model_selection/plot_roc.html"
      ],
      "metadata": {
        "id": "nSpDTRZ9Mywc"
      }
    },
    {
      "cell_type": "code",
      "source": [
        "#if you randomly select one observation from each class, what’s the probability that your model will be able to “rank” them correctly?\n",
        "#import this metric from Scikit-Learn"
      ],
      "metadata": {
        "id": "Wq25r8g2M26E"
      },
      "execution_count": null,
      "outputs": []
    },
    {
      "cell_type": "code",
      "source": [
        "\n",
        "from sklearn.metrics import roc_auc_score"
      ],
      "metadata": {
        "id": "lIaGA9GQNNEO"
      },
      "execution_count": null,
      "outputs": []
    },
    {
      "cell_type": "markdown",
      "source": [
        "use predicted class probabilities instead of just the predicted classes"
      ],
      "metadata": {
        "id": "yfCK_SxENZRf"
      }
    },
    {
      "cell_type": "code",
      "source": [
        "# Predict class probabilities\n",
        "prob_y_2 = clf_2.predict_proba(X)\n",
        " \n",
        "# Keep only the positive class\n",
        "prob_y_2 = [p[1] for p in prob_y_2]\n",
        " \n",
        "prob_y_2[:5]"
      ],
      "metadata": {
        "id": "95b5OMdHNSSe"
      },
      "execution_count": null,
      "outputs": []
    },
    {
      "cell_type": "code",
      "source": [
        "print( roc_auc_score(y, prob_y_2) )"
      ],
      "metadata": {
        "id": "PmzpmZlONeoN"
      },
      "execution_count": null,
      "outputs": []
    },
    {
      "cell_type": "markdown",
      "source": [
        "how does this compare to the original model trained on the imbalanced dataset?"
      ],
      "metadata": {
        "id": "Bi1RPbfeNneU"
      }
    },
    {
      "cell_type": "code",
      "source": [
        "prob_y_0 = clf_0.predict_proba(X)\n",
        "prob_y_0 = [p[1] for p in prob_y_0]\n",
        " \n",
        "print( roc_auc_score(y, prob_y_0) )"
      ],
      "metadata": {
        "id": "5PQLgxqiNoNF"
      },
      "execution_count": null,
      "outputs": []
    },
    {
      "cell_type": "markdown",
      "source": [
        "original model trained on the imbalanced dataset had an accuracy of 92%, which is much higher than the 58% accuracy of the model trained on the down-sampled dataset.\n",
        "\n",
        "However, the latter model has an AUROC of 56.5%, which is higher than the 52.4% of the original model (but not by much)."
      ],
      "metadata": {
        "id": "jEfr0kDKNxmN"
      }
    },
    {
      "cell_type": "markdown",
      "source": [
        "Note: if you got an AUROC of 0.476 instead, it just means you need to invert the predictions because Scikit-Learn is misinterpreting the positive class. AUROC should always be >= 0.5, so the actual AUROC is simply 1 – 0.476 = 0.524."
      ],
      "metadata": {
        "id": "VQbPu9J0N8Os"
      }
    },
    {
      "cell_type": "markdown",
      "source": [
        "4. Penalize Algorithms (Cost-Sensitive Training)"
      ],
      "metadata": {
        "id": "RNWDEUyeN-90"
      }
    },
    {
      "cell_type": "markdown",
      "source": [
        "use penalized learning algorithms that increase the cost of classification mistakes on the minority class."
      ],
      "metadata": {
        "id": "YBLSrVuGOMLU"
      }
    },
    {
      "cell_type": "markdown",
      "source": [
        "Penalized-SVM"
      ],
      "metadata": {
        "id": "nwqAq1iuOPGU"
      }
    },
    {
      "cell_type": "code",
      "source": [
        "from sklearn.svm import SVC"
      ],
      "metadata": {
        "id": "F_93YU9uNrnm"
      },
      "execution_count": null,
      "outputs": []
    },
    {
      "cell_type": "markdown",
      "source": [
        "* Use the argument class_weight='balanced'  to penalize mistakes on the minority class.\n",
        "\n",
        "* Include the argument probability=True  if we want to enable probability estimates for SVM algorithms"
      ],
      "metadata": {
        "id": "zENJxVrRObhr"
      }
    },
    {
      "cell_type": "markdown",
      "source": [
        "Train a model using Penalized-SVM on the original imbalanced dataset:"
      ],
      "metadata": {
        "id": "ZE_5LH3xOx9Q"
      }
    },
    {
      "cell_type": "code",
      "source": [
        "# Separate input features (X) and target variable (y)\n",
        "y = df.balance\n",
        "X = df.drop('balance', axis=1)\n",
        " \n",
        "# Train model\n",
        "clf_3 = SVC(kernel='linear', class_weight='balanced', probability=True)\n",
        "# penalize"
      ],
      "metadata": {
        "id": "yEpOd3TpOTg0"
      },
      "execution_count": null,
      "outputs": []
    },
    {
      "cell_type": "code",
      "source": [
        "clf_3.fit(X, y)\n",
        " \n",
        "# Predict on training set\n",
        "pred_y_3 = clf_3.predict(X)\n",
        " \n",
        "# Is our model still predicting just one class?\n",
        "print( np.unique( pred_y_3 ) )"
      ],
      "metadata": {
        "id": "REBEt_fPPDjz"
      },
      "execution_count": null,
      "outputs": []
    },
    {
      "cell_type": "code",
      "source": [
        "#accuracy?\n",
        "print( accuracy_score(y, pred_y_3) )"
      ],
      "metadata": {
        "id": "UlHcGtCnPIfT"
      },
      "execution_count": null,
      "outputs": []
    },
    {
      "cell_type": "code",
      "source": [
        "# AUROC?\n",
        "prob_y_3 = clf_3.predict_proba(X)\n",
        "prob_y_3 = [p[1] for p in prob_y_3]\n",
        "print( roc_auc_score(y, prob_y_3) )"
      ],
      "metadata": {
        "id": "KkdEr9i5PNCb"
      },
      "execution_count": null,
      "outputs": []
    },
    {
      "cell_type": "markdown",
      "source": [
        "5. Use Tree-Based Algorithms"
      ],
      "metadata": {
        "id": "bHvhd2IfP0Qb"
      }
    },
    {
      "cell_type": "markdown",
      "source": [
        "Decision trees often perform well on imbalanced datasets because their hierarchical structure allows them to learn signals from both classes.\n",
        "Tree ensembles (Random Forests, Gradient Boosted Trees, etc.) almost always outperform singular decision trees"
      ],
      "metadata": {
        "id": "vO3_Jn8nP73j"
      }
    },
    {
      "cell_type": "code",
      "source": [
        "from sklearn.ensemble import RandomForestClassifier"
      ],
      "metadata": {
        "id": "aL31ZilqPz57"
      },
      "execution_count": null,
      "outputs": []
    },
    {
      "cell_type": "code",
      "source": [
        "#train a model using a Random Forest on the original imbalanced dataset.\n",
        "# Separate input features (X) and target variable (y)\n",
        "y = df.balance\n",
        "X = df.drop('balance', axis=1)\n",
        " \n",
        "# Train model\n",
        "clf_4 = RandomForestClassifier(random_state=123)\n",
        "clf_4.fit(X, y)\n",
        " \n",
        "# Predict on training set\n",
        "pred_y_4 = clf_4.predict(X)\n",
        " \n",
        "# Is our model still predicting just one class?\n",
        "print( np.unique( pred_y_4 ) )\n",
        "# [0 1]\n",
        " \n",
        "#  accuracy?\n",
        "print( accuracy_score(y, pred_y_4) )\n",
        "# 1.0"
      ],
      "metadata": {
        "id": "6Y7Ky5ltPQev"
      },
      "execution_count": null,
      "outputs": []
    },
    {
      "cell_type": "code",
      "source": [
        "#  AUROC?\n",
        "prob_y_4 = clf_4.predict_proba(X)\n",
        "prob_y_4 = [p[1] for p in prob_y_4]\n",
        "print( roc_auc_score(y, prob_y_4) )"
      ],
      "metadata": {
        "id": "BpJiSY3cQQqz"
      },
      "execution_count": null,
      "outputs": []
    },
    {
      "cell_type": "markdown",
      "source": [
        "100% accuracy and 100% AUROC  \n",
        "Too good to be true?\n",
        "\n",
        "Well, tree ensembles have become very popular because they perform extremely well on many real-world problems"
      ],
      "metadata": {
        "id": "C7sdSLm5QYkC"
      }
    },
    {
      "cell_type": "markdown",
      "source": [
        "*********************\n",
        "Important\n",
        "\n",
        "*********************\n",
        "Create Synthetic Samples (Data Augmentation)\n",
        "Creating synthetic samples is a close cousin of up-sampling, and some people might categorize them together.\n",
        "\n",
        "the*** SMOTE*** algorithm is a method of resampling from the minority class \n",
        "\n",
        "\n",
        "Link :https://imbalanced-learn.org/stable/references/generated/imblearn.over_sampling.SMOTE.html\n"
      ],
      "metadata": {
        "id": "Y8eAaMUCRNH6"
      }
    },
    {
      "cell_type": "code",
      "source": [
        "from google.colab import drive\n",
        "drive.mount('/content/drive')"
      ],
      "metadata": {
        "id": "Orywy8j9R9-L"
      },
      "execution_count": null,
      "outputs": []
    }
  ]
}