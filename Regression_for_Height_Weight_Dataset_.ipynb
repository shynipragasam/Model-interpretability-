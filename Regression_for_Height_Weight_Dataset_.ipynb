{
  "nbformat": 4,
  "nbformat_minor": 0,
  "metadata": {
    "colab": {
      "provenance": [],
      "authorship_tag": "ABX9TyNJH+nILahJ4/A6E447aL7Z",
      "include_colab_link": true
    },
    "kernelspec": {
      "name": "python3",
      "display_name": "Python 3"
    },
    "language_info": {
      "name": "python"
    }
  },
  "cells": [
    {
      "cell_type": "markdown",
      "metadata": {
        "id": "view-in-github",
        "colab_type": "text"
      },
      "source": [
        "<a href=\"https://colab.research.google.com/github/shynipragasam/Model-interpretability-/blob/main/Regression_for_Height_Weight_Dataset_.ipynb\" target=\"_parent\"><img src=\"https://colab.research.google.com/assets/colab-badge.svg\" alt=\"Open In Colab\"/></a>"
      ]
    },
    {
      "cell_type": "code",
      "execution_count": 1,
      "metadata": {
        "id": "mGQw2Ahkci_N"
      },
      "outputs": [],
      "source": [
        "import pandas as pd\n",
        "import numpy as np\n",
        "import matplotlib.pyplot as plt\n",
        "from sklearn.model_selection import train_test_split\n",
        "from sklearn.linear_model import LinearRegression\n",
        "\n"
      ]
    },
    {
      "cell_type": "code",
      "source": [
        "# Load the CSV dataset\n",
        "data = pd.read_excel('/content/LReression 15.06.2022.xlsx')"
      ],
      "metadata": {
        "id": "-LOiAxllcqLV"
      },
      "execution_count": 2,
      "outputs": []
    },
    {
      "cell_type": "code",
      "source": [
        "# Prepare the data\n",
        "X = data['Height (Inches)'].values.reshape(-1, 1)\n",
        "y = data['Weight (Pounds)'].values"
      ],
      "metadata": {
        "id": "H2OqXHHKcsIF"
      },
      "execution_count": 3,
      "outputs": []
    },
    {
      "cell_type": "code",
      "source": [
        "# Split the data into training and testing sets\n",
        "X_train, X_test, y_train, y_test = train_test_split(X, y, test_size=0.2, random_state=42)"
      ],
      "metadata": {
        "id": "DrycKzqgct-C"
      },
      "execution_count": 4,
      "outputs": []
    },
    {
      "cell_type": "code",
      "source": [
        "# Create a linear regression model\n",
        "model = LinearRegression()"
      ],
      "metadata": {
        "id": "8yDyfZifcvqo"
      },
      "execution_count": 5,
      "outputs": []
    },
    {
      "cell_type": "code",
      "source": [
        "# Train the model\n",
        "model.fit(X_train, y_train)"
      ],
      "metadata": {
        "colab": {
          "base_uri": "https://localhost:8080/",
          "height": 74
        },
        "id": "iyGS2RvAcxj-",
        "outputId": "a10242bf-30e0-46f2-dd37-aa8590dc3cbd"
      },
      "execution_count": 6,
      "outputs": [
        {
          "output_type": "execute_result",
          "data": {
            "text/plain": [
              "LinearRegression()"
            ],
            "text/html": [
              "<style>#sk-container-id-1 {color: black;background-color: white;}#sk-container-id-1 pre{padding: 0;}#sk-container-id-1 div.sk-toggleable {background-color: white;}#sk-container-id-1 label.sk-toggleable__label {cursor: pointer;display: block;width: 100%;margin-bottom: 0;padding: 0.3em;box-sizing: border-box;text-align: center;}#sk-container-id-1 label.sk-toggleable__label-arrow:before {content: \"▸\";float: left;margin-right: 0.25em;color: #696969;}#sk-container-id-1 label.sk-toggleable__label-arrow:hover:before {color: black;}#sk-container-id-1 div.sk-estimator:hover label.sk-toggleable__label-arrow:before {color: black;}#sk-container-id-1 div.sk-toggleable__content {max-height: 0;max-width: 0;overflow: hidden;text-align: left;background-color: #f0f8ff;}#sk-container-id-1 div.sk-toggleable__content pre {margin: 0.2em;color: black;border-radius: 0.25em;background-color: #f0f8ff;}#sk-container-id-1 input.sk-toggleable__control:checked~div.sk-toggleable__content {max-height: 200px;max-width: 100%;overflow: auto;}#sk-container-id-1 input.sk-toggleable__control:checked~label.sk-toggleable__label-arrow:before {content: \"▾\";}#sk-container-id-1 div.sk-estimator input.sk-toggleable__control:checked~label.sk-toggleable__label {background-color: #d4ebff;}#sk-container-id-1 div.sk-label input.sk-toggleable__control:checked~label.sk-toggleable__label {background-color: #d4ebff;}#sk-container-id-1 input.sk-hidden--visually {border: 0;clip: rect(1px 1px 1px 1px);clip: rect(1px, 1px, 1px, 1px);height: 1px;margin: -1px;overflow: hidden;padding: 0;position: absolute;width: 1px;}#sk-container-id-1 div.sk-estimator {font-family: monospace;background-color: #f0f8ff;border: 1px dotted black;border-radius: 0.25em;box-sizing: border-box;margin-bottom: 0.5em;}#sk-container-id-1 div.sk-estimator:hover {background-color: #d4ebff;}#sk-container-id-1 div.sk-parallel-item::after {content: \"\";width: 100%;border-bottom: 1px solid gray;flex-grow: 1;}#sk-container-id-1 div.sk-label:hover label.sk-toggleable__label {background-color: #d4ebff;}#sk-container-id-1 div.sk-serial::before {content: \"\";position: absolute;border-left: 1px solid gray;box-sizing: border-box;top: 0;bottom: 0;left: 50%;z-index: 0;}#sk-container-id-1 div.sk-serial {display: flex;flex-direction: column;align-items: center;background-color: white;padding-right: 0.2em;padding-left: 0.2em;position: relative;}#sk-container-id-1 div.sk-item {position: relative;z-index: 1;}#sk-container-id-1 div.sk-parallel {display: flex;align-items: stretch;justify-content: center;background-color: white;position: relative;}#sk-container-id-1 div.sk-item::before, #sk-container-id-1 div.sk-parallel-item::before {content: \"\";position: absolute;border-left: 1px solid gray;box-sizing: border-box;top: 0;bottom: 0;left: 50%;z-index: -1;}#sk-container-id-1 div.sk-parallel-item {display: flex;flex-direction: column;z-index: 1;position: relative;background-color: white;}#sk-container-id-1 div.sk-parallel-item:first-child::after {align-self: flex-end;width: 50%;}#sk-container-id-1 div.sk-parallel-item:last-child::after {align-self: flex-start;width: 50%;}#sk-container-id-1 div.sk-parallel-item:only-child::after {width: 0;}#sk-container-id-1 div.sk-dashed-wrapped {border: 1px dashed gray;margin: 0 0.4em 0.5em 0.4em;box-sizing: border-box;padding-bottom: 0.4em;background-color: white;}#sk-container-id-1 div.sk-label label {font-family: monospace;font-weight: bold;display: inline-block;line-height: 1.2em;}#sk-container-id-1 div.sk-label-container {text-align: center;}#sk-container-id-1 div.sk-container {/* jupyter's `normalize.less` sets `[hidden] { display: none; }` but bootstrap.min.css set `[hidden] { display: none !important; }` so we also need the `!important` here to be able to override the default hidden behavior on the sphinx rendered scikit-learn.org. See: https://github.com/scikit-learn/scikit-learn/issues/21755 */display: inline-block !important;position: relative;}#sk-container-id-1 div.sk-text-repr-fallback {display: none;}</style><div id=\"sk-container-id-1\" class=\"sk-top-container\"><div class=\"sk-text-repr-fallback\"><pre>LinearRegression()</pre><b>In a Jupyter environment, please rerun this cell to show the HTML representation or trust the notebook. <br />On GitHub, the HTML representation is unable to render, please try loading this page with nbviewer.org.</b></div><div class=\"sk-container\" hidden><div class=\"sk-item\"><div class=\"sk-estimator sk-toggleable\"><input class=\"sk-toggleable__control sk-hidden--visually\" id=\"sk-estimator-id-1\" type=\"checkbox\" checked><label for=\"sk-estimator-id-1\" class=\"sk-toggleable__label sk-toggleable__label-arrow\">LinearRegression</label><div class=\"sk-toggleable__content\"><pre>LinearRegression()</pre></div></div></div></div></div>"
            ]
          },
          "metadata": {},
          "execution_count": 6
        }
      ]
    },
    {
      "cell_type": "code",
      "source": [
        "# Make predictions\n",
        "y_pred = model.predict(X_test)"
      ],
      "metadata": {
        "id": "I0KIqeNVczhw"
      },
      "execution_count": 11,
      "outputs": []
    },
    {
      "cell_type": "code",
      "source": [
        "# Get the coefficients (slope) and intercept of the regression line\n",
        "slope = model.coef_[0]\n",
        "intercept = model.intercept_\n",
        "\n",
        "# Print the coefficients and intercept\n",
        "print(\"Slope (Coefficient):\", slope)\n",
        "print(\"Intercept:\", intercept)\n"
      ],
      "metadata": {
        "colab": {
          "base_uri": "https://localhost:8080/"
        },
        "id": "qcIBxkyPd34u",
        "outputId": "4d683f60-dbca-401e-feb2-5d2fddf607f5"
      },
      "execution_count": 9,
      "outputs": [
        {
          "output_type": "stream",
          "name": "stdout",
          "text": [
            "Slope (Coefficient): 8.877856069700002\n",
            "Intercept: -431.7996659866958\n"
          ]
        }
      ]
    },
    {
      "cell_type": "code",
      "source": [
        "from sklearn.metrics import r2_score\n",
        "\n",
        "# Calculate R-squared value\n",
        "r2 = r2_score(y_test, y_pred)\n",
        "\n",
        "print(\"R-squared value:\", r2)\n"
      ],
      "metadata": {
        "colab": {
          "base_uri": "https://localhost:8080/"
        },
        "id": "bfV6-TW0eCkg",
        "outputId": "5dd268be-8abf-4088-f008-743bea77e045"
      },
      "execution_count": 10,
      "outputs": [
        {
          "output_type": "stream",
          "name": "stdout",
          "text": [
            "R-squared value: 0.833684026550027\n"
          ]
        }
      ]
    },
    {
      "cell_type": "code",
      "source": [
        "# Plot the results\n",
        "plt.scatter(X_test, y_test, color='blue')\n",
        "plt.plot(X_test, y_pred, color='red', linewidth=3)\n",
        "plt.xlabel('Weight')\n",
        "plt.ylabel('Height')\n",
        "plt.title('Height vs Weight Linear Regression')\n",
        "plt.show()"
      ],
      "metadata": {
        "id": "9AxkzqXpc1N2"
      },
      "execution_count": null,
      "outputs": []
    },
    {
      "cell_type": "markdown",
      "source": [
        "# Linear Regression\n",
        "\n",
        "linear regression aims to achieve the following objectives:\n",
        "\n",
        "**Prediction:**\n",
        "Linear regression is used to predict the value of the dependent variable based on the values of the independent variables. Once the linear relationship is established, the model can be used to make predictions for new or unseen data points.\n",
        "\n",
        "**Understanding Relationships:**\n",
        "Linear regression helps to understand the nature and strength of the relationship *between the dependent and independent variables*. It quantifies how changes in the independent variables are associated with changes in the dependent variable.\n",
        "\n",
        "**Model Interpretation:**\n",
        "\n",
        "Linear regression provides coefficients for each independent variable, which represent *the change in the dependent variable for a unit change in the corresponding independent variable, while keeping other variables constant.*\n",
        "\n",
        "**Hypothesis Testing:**\n",
        "Linear regression allows for hypothesis testing to determine if *the relationship between the variables is statistically significant.* This helps in making informed decisions about the inclusion or exclusion of variables in the model.\n",
        "\n",
        "**Assumptions Checking:**\n",
        "\n",
        "Linear regression involves certain assumptions about the data, such as *linearity, independence of errors, homoscedasticity (constant variance of errors), and normally distributed errors*. Checking these assumptions helps ensure the validity of the model.\n",
        "\n",
        "**Model Evaluation:**\n",
        "\n",
        "Linear regression models can be evaluated using various metrics such as *Mean Squared Error (MSE), Root Mean Squared Error (RMSE), and R-squared (coefficient of determination)* to assess how well the model fits the data."
      ],
      "metadata": {
        "id": "ZYpvlN0ihsOc"
      }
    },
    {
      "cell_type": "code",
      "source": [
        "import pandas as pd\n",
        "import numpy as np\n",
        "from sklearn.linear_model import LinearRegression\n",
        "from sklearn.metrics import r2_score, mean_squared_error\n",
        "\n",
        "# Read the dataset\n",
        "data = pd.read_excel(\"/content/LReression 15.06.2022.xlsx\")  # Replace with your file path\n",
        "\n",
        "# Separate the independent (X) and dependent (y) variables\n",
        "X = data[['Height (Inches)']]\n",
        "y = data['Weight (Pounds)']\n",
        "\n",
        "# Create a linear regression model\n",
        "model = LinearRegression()\n",
        "model.fit(X, y)\n",
        "\n",
        "# Coefficients and intercept\n",
        "a = model.coef_[0]\n",
        "b = model.intercept_\n",
        "\n",
        "# Calculate the predicted values\n",
        "predicted_values = model.predict(X)\n",
        "\n",
        "# Calculate R-squared\n",
        "r_squared = r2_score(y, predicted_values)\n",
        "\n",
        "# Calculate the residual values\n",
        "residuals = y - predicted_values\n",
        "\n",
        "# Calculate the mean squared error\n",
        "mse = mean_squared_error(y, predicted_values)\n",
        "\n",
        "# Calculate the total sum of squares\n",
        "tss = np.sum((y - np.mean(y))**2)\n",
        "\n",
        "# Calculate the regression sum of squares\n",
        "rss = np.sum((predicted_values - np.mean(y))**2)\n",
        "\n",
        "# Calculate the explained sum of squares\n",
        "ess = tss - rss\n",
        "\n",
        "# Calculate the coefficient of determination (r-squared)\n",
        "r_squared = rss / tss\n",
        "\n",
        "# Calculate the root mean squared error (RMSE)\n",
        "rmse = np.sqrt(mse)\n",
        "\n",
        "# Calculate the standard error of the regression (SER)\n",
        "ser = np.sqrt(np.sum(residuals**2) / (len(data) - 2))\n",
        "\n",
        "# Print the results\n",
        "print(\"Linear Equation: y = {:.2f}x + {:.2f}\".format(a, b))\n",
        "print(\"Coefficient a:\", a)\n",
        "print(\"Coefficient b:\", b)\n",
        "print(\"R-squared:\", r_squared)\n",
        "print(\"Predicted Values:\", predicted_values)\n",
        "print(\"Residuals:\", residuals)\n",
        "print(\"Mean Squared Error:\", mse)\n",
        "print(\"Root Mean Squared Error:\", rmse)\n",
        "print(\"Standard Error of the Regression:\", ser)\n"
      ],
      "metadata": {
        "colab": {
          "base_uri": "https://localhost:8080/"
        },
        "id": "HJjF5bp3hrOE",
        "outputId": "68c922f1-da3f-4ab2-bb6c-f360ab79e13c"
      },
      "execution_count": 16,
      "outputs": [
        {
          "output_type": "stream",
          "name": "stdout",
          "text": [
            "Linear Equation: y = 9.16x + -449.47\n",
            "Coefficient a: 9.157797586889968\n",
            "Coefficient b: -449.47144786601837\n",
            "R-squared: 0.8661980476221955\n",
            "Predicted Values: [226.37401405 180.58502611 229.12135332 207.14263911 190.65860346\n",
            " 166.84832973 180.58502611 176.00612732 164.10099046 132.0486989\n",
            "  89.92283    147.6169548  131.13291914 141.20649649 116.480443\n",
            " 154.94319287 126.55402035 152.19585359 117.39622276 133.88025842]\n",
            "Residuals: 0     15.525986\n",
            "1    -18.285026\n",
            "2    -16.421353\n",
            "3     12.857361\n",
            "4     15.641397\n",
            "5    -14.648330\n",
            "6      3.314974\n",
            "7     -8.006127\n",
            "8     11.799010\n",
            "9     24.351301\n",
            "10    12.177170\n",
            "11    -6.316955\n",
            "12    -0.132919\n",
            "13   -13.006496\n",
            "14    13.319557\n",
            "15     1.856807\n",
            "16   -11.554020\n",
            "17    12.904146\n",
            "18    -5.696223\n",
            "19   -29.680258\n",
            "Name: Weight (Pounds), dtype: float64\n",
            "Mean Squared Error: 201.424843620565\n",
            "Root Mean Squared Error: 14.192422049127662\n",
            "Standard Error of the Regression: 14.960126396545846\n"
          ]
        }
      ]
    },
    {
      "cell_type": "markdown",
      "source": [
        "#Mean Squared Error (MSE):\n",
        "MSE = Σ(Error²) / n\n",
        "#Root Mean Squared Error (RMSE):\n",
        "RMSE = √MSE\n",
        "#Standard Error of the Regression (SER):\n",
        "SER = √(Σ(Error²) / (n - k - 1))\n",
        "\n",
        "N is the total number of data\n",
        "K is the no of predictors used\n",
        "\n"
      ],
      "metadata": {
        "id": "5Oo5r379hq1G"
      }
    },
    {
      "cell_type": "code",
      "source": [
        "# Plot the results\n",
        "plt.scatter(X, y, color='blue')\n",
        "plt.plot(X, predicted_values, color='red', linewidth=3)\n",
        "plt.xlabel('Weight')\n",
        "plt.ylabel('Height')\n",
        "plt.title('Height vs Weight Linear Regression')\n",
        "plt.show()"
      ],
      "metadata": {
        "colab": {
          "base_uri": "https://localhost:8080/",
          "height": 472
        },
        "id": "UdXQVXJussEq",
        "outputId": "d9dcd37e-d16c-4692-e1fc-e436aec07988"
      },
      "execution_count": 17,
      "outputs": [
        {
          "output_type": "display_data",
          "data": {
            "text/plain": [
              "<Figure size 640x480 with 1 Axes>"
            ],
            "image/png": "[encoded data removed]"
          },
          "metadata": {}
        }
      ]
    }
  ]
}