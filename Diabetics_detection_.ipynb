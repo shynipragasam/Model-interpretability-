{
  "nbformat": 4,
  "nbformat_minor": 0,
  "metadata": {
    "colab": {
      "provenance": [],
      "authorship_tag": "ABX9TyPw9ZTXmQ32/a+kEBZU3Lup",
      "include_colab_link": true
    },
    "kernelspec": {
      "name": "python3",
      "display_name": "Python 3"
    },
    "language_info": {
      "name": "python"
    }
  },
  "cells": [
    {
      "cell_type": "markdown",
      "metadata": {
        "id": "view-in-github",
        "colab_type": "text"
      },
      "source": [
        "<a href=\"https://colab.research.google.com/github/shynipragasam/Model-interpretability-/blob/main/Diabetics_detection_.ipynb\" target=\"_parent\"><img src=\"https://colab.research.google.com/assets/colab-badge.svg\" alt=\"Open In Colab\"/></a>"
      ]
    },
    {
      "cell_type": "code",
      "execution_count": 20,
      "metadata": {
        "id": "ji02Qb6oAoya"
      },
      "outputs": [],
      "source": [
        "from numpy import loadtxt #handle/load dataset\n",
        "from keras.models import Sequential #Empty working area \n",
        "from keras.layers import Dense #Dense layer \n",
        "from sklearn.metrics import accuracy_score\n",
        "\n",
        "dataset = loadtxt('/content/PI_diabetes.csv', delimiter=',')\n",
        "\n"
      ]
    },
    {
      "cell_type": "code",
      "source": [
        "x = dataset[:,0:8]\n",
        "y = dataset[:,8]\n",
        "print(x)\n",
        "\n",
        "\n"
      ],
      "metadata": {
        "id": "WT8qOygsHvFu"
      },
      "execution_count": null,
      "outputs": []
    },
    {
      "cell_type": "code",
      "source": [
        "model = Sequential()\n",
        "model.add(Dense(12, input_dim=8, activation='relu'))\n",
        "model.add(Dense(8, activation='relu'))\n",
        "model.add(Dense(1, activation='sigmoid'))\n",
        "\n"
      ],
      "metadata": {
        "id": "tYEJJxyUHwjm"
      },
      "execution_count": 4,
      "outputs": []
    },
    {
      "cell_type": "code",
      "source": [
        "model.compile(loss='binary_crossentropy', optimizer='adam', metrics=['accuracy'])\n",
        "model.fit(x, y, epochs=200, batch_size=10)\n",
        "\n"
      ],
      "metadata": {
        "colab": {
          "base_uri": "https://localhost:8080/"
        },
        "id": "AtMAMm0sH15u",
        "outputId": "9b6991c1-f9dc-4623-c227-94b210ca07b9"
      },
      "execution_count": 22,
      "outputs": [
        {
          "output_type": "stream",
          "name": "stdout",
          "text": [
            "Epoch 1/200\n",
            "77/77 [==============================] - 1s 2ms/step - loss: 0.5181 - accuracy: 0.7565\n",
            "Epoch 2/200\n",
            "77/77 [==============================] - 0s 2ms/step - loss: 0.5097 - accuracy: 0.7656\n",
            "Epoch 3/200\n",
            "77/77 [==============================] - 0s 2ms/step - loss: 0.4990 - accuracy: 0.7734\n",
            "Epoch 4/200\n",
            "77/77 [==============================] - 0s 2ms/step - loss: 0.5201 - accuracy: 0.7565\n",
            "Epoch 5/200\n",
            "77/77 [==============================] - 0s 2ms/step - loss: 0.4989 - accuracy: 0.7656\n",
            "Epoch 6/200\n",
            "77/77 [==============================] - 0s 2ms/step - loss: 0.5268 - accuracy: 0.7500\n",
            "Epoch 7/200\n",
            "77/77 [==============================] - 0s 2ms/step - loss: 0.4893 - accuracy: 0.7721\n",
            "Epoch 8/200\n",
            "77/77 [==============================] - 0s 2ms/step - loss: 0.5560 - accuracy: 0.7344\n",
            "Epoch 9/200\n",
            "77/77 [==============================] - 0s 2ms/step - loss: 0.5075 - accuracy: 0.7656\n",
            "Epoch 10/200\n",
            "77/77 [==============================] - 0s 2ms/step - loss: 0.5218 - accuracy: 0.7422\n",
            "Epoch 11/200\n",
            "77/77 [==============================] - 0s 2ms/step - loss: 0.5155 - accuracy: 0.7604\n",
            "Epoch 12/200\n",
            "77/77 [==============================] - 0s 2ms/step - loss: 0.5061 - accuracy: 0.7604\n",
            "Epoch 13/200\n",
            "77/77 [==============================] - 0s 2ms/step - loss: 0.4992 - accuracy: 0.7552\n",
            "Epoch 14/200\n",
            "77/77 [==============================] - 0s 2ms/step - loss: 0.4966 - accuracy: 0.7669\n",
            "Epoch 15/200\n",
            "77/77 [==============================] - 0s 2ms/step - loss: 0.5798 - accuracy: 0.7148\n",
            "Epoch 16/200\n",
            "77/77 [==============================] - 0s 2ms/step - loss: 0.5066 - accuracy: 0.7552\n",
            "Epoch 17/200\n",
            "77/77 [==============================] - 0s 2ms/step - loss: 0.5299 - accuracy: 0.7487\n",
            "Epoch 18/200\n",
            "77/77 [==============================] - 0s 2ms/step - loss: 0.5029 - accuracy: 0.7526\n",
            "Epoch 19/200\n",
            "77/77 [==============================] - 0s 2ms/step - loss: 0.5031 - accuracy: 0.7721\n",
            "Epoch 20/200\n",
            "77/77 [==============================] - 0s 2ms/step - loss: 0.5009 - accuracy: 0.7695\n",
            "Epoch 21/200\n",
            "77/77 [==============================] - 0s 2ms/step - loss: 0.5001 - accuracy: 0.7656\n",
            "Epoch 22/200\n",
            "77/77 [==============================] - 0s 2ms/step - loss: 0.5021 - accuracy: 0.7591\n",
            "Epoch 23/200\n",
            "77/77 [==============================] - 0s 2ms/step - loss: 0.5297 - accuracy: 0.7513\n",
            "Epoch 24/200\n",
            "77/77 [==============================] - 0s 2ms/step - loss: 0.5070 - accuracy: 0.7526\n",
            "Epoch 25/200\n",
            "77/77 [==============================] - 0s 2ms/step - loss: 0.5109 - accuracy: 0.7513\n",
            "Epoch 26/200\n",
            "77/77 [==============================] - 0s 2ms/step - loss: 0.4976 - accuracy: 0.7630\n",
            "Epoch 27/200\n",
            "77/77 [==============================] - 0s 2ms/step - loss: 0.4976 - accuracy: 0.7669\n",
            "Epoch 28/200\n",
            "77/77 [==============================] - 0s 2ms/step - loss: 0.4938 - accuracy: 0.7630\n",
            "Epoch 29/200\n",
            "77/77 [==============================] - 0s 3ms/step - loss: 0.4971 - accuracy: 0.7617\n",
            "Epoch 30/200\n",
            "77/77 [==============================] - 0s 3ms/step - loss: 0.5078 - accuracy: 0.7643\n",
            "Epoch 31/200\n",
            "77/77 [==============================] - 0s 3ms/step - loss: 0.4900 - accuracy: 0.7721\n",
            "Epoch 32/200\n",
            "77/77 [==============================] - 0s 3ms/step - loss: 0.5136 - accuracy: 0.7630\n",
            "Epoch 33/200\n",
            "77/77 [==============================] - 0s 3ms/step - loss: 0.5326 - accuracy: 0.7578\n",
            "Epoch 34/200\n",
            "77/77 [==============================] - 0s 4ms/step - loss: 0.4982 - accuracy: 0.7500\n",
            "Epoch 35/200\n",
            "77/77 [==============================] - 0s 3ms/step - loss: 0.5098 - accuracy: 0.7773\n",
            "Epoch 36/200\n",
            "77/77 [==============================] - 0s 3ms/step - loss: 0.4978 - accuracy: 0.7682\n",
            "Epoch 37/200\n",
            "77/77 [==============================] - 0s 3ms/step - loss: 0.5165 - accuracy: 0.7604\n",
            "Epoch 38/200\n",
            "77/77 [==============================] - 0s 3ms/step - loss: 0.5293 - accuracy: 0.7461\n",
            "Epoch 39/200\n",
            "77/77 [==============================] - 0s 3ms/step - loss: 0.4857 - accuracy: 0.7839\n",
            "Epoch 40/200\n",
            "77/77 [==============================] - 0s 3ms/step - loss: 0.4877 - accuracy: 0.7695\n",
            "Epoch 41/200\n",
            "77/77 [==============================] - 0s 2ms/step - loss: 0.5038 - accuracy: 0.7682\n",
            "Epoch 42/200\n",
            "77/77 [==============================] - 0s 2ms/step - loss: 0.4948 - accuracy: 0.7695\n",
            "Epoch 43/200\n",
            "77/77 [==============================] - 0s 2ms/step - loss: 0.5055 - accuracy: 0.7643\n",
            "Epoch 44/200\n",
            "77/77 [==============================] - 0s 2ms/step - loss: 0.5006 - accuracy: 0.7669\n",
            "Epoch 45/200\n",
            "77/77 [==============================] - 0s 2ms/step - loss: 0.4854 - accuracy: 0.7656\n",
            "Epoch 46/200\n",
            "77/77 [==============================] - 0s 2ms/step - loss: 0.5060 - accuracy: 0.7461\n",
            "Epoch 47/200\n",
            "77/77 [==============================] - 0s 2ms/step - loss: 0.4980 - accuracy: 0.7786\n",
            "Epoch 48/200\n",
            "77/77 [==============================] - 0s 2ms/step - loss: 0.4858 - accuracy: 0.7708\n",
            "Epoch 49/200\n",
            "77/77 [==============================] - 0s 2ms/step - loss: 0.5622 - accuracy: 0.7396\n",
            "Epoch 50/200\n",
            "77/77 [==============================] - 0s 2ms/step - loss: 0.5196 - accuracy: 0.7565\n",
            "Epoch 51/200\n",
            "77/77 [==============================] - 0s 2ms/step - loss: 0.4913 - accuracy: 0.7565\n",
            "Epoch 52/200\n",
            "77/77 [==============================] - 0s 2ms/step - loss: 0.5027 - accuracy: 0.7604\n",
            "Epoch 53/200\n",
            "77/77 [==============================] - 0s 2ms/step - loss: 0.5065 - accuracy: 0.7760\n",
            "Epoch 54/200\n",
            "77/77 [==============================] - 0s 2ms/step - loss: 0.5049 - accuracy: 0.7669\n",
            "Epoch 55/200\n",
            "77/77 [==============================] - 0s 2ms/step - loss: 0.5138 - accuracy: 0.7695\n",
            "Epoch 56/200\n",
            "77/77 [==============================] - 0s 2ms/step - loss: 0.4945 - accuracy: 0.7526\n",
            "Epoch 57/200\n",
            "77/77 [==============================] - 0s 2ms/step - loss: 0.5028 - accuracy: 0.7552\n",
            "Epoch 58/200\n",
            "77/77 [==============================] - 0s 2ms/step - loss: 0.4843 - accuracy: 0.7786\n",
            "Epoch 59/200\n",
            "77/77 [==============================] - 0s 2ms/step - loss: 0.4861 - accuracy: 0.7760\n",
            "Epoch 60/200\n",
            "77/77 [==============================] - 0s 2ms/step - loss: 0.4821 - accuracy: 0.7839\n",
            "Epoch 61/200\n",
            "77/77 [==============================] - 0s 2ms/step - loss: 0.5485 - accuracy: 0.7461\n",
            "Epoch 62/200\n",
            "77/77 [==============================] - 0s 2ms/step - loss: 0.5303 - accuracy: 0.7383\n",
            "Epoch 63/200\n",
            "77/77 [==============================] - 0s 2ms/step - loss: 0.4918 - accuracy: 0.7721\n",
            "Epoch 64/200\n",
            "77/77 [==============================] - 0s 2ms/step - loss: 0.5366 - accuracy: 0.7305\n",
            "Epoch 65/200\n",
            "77/77 [==============================] - 0s 2ms/step - loss: 0.4916 - accuracy: 0.7786\n",
            "Epoch 66/200\n",
            "77/77 [==============================] - 0s 2ms/step - loss: 0.5052 - accuracy: 0.7643\n",
            "Epoch 67/200\n",
            "77/77 [==============================] - 0s 2ms/step - loss: 0.5023 - accuracy: 0.7656\n",
            "Epoch 68/200\n",
            "77/77 [==============================] - 0s 2ms/step - loss: 0.5139 - accuracy: 0.7578\n",
            "Epoch 69/200\n",
            "77/77 [==============================] - 0s 2ms/step - loss: 0.5030 - accuracy: 0.7617\n",
            "Epoch 70/200\n",
            "77/77 [==============================] - 0s 2ms/step - loss: 0.4780 - accuracy: 0.7747\n",
            "Epoch 71/200\n",
            "77/77 [==============================] - 0s 2ms/step - loss: 0.4798 - accuracy: 0.7656\n",
            "Epoch 72/200\n",
            "77/77 [==============================] - 0s 2ms/step - loss: 0.4885 - accuracy: 0.7656\n",
            "Epoch 73/200\n",
            "77/77 [==============================] - 0s 2ms/step - loss: 0.4916 - accuracy: 0.7695\n",
            "Epoch 74/200\n",
            "77/77 [==============================] - 0s 2ms/step - loss: 0.4763 - accuracy: 0.7721\n",
            "Epoch 75/200\n",
            "77/77 [==============================] - 0s 2ms/step - loss: 0.4780 - accuracy: 0.7721\n",
            "Epoch 76/200\n",
            "77/77 [==============================] - 0s 2ms/step - loss: 0.4948 - accuracy: 0.7747\n",
            "Epoch 77/200\n",
            "77/77 [==============================] - 0s 2ms/step - loss: 0.4856 - accuracy: 0.7578\n",
            "Epoch 78/200\n",
            "77/77 [==============================] - 0s 2ms/step - loss: 0.4935 - accuracy: 0.7695\n",
            "Epoch 79/200\n",
            "77/77 [==============================] - 0s 2ms/step - loss: 0.5194 - accuracy: 0.7552\n",
            "Epoch 80/200\n",
            "77/77 [==============================] - 0s 2ms/step - loss: 0.5096 - accuracy: 0.7448\n",
            "Epoch 81/200\n",
            "77/77 [==============================] - 0s 2ms/step - loss: 0.4881 - accuracy: 0.7721\n",
            "Epoch 82/200\n",
            "77/77 [==============================] - 0s 2ms/step - loss: 0.5051 - accuracy: 0.7643\n",
            "Epoch 83/200\n",
            "77/77 [==============================] - 0s 2ms/step - loss: 0.4872 - accuracy: 0.7708\n",
            "Epoch 84/200\n",
            "77/77 [==============================] - 0s 2ms/step - loss: 0.5146 - accuracy: 0.7448\n",
            "Epoch 85/200\n",
            "77/77 [==============================] - 0s 2ms/step - loss: 0.4794 - accuracy: 0.7773\n",
            "Epoch 86/200\n",
            "77/77 [==============================] - 0s 2ms/step - loss: 0.4930 - accuracy: 0.7591\n",
            "Epoch 87/200\n",
            "77/77 [==============================] - 0s 2ms/step - loss: 0.4978 - accuracy: 0.7565\n",
            "Epoch 88/200\n",
            "77/77 [==============================] - 0s 2ms/step - loss: 0.4807 - accuracy: 0.7604\n",
            "Epoch 89/200\n",
            "77/77 [==============================] - 0s 2ms/step - loss: 0.4820 - accuracy: 0.7760\n",
            "Epoch 90/200\n",
            "77/77 [==============================] - 0s 2ms/step - loss: 0.4836 - accuracy: 0.7773\n",
            "Epoch 91/200\n",
            "77/77 [==============================] - 0s 2ms/step - loss: 0.4755 - accuracy: 0.7812\n",
            "Epoch 92/200\n",
            "77/77 [==============================] - 0s 2ms/step - loss: 0.4886 - accuracy: 0.7721\n",
            "Epoch 93/200\n",
            "77/77 [==============================] - 0s 2ms/step - loss: 0.4786 - accuracy: 0.7760\n",
            "Epoch 94/200\n",
            "77/77 [==============================] - 0s 2ms/step - loss: 0.5073 - accuracy: 0.7747\n",
            "Epoch 95/200\n",
            "77/77 [==============================] - 0s 2ms/step - loss: 0.4788 - accuracy: 0.7656\n",
            "Epoch 96/200\n",
            "77/77 [==============================] - 0s 2ms/step - loss: 0.4968 - accuracy: 0.7643\n",
            "Epoch 97/200\n",
            "77/77 [==============================] - 0s 2ms/step - loss: 0.4788 - accuracy: 0.7643\n",
            "Epoch 98/200\n",
            "77/77 [==============================] - 0s 2ms/step - loss: 0.4778 - accuracy: 0.7747\n",
            "Epoch 99/200\n",
            "77/77 [==============================] - 0s 2ms/step - loss: 0.5209 - accuracy: 0.7539\n",
            "Epoch 100/200\n",
            "77/77 [==============================] - 0s 2ms/step - loss: 0.5111 - accuracy: 0.7656\n",
            "Epoch 101/200\n",
            "77/77 [==============================] - 0s 2ms/step - loss: 0.5182 - accuracy: 0.7539\n",
            "Epoch 102/200\n",
            "77/77 [==============================] - 0s 2ms/step - loss: 0.4764 - accuracy: 0.7812\n",
            "Epoch 103/200\n",
            "77/77 [==============================] - 0s 2ms/step - loss: 0.4736 - accuracy: 0.7773\n",
            "Epoch 104/200\n",
            "77/77 [==============================] - 0s 2ms/step - loss: 0.4813 - accuracy: 0.7773\n",
            "Epoch 105/200\n",
            "77/77 [==============================] - 0s 2ms/step - loss: 0.4905 - accuracy: 0.7578\n",
            "Epoch 106/200\n",
            "77/77 [==============================] - 0s 2ms/step - loss: 0.4765 - accuracy: 0.7734\n",
            "Epoch 107/200\n",
            "77/77 [==============================] - 0s 2ms/step - loss: 0.4729 - accuracy: 0.7799\n",
            "Epoch 108/200\n",
            "77/77 [==============================] - 0s 2ms/step - loss: 0.5074 - accuracy: 0.7578\n",
            "Epoch 109/200\n",
            "77/77 [==============================] - 0s 2ms/step - loss: 0.4772 - accuracy: 0.7786\n",
            "Epoch 110/200\n",
            "77/77 [==============================] - 0s 2ms/step - loss: 0.4724 - accuracy: 0.7708\n",
            "Epoch 111/200\n",
            "77/77 [==============================] - 0s 2ms/step - loss: 0.4907 - accuracy: 0.7617\n",
            "Epoch 112/200\n",
            "77/77 [==============================] - 0s 2ms/step - loss: 0.4666 - accuracy: 0.7747\n",
            "Epoch 113/200\n",
            "77/77 [==============================] - 0s 2ms/step - loss: 0.4988 - accuracy: 0.7539\n",
            "Epoch 114/200\n",
            "77/77 [==============================] - 0s 2ms/step - loss: 0.5027 - accuracy: 0.7760\n",
            "Epoch 115/200\n",
            "77/77 [==============================] - 0s 2ms/step - loss: 0.4932 - accuracy: 0.7721\n",
            "Epoch 116/200\n",
            "77/77 [==============================] - 0s 2ms/step - loss: 0.4804 - accuracy: 0.7852\n",
            "Epoch 117/200\n",
            "77/77 [==============================] - 0s 2ms/step - loss: 0.4893 - accuracy: 0.7682\n",
            "Epoch 118/200\n",
            "77/77 [==============================] - 0s 2ms/step - loss: 0.4827 - accuracy: 0.7734\n",
            "Epoch 119/200\n",
            "77/77 [==============================] - 0s 2ms/step - loss: 0.4821 - accuracy: 0.7695\n",
            "Epoch 120/200\n",
            "77/77 [==============================] - 0s 2ms/step - loss: 0.4858 - accuracy: 0.7734\n",
            "Epoch 121/200\n",
            "77/77 [==============================] - 0s 2ms/step - loss: 0.4889 - accuracy: 0.7708\n",
            "Epoch 122/200\n",
            "77/77 [==============================] - 0s 2ms/step - loss: 0.4732 - accuracy: 0.7799\n",
            "Epoch 123/200\n",
            "77/77 [==============================] - 0s 2ms/step - loss: 0.4844 - accuracy: 0.7760\n",
            "Epoch 124/200\n",
            "77/77 [==============================] - 0s 2ms/step - loss: 0.4995 - accuracy: 0.7630\n",
            "Epoch 125/200\n",
            "77/77 [==============================] - 0s 2ms/step - loss: 0.4831 - accuracy: 0.7617\n",
            "Epoch 126/200\n",
            "77/77 [==============================] - 0s 2ms/step - loss: 0.4877 - accuracy: 0.7695\n",
            "Epoch 127/200\n",
            "77/77 [==============================] - 0s 2ms/step - loss: 0.5126 - accuracy: 0.7578\n",
            "Epoch 128/200\n",
            "77/77 [==============================] - 0s 2ms/step - loss: 0.4796 - accuracy: 0.7643\n",
            "Epoch 129/200\n",
            "77/77 [==============================] - 0s 2ms/step - loss: 0.5050 - accuracy: 0.7578\n",
            "Epoch 130/200\n",
            "77/77 [==============================] - 0s 2ms/step - loss: 0.4820 - accuracy: 0.7682\n",
            "Epoch 131/200\n",
            "77/77 [==============================] - 0s 2ms/step - loss: 0.4743 - accuracy: 0.7799\n",
            "Epoch 132/200\n",
            "77/77 [==============================] - 0s 2ms/step - loss: 0.5016 - accuracy: 0.7500\n",
            "Epoch 133/200\n",
            "77/77 [==============================] - 0s 2ms/step - loss: 0.4810 - accuracy: 0.7799\n",
            "Epoch 134/200\n",
            "77/77 [==============================] - 0s 2ms/step - loss: 0.4918 - accuracy: 0.7552\n",
            "Epoch 135/200\n",
            "77/77 [==============================] - 0s 2ms/step - loss: 0.4767 - accuracy: 0.7786\n",
            "Epoch 136/200\n",
            "77/77 [==============================] - 0s 2ms/step - loss: 0.4787 - accuracy: 0.7812\n",
            "Epoch 137/200\n",
            "77/77 [==============================] - 0s 2ms/step - loss: 0.4898 - accuracy: 0.7669\n",
            "Epoch 138/200\n",
            "77/77 [==============================] - 0s 2ms/step - loss: 0.4772 - accuracy: 0.7669\n",
            "Epoch 139/200\n",
            "77/77 [==============================] - 0s 2ms/step - loss: 0.4785 - accuracy: 0.7773\n",
            "Epoch 140/200\n",
            "77/77 [==============================] - 0s 2ms/step - loss: 0.4739 - accuracy: 0.7773\n",
            "Epoch 141/200\n",
            "77/77 [==============================] - 0s 2ms/step - loss: 0.4760 - accuracy: 0.7747\n",
            "Epoch 142/200\n",
            "77/77 [==============================] - 0s 2ms/step - loss: 0.4961 - accuracy: 0.7578\n",
            "Epoch 143/200\n",
            "77/77 [==============================] - 0s 2ms/step - loss: 0.4975 - accuracy: 0.7682\n",
            "Epoch 144/200\n",
            "77/77 [==============================] - 0s 2ms/step - loss: 0.4885 - accuracy: 0.7826\n",
            "Epoch 145/200\n",
            "77/77 [==============================] - 0s 2ms/step - loss: 0.4876 - accuracy: 0.7604\n",
            "Epoch 146/200\n",
            "77/77 [==============================] - 0s 2ms/step - loss: 0.5288 - accuracy: 0.7578\n",
            "Epoch 147/200\n",
            "77/77 [==============================] - 0s 2ms/step - loss: 0.4747 - accuracy: 0.7656\n",
            "Epoch 148/200\n",
            "77/77 [==============================] - 0s 2ms/step - loss: 0.4828 - accuracy: 0.7721\n",
            "Epoch 149/200\n",
            "77/77 [==============================] - 0s 2ms/step - loss: 0.4747 - accuracy: 0.7747\n",
            "Epoch 150/200\n",
            "77/77 [==============================] - 0s 2ms/step - loss: 0.5568 - accuracy: 0.7331\n",
            "Epoch 151/200\n",
            "77/77 [==============================] - 0s 2ms/step - loss: 0.4908 - accuracy: 0.7773\n",
            "Epoch 152/200\n",
            "77/77 [==============================] - 0s 2ms/step - loss: 0.5111 - accuracy: 0.7513\n",
            "Epoch 153/200\n",
            "77/77 [==============================] - 0s 2ms/step - loss: 0.4753 - accuracy: 0.7799\n",
            "Epoch 154/200\n",
            "77/77 [==============================] - 0s 2ms/step - loss: 0.4871 - accuracy: 0.7643\n",
            "Epoch 155/200\n",
            "77/77 [==============================] - 0s 2ms/step - loss: 0.4760 - accuracy: 0.7669\n",
            "Epoch 156/200\n",
            "77/77 [==============================] - 0s 2ms/step - loss: 0.4689 - accuracy: 0.7773\n",
            "Epoch 157/200\n",
            "77/77 [==============================] - 0s 2ms/step - loss: 0.4803 - accuracy: 0.7799\n",
            "Epoch 158/200\n",
            "77/77 [==============================] - 0s 2ms/step - loss: 0.4802 - accuracy: 0.7734\n",
            "Epoch 159/200\n",
            "77/77 [==============================] - 0s 2ms/step - loss: 0.5468 - accuracy: 0.7331\n",
            "Epoch 160/200\n",
            "77/77 [==============================] - 0s 2ms/step - loss: 0.4700 - accuracy: 0.7812\n",
            "Epoch 161/200\n",
            "77/77 [==============================] - 0s 2ms/step - loss: 0.4875 - accuracy: 0.7773\n",
            "Epoch 162/200\n",
            "77/77 [==============================] - 0s 2ms/step - loss: 0.5024 - accuracy: 0.7565\n",
            "Epoch 163/200\n",
            "77/77 [==============================] - 0s 2ms/step - loss: 0.5060 - accuracy: 0.7604\n",
            "Epoch 164/200\n",
            "77/77 [==============================] - 0s 2ms/step - loss: 0.4855 - accuracy: 0.7630\n",
            "Epoch 165/200\n",
            "77/77 [==============================] - 0s 2ms/step - loss: 0.4905 - accuracy: 0.7578\n",
            "Epoch 166/200\n",
            "77/77 [==============================] - 0s 2ms/step - loss: 0.4858 - accuracy: 0.7669\n",
            "Epoch 167/200\n",
            "77/77 [==============================] - 0s 2ms/step - loss: 0.4957 - accuracy: 0.7695\n",
            "Epoch 168/200\n",
            "77/77 [==============================] - 0s 2ms/step - loss: 0.4873 - accuracy: 0.7643\n",
            "Epoch 169/200\n",
            "77/77 [==============================] - 0s 2ms/step - loss: 0.4743 - accuracy: 0.7669\n",
            "Epoch 170/200\n",
            "77/77 [==============================] - 0s 2ms/step - loss: 0.4885 - accuracy: 0.7695\n",
            "Epoch 171/200\n",
            "77/77 [==============================] - 0s 2ms/step - loss: 0.4789 - accuracy: 0.7734\n",
            "Epoch 172/200\n",
            "77/77 [==============================] - 0s 2ms/step - loss: 0.4865 - accuracy: 0.7786\n",
            "Epoch 173/200\n",
            "77/77 [==============================] - 0s 2ms/step - loss: 0.4922 - accuracy: 0.7734\n",
            "Epoch 174/200\n",
            "77/77 [==============================] - 0s 2ms/step - loss: 0.4679 - accuracy: 0.7708\n",
            "Epoch 175/200\n",
            "77/77 [==============================] - 0s 2ms/step - loss: 0.5207 - accuracy: 0.7552\n",
            "Epoch 176/200\n",
            "77/77 [==============================] - 0s 2ms/step - loss: 0.4923 - accuracy: 0.7708\n",
            "Epoch 177/200\n",
            "77/77 [==============================] - 0s 2ms/step - loss: 0.4644 - accuracy: 0.7812\n",
            "Epoch 178/200\n",
            "77/77 [==============================] - 0s 2ms/step - loss: 0.4705 - accuracy: 0.7747\n",
            "Epoch 179/200\n",
            "77/77 [==============================] - 0s 2ms/step - loss: 0.4808 - accuracy: 0.7839\n",
            "Epoch 180/200\n",
            "77/77 [==============================] - 0s 2ms/step - loss: 0.4839 - accuracy: 0.7669\n",
            "Epoch 181/200\n",
            "77/77 [==============================] - 0s 2ms/step - loss: 0.4716 - accuracy: 0.7786\n",
            "Epoch 182/200\n",
            "77/77 [==============================] - 0s 2ms/step - loss: 0.4782 - accuracy: 0.7734\n",
            "Epoch 183/200\n",
            "77/77 [==============================] - 0s 2ms/step - loss: 0.4709 - accuracy: 0.7878\n",
            "Epoch 184/200\n",
            "77/77 [==============================] - 0s 2ms/step - loss: 0.5107 - accuracy: 0.7539\n",
            "Epoch 185/200\n",
            "77/77 [==============================] - 0s 2ms/step - loss: 0.4709 - accuracy: 0.7930\n",
            "Epoch 186/200\n",
            "77/77 [==============================] - 0s 2ms/step - loss: 0.4814 - accuracy: 0.7604\n",
            "Epoch 187/200\n",
            "77/77 [==============================] - 0s 2ms/step - loss: 0.4727 - accuracy: 0.7786\n",
            "Epoch 188/200\n",
            "77/77 [==============================] - 0s 2ms/step - loss: 0.5073 - accuracy: 0.7682\n",
            "Epoch 189/200\n",
            "77/77 [==============================] - 0s 2ms/step - loss: 0.4980 - accuracy: 0.7708\n",
            "Epoch 190/200\n",
            "77/77 [==============================] - 0s 2ms/step - loss: 0.4990 - accuracy: 0.7604\n",
            "Epoch 191/200\n",
            "77/77 [==============================] - 0s 2ms/step - loss: 0.4773 - accuracy: 0.7826\n",
            "Epoch 192/200\n",
            "77/77 [==============================] - 0s 2ms/step - loss: 0.4983 - accuracy: 0.7643\n",
            "Epoch 193/200\n",
            "77/77 [==============================] - 0s 2ms/step - loss: 0.5000 - accuracy: 0.7656\n",
            "Epoch 194/200\n",
            "77/77 [==============================] - 0s 2ms/step - loss: 0.4740 - accuracy: 0.7734\n",
            "Epoch 195/200\n",
            "77/77 [==============================] - 0s 2ms/step - loss: 0.4905 - accuracy: 0.7565\n",
            "Epoch 196/200\n",
            "77/77 [==============================] - 0s 2ms/step - loss: 0.4735 - accuracy: 0.7773\n",
            "Epoch 197/200\n",
            "77/77 [==============================] - 0s 2ms/step - loss: 0.4716 - accuracy: 0.7747\n",
            "Epoch 198/200\n",
            "77/77 [==============================] - 0s 2ms/step - loss: 0.4803 - accuracy: 0.7656\n",
            "Epoch 199/200\n",
            "77/77 [==============================] - 0s 2ms/step - loss: 0.4747 - accuracy: 0.7773\n",
            "Epoch 200/200\n",
            "77/77 [==============================] - 0s 2ms/step - loss: 0.4843 - accuracy: 0.7773\n"
          ]
        },
        {
          "output_type": "execute_result",
          "data": {
            "text/plain": [
              "<keras.callbacks.History at 0x7fefedc1f0d0>"
            ]
          },
          "metadata": {},
          "execution_count": 22
        }
      ]
    },
    {
      "cell_type": "code",
      "source": [
        "_, accuracy = model.evaluate(x, y)\n",
        "print('Accuracy: %.2f' % (accuracy*100))\n",
        "\n"
      ],
      "metadata": {
        "colab": {
          "base_uri": "https://localhost:8080/"
        },
        "id": "4nDpQ3xpH4hF",
        "outputId": "a8711649-bd5e-4330-9c25-e93b7ab279fb"
      },
      "execution_count": 23,
      "outputs": [
        {
          "output_type": "stream",
          "name": "stdout",
          "text": [
            "24/24 [==============================] - 0s 2ms/step - loss: 0.4601 - accuracy: 0.7760\n",
            "Accuracy: 77.60\n"
          ]
        }
      ]
    },
    {
      "cell_type": "code",
      "source": [
        "model_json = model.to_json()\n",
        "with open(\"model.json\", \"w\") as json_file:\n",
        "    json_file.write(\"/content/model.json\")\n",
        "model.save_weights(\"/content/model.h5\")\n",
        "print(\"Saved model to disk\")"
      ],
      "metadata": {
        "colab": {
          "base_uri": "https://localhost:8080/",
          "height": 0
        },
        "id": "gGr62LukH6sN",
        "outputId": "33168703-3238-4fd2-dfed-e347afcf9686"
      },
      "execution_count": 8,
      "outputs": [
        {
          "output_type": "stream",
          "name": "stdout",
          "text": [
            "Saved model to disk\n"
          ]
        }
      ]
    },
    {
      "cell_type": "code",
      "source": [
        "# MLP for Pima Indians Dataset Serialize to JSON and HDF5\n",
        "from tensorflow.keras.models import Sequential, model_from_json\n",
        "from tensorflow.keras.layers import Dense\n",
        "import numpy\n",
        "import os\n",
        "# fix random seed for reproducibility\n",
        "numpy.random.seed(7)\n",
        "# load pima indians dataset\n",
        "dataset = numpy.loadtxt(\"/content/PI_diabetes.csv\", delimiter=\",\")\n"
      ],
      "metadata": {
        "id": "0J_ZT4yCL4bK"
      },
      "execution_count": 11,
      "outputs": []
    },
    {
      "cell_type": "code",
      "source": [
        "# split into input (X) and output (Y) variables\n",
        "X = dataset[:,0:8]\n",
        "Y = dataset[:,8]\n"
      ],
      "metadata": {
        "id": "wFqBjo3iMOxH"
      },
      "execution_count": 12,
      "outputs": []
    },
    {
      "cell_type": "code",
      "source": [
        "# create model\n",
        "model = Sequential()\n",
        "model.add(Dense(12, input_dim=8, activation='relu'))\n",
        "model.add(Dense(8, activation='relu'))\n",
        "model.add(Dense(1, activation='sigmoid'))\n"
      ],
      "metadata": {
        "id": "kjktfEbFMSXg"
      },
      "execution_count": 13,
      "outputs": []
    },
    {
      "cell_type": "code",
      "source": [
        "# Compile model\n",
        "model.compile(loss='binary_crossentropy', optimizer='adam', metrics=['accuracy'])\n",
        "# Fit the model\n",
        "model.fit(X, Y, epochs=150, batch_size=10, verbose=0)\n"
      ],
      "metadata": {
        "id": "FYAkmxoHMU2Q"
      },
      "execution_count": null,
      "outputs": []
    },
    {
      "cell_type": "code",
      "source": [
        "# evaluate the model\n",
        "scores = model.evaluate(X, Y, verbose=0)\n",
        "print(\"%s: %.2f%%\" % (model.metrics_names[1], scores[1]*100))\n",
        " \n"
      ],
      "metadata": {
        "id": "xR_Znm6tMXjH"
      },
      "execution_count": null,
      "outputs": []
    },
    {
      "cell_type": "code",
      "source": [
        "# serialize model to JSON\n",
        "model_json = model.to_json()\n",
        "with open(\"model.json\", \"w\") as json_file:\n",
        "    json_file.write(model_json)\n",
        "# serialize weights to HDF5\n",
        "model.save_weights(\"model.h5\")\n",
        "print(\"Saved model to disk\")\n",
        " \n",
        "\n",
        " \n"
      ],
      "metadata": {
        "colab": {
          "base_uri": "https://localhost:8080/",
          "height": 0
        },
        "id": "8CmB_eHKMadR",
        "outputId": "d360b4a6-06d5-4221-e060-9001957be8e7"
      },
      "execution_count": 16,
      "outputs": [
        {
          "output_type": "stream",
          "name": "stdout",
          "text": [
            "Saved model to disk\n"
          ]
        }
      ]
    },
    {
      "cell_type": "code",
      "source": [
        "# load json and create model\n",
        "json_file = open('model.json', 'r')\n",
        "loaded_model_json = json_file.read()\n",
        "json_file.close()\n",
        "loaded_model = model_from_json(loaded_model_json)\n"
      ],
      "metadata": {
        "id": "qZavTd7mMe3B"
      },
      "execution_count": 17,
      "outputs": []
    },
    {
      "cell_type": "code",
      "source": [
        "# load weights into new model\n",
        "loaded_model.load_weights(\"model.h5\")\n",
        "print(\"Loaded model from disk\")\n",
        " \n"
      ],
      "metadata": {
        "colab": {
          "base_uri": "https://localhost:8080/",
          "height": 0
        },
        "id": "sMVUyJCxMgqR",
        "outputId": "c5df41a7-f9a2-4175-ac79-0110a684ff4c"
      },
      "execution_count": 18,
      "outputs": [
        {
          "output_type": "stream",
          "name": "stdout",
          "text": [
            "Loaded model from disk\n"
          ]
        }
      ]
    }
  ]
}